{
 "cells": [
  {
   "cell_type": "markdown",
   "metadata": {},
   "source": [
    "# Import Libraries"
   ]
  },
  {
   "cell_type": "code",
   "execution_count": 1,
   "metadata": {},
   "outputs": [],
   "source": [
    "import pandas as pd\n",
    "import numpy as np\n",
    "import matplotlib.pyplot as plt\n",
    "import os\n",
    "from functools import reduce\n",
    "import matplotlib\n",
    "from past.builtins import xrange\n",
    "from textwrap import wrap\n",
    "from matplotlib import cm\n",
    "import random\n",
    "import matplotlib.colors as mcolors\n",
    "import seaborn as sns\n",
    "from matplotlib.patches import Rectangle\n",
    "import pickle"
   ]
  },
  {
   "cell_type": "markdown",
   "metadata": {},
   "source": [
    "# Path"
   ]
  },
  {
   "cell_type": "code",
   "execution_count": 2,
   "metadata": {},
   "outputs": [],
   "source": [
    "prefix   = 'E:/ML Fire/EPRI-Data/EPRI_OG/EPRI-FEDB_DA/'\n",
    "plot     = 'Plots/'\n",
    "old      = 'Old/'\n",
    "updated_data = 'Updated Data/'\n",
    "up_data_plot =  'Updated Data/Plots/'\n",
    "sys_plot = os.path.join(prefix, plot)\n",
    "sys_old  = os.path.join(prefix, old)\n",
    "sys_up_data = os.path.join(prefix, updated_data)\n",
    "sys_up_dplo = os.path.join(prefix, up_data_plot)"
   ]
  },
  {
   "cell_type": "markdown",
   "metadata": {},
   "source": [
    "# Import Data"
   ]
  },
  {
   "cell_type": "code",
   "execution_count": 3,
   "metadata": {},
   "outputs": [],
   "source": [
    "EPRI_up = pd.read_excel(sys_up_data + 'EPRI_1990-2014.xlsx')"
   ]
  },
  {
   "cell_type": "markdown",
   "metadata": {},
   "source": [
    "# Extracting Combustible Groups"
   ]
  },
  {
   "cell_type": "code",
   "execution_count": 4,
   "metadata": {},
   "outputs": [],
   "source": [
    "df_em_challenging = EPRI_up[EPRI_up['Disposition_new'] == 'Challenging']"
   ]
  },
  {
   "cell_type": "code",
   "execution_count": 5,
   "metadata": {},
   "outputs": [],
   "source": [
    "df_em_chal_liquid = df_em_challenging[df_em_challenging['Combustible Group'] == 'Liquid']\n",
    "df_em_chal_trans = df_em_challenging[df_em_challenging['Combustible Group'] == 'Transient']\n",
    "df_em_chal_gas = df_em_challenging[df_em_challenging['Combustible Group'] == 'Gas']\n",
    "df_em_chal_ins = df_em_challenging[df_em_challenging['Combustible Group'] == 'Insulation']\n",
    "df_em_chal_insitu = df_em_challenging[df_em_challenging['Combustible Group'] == 'In_Situ']"
   ]
  },
  {
   "cell_type": "code",
   "execution_count": 6,
   "metadata": {},
   "outputs": [],
   "source": [
    "liq_et    = df_em_chal_liquid[['Combustible Group', 'Type', 'Form', 'Building', 'Fire Type', 'Component Group']]\n",
    "trans_et  = df_em_chal_trans[['Combustible Group', 'Type', 'Form', 'Building', 'Fire Type',  'Component Group']]\n",
    "gas_et    = df_em_chal_gas[['Combustible Group', 'Type', 'Form', 'Building', 'Fire Type',  'Component Group']]\n",
    "ins_et    = df_em_chal_ins[['Combustible Group', 'Type', 'Form', 'Building', 'Fire Type',  'Component Group']]\n",
    "insitu_et = df_em_chal_insitu[['Combustible Group', 'Type', 'Form', 'Building', 'Fire Type',  'Component Group']]"
   ]
  },
  {
   "cell_type": "markdown",
   "metadata": {},
   "source": [
    "# Saving the Extracted Data"
   ]
  },
  {
   "cell_type": "code",
   "execution_count": 7,
   "metadata": {},
   "outputs": [],
   "source": [
    "liq_et.to_pickle(sys_up_data + 'liq_et')\n",
    "trans_et.to_pickle(sys_up_data + 'trans_et')\n",
    "gas_et.to_pickle(sys_up_data + 'gas_et')\n",
    "ins_et.to_pickle(sys_up_data + 'ins_et')\n",
    "insitu_et.to_pickle(sys_up_data + 'insitu_et')"
   ]
  },
  {
   "cell_type": "code",
   "execution_count": null,
   "metadata": {},
   "outputs": [],
   "source": []
  },
  {
   "cell_type": "code",
   "execution_count": 8,
   "metadata": {},
   "outputs": [],
   "source": [
    "# df = pd.read_pickle(sys_up_data + 'insitu_et')\n",
    "# df"
   ]
  },
  {
   "cell_type": "markdown",
   "metadata": {},
   "source": [
    "**Sub-categories of Other Electrical and Electronic Equipments for In-Situ CG**"
   ]
  },
  {
   "cell_type": "code",
   "execution_count": 9,
   "metadata": {},
   "outputs": [],
   "source": [
    "insitu_clotee = df_em_chal_insitu[df_em_chal_insitu['Type'] == 'Other electrical or electronic equipment']"
   ]
  },
  {
   "cell_type": "code",
   "execution_count": 14,
   "metadata": {},
   "outputs": [
    {
     "data": {
      "text/plain": [
       "Component Group   Component                                  \n",
       "Bus Duct          Segmented Bus Duct                              1\n",
       "Electric Motor    Fans                                           13\n",
       "                  Other (specify in comments)                     4\n",
       "                  MG set                                          2\n",
       "Electrical panel  Circuit breaker or other distribution panel    22\n",
       "                  Motor control center                           15\n",
       "                  Other instrument/control cabinet               10\n",
       "                  Inverter                                        8\n",
       "                  Other (specify in comments)                     8\n",
       "                  Relay rack                                      4\n",
       "                  Load center                                     3\n",
       "                  Main control board (i.e., the ma                3\n",
       "                  Electric bus bar or bus duct                    2\n",
       "                  Switchgear                                      2\n",
       "                  Wall Mounted or Sealed                          1\n",
       "Generator         Class 1A emergency generator                    1\n",
       "Pumps             Electric motor driven pumps                    24\n",
       "                  Other instrument/control cabinet                1\n",
       "Transformers      Other (capacitor voltage, potential, etc.)      8\n",
       "                  Dry transformer                                 7\n",
       "                  Oil‐filled Transformer                          7\n",
       "                  Other instrument/control cabinet                1\n",
       "Name: Component, dtype: int64"
      ]
     },
     "execution_count": 14,
     "metadata": {},
     "output_type": "execute_result"
    }
   ],
   "source": [
    "insitu_clotee.groupby(['Component Group'])['Component'].value_counts()"
   ]
  },
  {
   "cell_type": "markdown",
   "metadata": {},
   "source": [
    "**Sub-categories of Structural Component for In-Situ CG**"
   ]
  },
  {
   "cell_type": "code",
   "execution_count": 33,
   "metadata": {},
   "outputs": [],
   "source": [
    "insitu_clsc = df_em_chal_insitu[df_em_chal_insitu['Type'] == 'Temporary thermal insulation materials']"
   ]
  },
  {
   "cell_type": "code",
   "execution_count": 34,
   "metadata": {},
   "outputs": [
    {
     "data": {
      "text/plain": [
       "Component Group   Component                   \n",
       "Electrical panel  Inverter                        2\n",
       "Generator         Class 1A emergency generator    1\n",
       "                  Main turbine generator          1\n",
       "Pumps             Turbine‐driven pump             3\n",
       "                  Diesel driven pumps             1\n",
       "                  Electric motor driven pumps     1\n",
       "Name: Component, dtype: int64"
      ]
     },
     "execution_count": 34,
     "metadata": {},
     "output_type": "execute_result"
    }
   ],
   "source": [
    "insitu_clsc.groupby(['Component Group'])['Component'].value_counts()"
   ]
  },
  {
   "cell_type": "code",
   "execution_count": 32,
   "metadata": {},
   "outputs": [
    {
     "data": {
      "text/plain": [
       "array(['Other electrical or electronic equipment', 'Interior finish',\n",
       "       'Temporary thermal insulation materials', 'Structural component',\n",
       "       'Other (Specify)', nan, 'Type not specified'], dtype=object)"
      ]
     },
     "execution_count": 32,
     "metadata": {},
     "output_type": "execute_result"
    }
   ],
   "source": [
    "df_em_chal_insitu['Type'].unique()"
   ]
  },
  {
   "cell_type": "code",
   "execution_count": 20,
   "metadata": {},
   "outputs": [
    {
     "data": {
      "text/plain": [
       "array([nan, 'Transformer Oil', 'Hydrogen',\n",
       "       'Other electrical or electronic equipment',\n",
       "       'Cellulosic materials including wood, paper or other solid transients',\n",
       "       'Lube Oil or Grease', 'Mixed', 'Interior finish',\n",
       "       'Temporary electrical wiring or equipment',\n",
       "       'Temporary thermal insulation materials',\n",
       "       'Trash (i.e., solid refuse collected for disposal)',\n",
       "       'Other (Specify)', 'Structural component', 'Type not specified',\n",
       "       'Fuel Oil', 'Plastic Sheets', 'Cleaning solvents or paint',\n",
       "       'Thermal insulation materials', 'Thermoset', 'Acetylene'],\n",
       "      dtype=object)"
      ]
     },
     "execution_count": 20,
     "metadata": {},
     "output_type": "execute_result"
    }
   ],
   "source": [
    "EPRI_up['Type'].unique()"
   ]
  },
  {
   "cell_type": "code",
   "execution_count": null,
   "metadata": {},
   "outputs": [],
   "source": []
  },
  {
   "cell_type": "markdown",
   "metadata": {},
   "source": [
    "**Sub-categories of Other Cellulosic Materials for Transient CG**"
   ]
  },
  {
   "cell_type": "code",
   "execution_count": null,
   "metadata": {},
   "outputs": [],
   "source": []
  },
  {
   "cell_type": "code",
   "execution_count": 15,
   "metadata": {},
   "outputs": [],
   "source": [
    "trans_clcl = df_em_chal_trans[df_em_chal_trans['Type'] == \n",
    "                              'Cellulosic materials including wood, paper or other solid transients']"
   ]
  },
  {
   "cell_type": "code",
   "execution_count": 16,
   "metadata": {},
   "outputs": [
    {
     "data": {
      "text/plain": [
       "Component Group   Component                            \n",
       "Electrical panel  Other instrument/control cabinet         1\n",
       "Generator         Other generator (specify in comments)    1\n",
       "Other             Other instrument/control cabinet         1\n",
       "Name: Component, dtype: int64"
      ]
     },
     "execution_count": 16,
     "metadata": {},
     "output_type": "execute_result"
    }
   ],
   "source": [
    "trans_clcl.groupby(['Component Group'])['Component'].value_counts()"
   ]
  },
  {
   "cell_type": "code",
   "execution_count": null,
   "metadata": {},
   "outputs": [],
   "source": []
  },
  {
   "cell_type": "code",
   "execution_count": 17,
   "metadata": {},
   "outputs": [
    {
     "data": {
      "text/html": [
       "<div>\n",
       "<style scoped>\n",
       "    .dataframe tbody tr th:only-of-type {\n",
       "        vertical-align: middle;\n",
       "    }\n",
       "\n",
       "    .dataframe tbody tr th {\n",
       "        vertical-align: top;\n",
       "    }\n",
       "\n",
       "    .dataframe thead th {\n",
       "        text-align: right;\n",
       "    }\n",
       "</style>\n",
       "<table border=\"1\" class=\"dataframe\">\n",
       "  <thead>\n",
       "    <tr style=\"text-align: right;\">\n",
       "      <th></th>\n",
       "      <th>Unnamed: 0</th>\n",
       "      <th>FireID</th>\n",
       "      <th>Event Date_FES</th>\n",
       "      <th>Disposition_FES</th>\n",
       "      <th>Outside PA</th>\n",
       "      <th>Plant Area</th>\n",
       "      <th>Building</th>\n",
       "      <th>System</th>\n",
       "      <th>Component Group</th>\n",
       "      <th>Component</th>\n",
       "      <th>...</th>\n",
       "      <th>Unnamed: 14</th>\n",
       "      <th>Event Date_PR</th>\n",
       "      <th>Disposition_PR</th>\n",
       "      <th>Mode Prior</th>\n",
       "      <th>Mode After</th>\n",
       "      <th>Power Level Prior</th>\n",
       "      <th>Power Level After</th>\n",
       "      <th>Power Effect</th>\n",
       "      <th>EAL Declaration</th>\n",
       "      <th>Disposition_new</th>\n",
       "    </tr>\n",
       "  </thead>\n",
       "  <tbody>\n",
       "    <tr>\n",
       "      <th>5</th>\n",
       "      <td>5</td>\n",
       "      <td>6.0</td>\n",
       "      <td>7/13/1999</td>\n",
       "      <td>Potentially Challenging</td>\n",
       "      <td>No</td>\n",
       "      <td>NaN</td>\n",
       "      <td>Auxiliary Building (PWR)</td>\n",
       "      <td>NaN</td>\n",
       "      <td>Other</td>\n",
       "      <td>NaN</td>\n",
       "      <td>...</td>\n",
       "      <td>NaN</td>\n",
       "      <td>7/13/1999</td>\n",
       "      <td>Potentially Challenging</td>\n",
       "      <td>Operate</td>\n",
       "      <td>Operate</td>\n",
       "      <td>100.0</td>\n",
       "      <td>100.0</td>\n",
       "      <td>None</td>\n",
       "      <td>Unusual Event</td>\n",
       "      <td>Challenging</td>\n",
       "    </tr>\n",
       "    <tr>\n",
       "      <th>67</th>\n",
       "      <td>67</td>\n",
       "      <td>68.0</td>\n",
       "      <td>8/10/1994</td>\n",
       "      <td>Undetermined (PC‐CH)</td>\n",
       "      <td>No</td>\n",
       "      <td>NaN</td>\n",
       "      <td>Other (Specify in comments)</td>\n",
       "      <td>NaN</td>\n",
       "      <td>Other</td>\n",
       "      <td>NaN</td>\n",
       "      <td>...</td>\n",
       "      <td>NaN</td>\n",
       "      <td>8/10/1994</td>\n",
       "      <td>Undetermined (PC‐CH)</td>\n",
       "      <td>Operate</td>\n",
       "      <td>Operate</td>\n",
       "      <td>80.0</td>\n",
       "      <td>80.0</td>\n",
       "      <td>None</td>\n",
       "      <td>Unusual Event</td>\n",
       "      <td>Challenging</td>\n",
       "    </tr>\n",
       "    <tr>\n",
       "      <th>175</th>\n",
       "      <td>175</td>\n",
       "      <td>176.0</td>\n",
       "      <td>12/12/2009</td>\n",
       "      <td>Potentially Challenging</td>\n",
       "      <td>No</td>\n",
       "      <td>NaN</td>\n",
       "      <td>Other (Specify in comments)</td>\n",
       "      <td>NaN</td>\n",
       "      <td>Other</td>\n",
       "      <td>NaN</td>\n",
       "      <td>...</td>\n",
       "      <td>NaN</td>\n",
       "      <td>12/12/2009</td>\n",
       "      <td>Potentially Challenging</td>\n",
       "      <td>Operate</td>\n",
       "      <td>Operate</td>\n",
       "      <td>100.0</td>\n",
       "      <td>97.0</td>\n",
       "      <td>NaN</td>\n",
       "      <td>Unusual Event</td>\n",
       "      <td>Challenging</td>\n",
       "    </tr>\n",
       "    <tr>\n",
       "      <th>239</th>\n",
       "      <td>239</td>\n",
       "      <td>240.0</td>\n",
       "      <td>7/19/1993</td>\n",
       "      <td>Undetermined (PC‐CH)</td>\n",
       "      <td>No</td>\n",
       "      <td>Containment/Drywell</td>\n",
       "      <td>Containment (PWR)</td>\n",
       "      <td>NaN</td>\n",
       "      <td>NaN</td>\n",
       "      <td>NaN</td>\n",
       "      <td>...</td>\n",
       "      <td>NaN</td>\n",
       "      <td>7/19/1993</td>\n",
       "      <td>Undetermined (PC‐CH)</td>\n",
       "      <td>Refueling</td>\n",
       "      <td>Refueling</td>\n",
       "      <td>0.0</td>\n",
       "      <td>0.0</td>\n",
       "      <td>None</td>\n",
       "      <td>NaN</td>\n",
       "      <td>Challenging</td>\n",
       "    </tr>\n",
       "    <tr>\n",
       "      <th>1310</th>\n",
       "      <td>1310</td>\n",
       "      <td>30361.0</td>\n",
       "      <td>4/11/2001</td>\n",
       "      <td>Potentially Challenging</td>\n",
       "      <td>No</td>\n",
       "      <td>NaN</td>\n",
       "      <td>Turbine Building</td>\n",
       "      <td>NaN</td>\n",
       "      <td>Other</td>\n",
       "      <td>Other instrument/control cabinet</td>\n",
       "      <td>...</td>\n",
       "      <td>NaN</td>\n",
       "      <td>4/11/2001</td>\n",
       "      <td>Potentially Challenging</td>\n",
       "      <td>Refueling</td>\n",
       "      <td>Refueling</td>\n",
       "      <td>0.0</td>\n",
       "      <td>0.0</td>\n",
       "      <td>NaN</td>\n",
       "      <td>NaN</td>\n",
       "      <td>Challenging</td>\n",
       "    </tr>\n",
       "    <tr>\n",
       "      <th>1357</th>\n",
       "      <td>1357</td>\n",
       "      <td>30408.0</td>\n",
       "      <td>3/19/2001</td>\n",
       "      <td>Potentially Challenging</td>\n",
       "      <td>No</td>\n",
       "      <td>NaN</td>\n",
       "      <td>Turbine Building</td>\n",
       "      <td>NaN</td>\n",
       "      <td>Other</td>\n",
       "      <td>NaN</td>\n",
       "      <td>...</td>\n",
       "      <td>NaN</td>\n",
       "      <td>3/19/2001</td>\n",
       "      <td>Potentially Challenging</td>\n",
       "      <td>Operate</td>\n",
       "      <td>Operate</td>\n",
       "      <td>100.0</td>\n",
       "      <td>100.0</td>\n",
       "      <td>NaN</td>\n",
       "      <td>NaN</td>\n",
       "      <td>Challenging</td>\n",
       "    </tr>\n",
       "    <tr>\n",
       "      <th>1408</th>\n",
       "      <td>1408</td>\n",
       "      <td>30459.0</td>\n",
       "      <td>3/9/2003</td>\n",
       "      <td>Potentially Challenging</td>\n",
       "      <td>No</td>\n",
       "      <td>NaN</td>\n",
       "      <td>NaN</td>\n",
       "      <td>NaN</td>\n",
       "      <td>Electrical panel</td>\n",
       "      <td>Other instrument/control cabinet</td>\n",
       "      <td>...</td>\n",
       "      <td>NaN</td>\n",
       "      <td>3/9/2003</td>\n",
       "      <td>Potentially Challenging</td>\n",
       "      <td>Operate</td>\n",
       "      <td>Operate</td>\n",
       "      <td>100.0</td>\n",
       "      <td>100.0</td>\n",
       "      <td>NaN</td>\n",
       "      <td>NaN</td>\n",
       "      <td>Challenging</td>\n",
       "    </tr>\n",
       "    <tr>\n",
       "      <th>1515</th>\n",
       "      <td>1515</td>\n",
       "      <td>30566.0</td>\n",
       "      <td>9/11/2000</td>\n",
       "      <td>Potentially Challenging</td>\n",
       "      <td>No</td>\n",
       "      <td>NaN</td>\n",
       "      <td>Other (Specify in comments)</td>\n",
       "      <td>NaN</td>\n",
       "      <td>Other</td>\n",
       "      <td>NaN</td>\n",
       "      <td>...</td>\n",
       "      <td>NaN</td>\n",
       "      <td>9/11/2000</td>\n",
       "      <td>Potentially Challenging</td>\n",
       "      <td>Operate</td>\n",
       "      <td>Operate</td>\n",
       "      <td>100.0</td>\n",
       "      <td>100.0</td>\n",
       "      <td>NaN</td>\n",
       "      <td>NaN</td>\n",
       "      <td>Challenging</td>\n",
       "    </tr>\n",
       "    <tr>\n",
       "      <th>1560</th>\n",
       "      <td>1560</td>\n",
       "      <td>30693.0</td>\n",
       "      <td>2/3/2004</td>\n",
       "      <td>Potentially Challenging</td>\n",
       "      <td>No</td>\n",
       "      <td>NaN</td>\n",
       "      <td>Other (Specify in comments)</td>\n",
       "      <td>Emergency Onsite Power Supply System</td>\n",
       "      <td>Generator</td>\n",
       "      <td>Other generator (specify in comments)</td>\n",
       "      <td>...</td>\n",
       "      <td>NaN</td>\n",
       "      <td>2/3/2004</td>\n",
       "      <td>Not Challenging</td>\n",
       "      <td>Operate</td>\n",
       "      <td>Operate</td>\n",
       "      <td>100.0</td>\n",
       "      <td>100.0</td>\n",
       "      <td>NaN</td>\n",
       "      <td>NaN</td>\n",
       "      <td>Challenging</td>\n",
       "    </tr>\n",
       "    <tr>\n",
       "      <th>1598</th>\n",
       "      <td>1598</td>\n",
       "      <td>30731.0</td>\n",
       "      <td>3/19/2001</td>\n",
       "      <td>Potentially Challenging</td>\n",
       "      <td>No</td>\n",
       "      <td>NaN</td>\n",
       "      <td>Containment (PWR)</td>\n",
       "      <td>NaN</td>\n",
       "      <td>Other</td>\n",
       "      <td>NaN</td>\n",
       "      <td>...</td>\n",
       "      <td>NaN</td>\n",
       "      <td>3/19/2001</td>\n",
       "      <td>Potentially Challenging</td>\n",
       "      <td>Cold Shutdown</td>\n",
       "      <td>Cold Shutdown</td>\n",
       "      <td>0.0</td>\n",
       "      <td>0.0</td>\n",
       "      <td>NaN</td>\n",
       "      <td>NaN</td>\n",
       "      <td>Challenging</td>\n",
       "    </tr>\n",
       "    <tr>\n",
       "      <th>1607</th>\n",
       "      <td>1607</td>\n",
       "      <td>30740.0</td>\n",
       "      <td>2/6/2004</td>\n",
       "      <td>Potentially Challenging</td>\n",
       "      <td>No</td>\n",
       "      <td>N/A</td>\n",
       "      <td>NaN</td>\n",
       "      <td>NaN</td>\n",
       "      <td>Other</td>\n",
       "      <td>NaN</td>\n",
       "      <td>...</td>\n",
       "      <td>NaN</td>\n",
       "      <td>2/6/2004</td>\n",
       "      <td>Potentially Challenging</td>\n",
       "      <td>Operate</td>\n",
       "      <td>Operate</td>\n",
       "      <td>100.0</td>\n",
       "      <td>100.0</td>\n",
       "      <td>NaN</td>\n",
       "      <td>NaN</td>\n",
       "      <td>Challenging</td>\n",
       "    </tr>\n",
       "    <tr>\n",
       "      <th>1645</th>\n",
       "      <td>1645</td>\n",
       "      <td>40749.0</td>\n",
       "      <td>6/13/2008</td>\n",
       "      <td>Challenging</td>\n",
       "      <td>No</td>\n",
       "      <td>N/A</td>\n",
       "      <td>Turbine Building</td>\n",
       "      <td>NaN</td>\n",
       "      <td>Other</td>\n",
       "      <td>NaN</td>\n",
       "      <td>...</td>\n",
       "      <td>NaN</td>\n",
       "      <td>6/13/2008</td>\n",
       "      <td>Challenging</td>\n",
       "      <td>Operate</td>\n",
       "      <td>Operate</td>\n",
       "      <td>100.0</td>\n",
       "      <td>100.0</td>\n",
       "      <td>None</td>\n",
       "      <td>NaN</td>\n",
       "      <td>Challenging</td>\n",
       "    </tr>\n",
       "    <tr>\n",
       "      <th>2266</th>\n",
       "      <td>2266</td>\n",
       "      <td>51153.0</td>\n",
       "      <td>1/28/2010</td>\n",
       "      <td>Potentially Challenging</td>\n",
       "      <td>NaN</td>\n",
       "      <td>NaN</td>\n",
       "      <td>Turbine Building</td>\n",
       "      <td>NaN</td>\n",
       "      <td>NaN</td>\n",
       "      <td>NaN</td>\n",
       "      <td>...</td>\n",
       "      <td>NaN</td>\n",
       "      <td>1/28/2010</td>\n",
       "      <td>Potentially Challenging</td>\n",
       "      <td>Unknown</td>\n",
       "      <td>Unknown</td>\n",
       "      <td>0.0</td>\n",
       "      <td>0.0</td>\n",
       "      <td>None</td>\n",
       "      <td>NaN</td>\n",
       "      <td>Challenging</td>\n",
       "    </tr>\n",
       "  </tbody>\n",
       "</table>\n",
       "<p>13 rows × 68 columns</p>\n",
       "</div>"
      ],
      "text/plain": [
       "      Unnamed: 0   FireID Event Date_FES          Disposition_FES Outside PA  \\\n",
       "5              5      6.0      7/13/1999  Potentially Challenging         No   \n",
       "67            67     68.0      8/10/1994     Undetermined (PC‐CH)         No   \n",
       "175          175    176.0     12/12/2009  Potentially Challenging         No   \n",
       "239          239    240.0      7/19/1993     Undetermined (PC‐CH)         No   \n",
       "1310        1310  30361.0      4/11/2001  Potentially Challenging         No   \n",
       "1357        1357  30408.0      3/19/2001  Potentially Challenging         No   \n",
       "1408        1408  30459.0       3/9/2003  Potentially Challenging         No   \n",
       "1515        1515  30566.0      9/11/2000  Potentially Challenging         No   \n",
       "1560        1560  30693.0       2/3/2004  Potentially Challenging         No   \n",
       "1598        1598  30731.0      3/19/2001  Potentially Challenging         No   \n",
       "1607        1607  30740.0       2/6/2004  Potentially Challenging         No   \n",
       "1645        1645  40749.0     6/13/2008               Challenging         No   \n",
       "2266        2266  51153.0      1/28/2010  Potentially Challenging        NaN   \n",
       "\n",
       "               Plant Area                     Building  \\\n",
       "5                     NaN     Auxiliary Building (PWR)   \n",
       "67                    NaN  Other (Specify in comments)   \n",
       "175                   NaN  Other (Specify in comments)   \n",
       "239   Containment/Drywell            Containment (PWR)   \n",
       "1310                  NaN             Turbine Building   \n",
       "1357                  NaN             Turbine Building   \n",
       "1408                  NaN                          NaN   \n",
       "1515                  NaN  Other (Specify in comments)   \n",
       "1560                  NaN  Other (Specify in comments)   \n",
       "1598                  NaN            Containment (PWR)   \n",
       "1607                  N/A                          NaN   \n",
       "1645                  N/A             Turbine Building   \n",
       "2266                  NaN             Turbine Building   \n",
       "\n",
       "                                    System   Component Group  \\\n",
       "5                                      NaN             Other   \n",
       "67                                     NaN             Other   \n",
       "175                                    NaN             Other   \n",
       "239                                    NaN               NaN   \n",
       "1310                                   NaN             Other   \n",
       "1357                                   NaN             Other   \n",
       "1408                                   NaN  Electrical panel   \n",
       "1515                                   NaN             Other   \n",
       "1560  Emergency Onsite Power Supply System         Generator   \n",
       "1598                                   NaN             Other   \n",
       "1607                                   NaN             Other   \n",
       "1645                                   NaN             Other   \n",
       "2266                                   NaN               NaN   \n",
       "\n",
       "                                  Component  ... Unnamed: 14 Event Date_PR  \\\n",
       "5                                       NaN  ...         NaN     7/13/1999   \n",
       "67                                      NaN  ...         NaN     8/10/1994   \n",
       "175                                     NaN  ...         NaN    12/12/2009   \n",
       "239                                     NaN  ...         NaN    7/19/1993    \n",
       "1310       Other instrument/control cabinet  ...         NaN     4/11/2001   \n",
       "1357                                    NaN  ...         NaN     3/19/2001   \n",
       "1408       Other instrument/control cabinet  ...         NaN      3/9/2003   \n",
       "1515                                    NaN  ...         NaN     9/11/2000   \n",
       "1560  Other generator (specify in comments)  ...         NaN      2/3/2004   \n",
       "1598                                    NaN  ...         NaN     3/19/2001   \n",
       "1607                                    NaN  ...         NaN      2/6/2004   \n",
       "1645                                    NaN  ...         NaN     6/13/2008   \n",
       "2266                                    NaN  ...         NaN     1/28/2010   \n",
       "\n",
       "               Disposition_PR     Mode Prior     Mode After Power Level Prior  \\\n",
       "5     Potentially Challenging        Operate        Operate             100.0   \n",
       "67       Undetermined (PC‐CH)        Operate        Operate              80.0   \n",
       "175   Potentially Challenging        Operate        Operate             100.0   \n",
       "239     Undetermined (PC‐CH)       Refueling      Refueling               0.0   \n",
       "1310  Potentially Challenging      Refueling      Refueling               0.0   \n",
       "1357  Potentially Challenging        Operate        Operate             100.0   \n",
       "1408  Potentially Challenging        Operate        Operate             100.0   \n",
       "1515  Potentially Challenging        Operate        Operate             100.0   \n",
       "1560          Not Challenging        Operate        Operate             100.0   \n",
       "1598  Potentially Challenging  Cold Shutdown  Cold Shutdown               0.0   \n",
       "1607  Potentially Challenging        Operate        Operate             100.0   \n",
       "1645              Challenging        Operate        Operate             100.0   \n",
       "2266  Potentially Challenging        Unknown        Unknown               0.0   \n",
       "\n",
       "     Power Level After Power Effect EAL Declaration Disposition_new  \n",
       "5                100.0         None   Unusual Event     Challenging  \n",
       "67                80.0         None   Unusual Event     Challenging  \n",
       "175               97.0          NaN   Unusual Event     Challenging  \n",
       "239                0.0         None             NaN     Challenging  \n",
       "1310               0.0          NaN             NaN     Challenging  \n",
       "1357             100.0          NaN             NaN     Challenging  \n",
       "1408             100.0          NaN             NaN     Challenging  \n",
       "1515             100.0          NaN             NaN     Challenging  \n",
       "1560             100.0          NaN             NaN     Challenging  \n",
       "1598               0.0          NaN             NaN     Challenging  \n",
       "1607             100.0          NaN             NaN     Challenging  \n",
       "1645             100.0         None             NaN     Challenging  \n",
       "2266               0.0         None             NaN     Challenging  \n",
       "\n",
       "[13 rows x 68 columns]"
      ]
     },
     "execution_count": 17,
     "metadata": {},
     "output_type": "execute_result"
    }
   ],
   "source": [
    "trans_clcl"
   ]
  },
  {
   "cell_type": "code",
   "execution_count": null,
   "metadata": {},
   "outputs": [],
   "source": []
  },
  {
   "cell_type": "code",
   "execution_count": 28,
   "metadata": {},
   "outputs": [
    {
     "data": {
      "text/plain": [
       "Other electrical or electronic equipment                                723\n",
       "Other (Specify)                                                         433\n",
       "Cellulosic materials including wood, paper or other solid transients    155\n",
       "Lube Oil or Grease                                                      145\n",
       "Trash (i.e., solid refuse collected for disposal)                        99\n",
       "Temporary thermal insulation materials                                   86\n",
       "Temporary electrical wiring or equipment                                 79\n",
       "Type not specified                                                       77\n",
       "Structural component                                                     67\n",
       "Hydrogen                                                                 40\n",
       "Transformer Oil                                                          32\n",
       "Plastic Sheets                                                           26\n",
       "Fuel Oil                                                                 17\n",
       "Interior finish                                                           8\n",
       "Mixed                                                                     8\n",
       "Cleaning solvents or paint                                                6\n",
       "Thermal insulation materials                                              3\n",
       "Thermoset                                                                 2\n",
       "Acetylene                                                                 1\n",
       "Name: Type, dtype: int64"
      ]
     },
     "execution_count": 28,
     "metadata": {},
     "output_type": "execute_result"
    }
   ],
   "source": [
    "EPRI_up['Type'].value_counts()"
   ]
  },
  {
   "cell_type": "code",
   "execution_count": null,
   "metadata": {},
   "outputs": [],
   "source": []
  }
 ],
 "metadata": {
  "kernelspec": {
   "display_name": "Python 3",
   "language": "python",
   "name": "python3"
  },
  "language_info": {
   "codemirror_mode": {
    "name": "ipython",
    "version": 3
   },
   "file_extension": ".py",
   "mimetype": "text/x-python",
   "name": "python",
   "nbconvert_exporter": "python",
   "pygments_lexer": "ipython3",
   "version": "3.7.3"
  }
 },
 "nbformat": 4,
 "nbformat_minor": 4
}
