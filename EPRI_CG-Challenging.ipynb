{
 "cells": [
  {
   "cell_type": "markdown",
   "metadata": {},
   "source": [
    "# Import Libraries"
   ]
  },
  {
   "cell_type": "code",
   "execution_count": 2,
   "metadata": {},
   "outputs": [],
   "source": [
    "import pandas as pd\n",
    "import numpy as np\n",
    "import matplotlib.pyplot as plt\n",
    "import os\n",
    "from functools import reduce\n",
    "import matplotlib\n",
    "from past.builtins import xrange\n",
    "from textwrap import wrap\n",
    "from matplotlib import cm\n",
    "import random\n",
    "import matplotlib.colors as mcolors\n",
    "import seaborn as sns\n",
    "from matplotlib.patches import Rectangle\n",
    "import pickle"
   ]
  },
  {
   "cell_type": "markdown",
   "metadata": {},
   "source": [
    "# Path"
   ]
  },
  {
   "cell_type": "code",
   "execution_count": 3,
   "metadata": {},
   "outputs": [],
   "source": [
    "prefix   = 'E:/ML Fire/EPRI-Data/EPRI_OG/'\n",
    "plot     = 'Plots/'\n",
    "old      = 'Old/'\n",
    "updated_data = 'Updated Data/'\n",
    "up_data_plot =  'Updated Data/Plots/'\n",
    "sys_plot = os.path.join(prefix, plot)\n",
    "sys_old  = os.path.join(prefix, old)\n",
    "sys_up_data = os.path.join(prefix, updated_data)\n",
    "sys_up_dplo = os.path.join(prefix, up_data_plot)"
   ]
  },
  {
   "cell_type": "markdown",
   "metadata": {},
   "source": [
    "# Import Data"
   ]
  },
  {
   "cell_type": "code",
   "execution_count": 5,
   "metadata": {},
   "outputs": [],
   "source": [
    "EPRI_up = pd.read_excel(sys_up_data + 'EPRI_1990_2014.xlsx')"
   ]
  },
  {
   "cell_type": "markdown",
   "metadata": {},
   "source": [
    "# Extracting Combustible Groups"
   ]
  },
  {
   "cell_type": "code",
   "execution_count": 6,
   "metadata": {},
   "outputs": [],
   "source": [
    "df_em_challenging = EPRI_up[EPRI_up['Disposition_new'] == 'Challenging']"
   ]
  },
  {
   "cell_type": "code",
   "execution_count": 7,
   "metadata": {},
   "outputs": [],
   "source": [
    "df_em_chal_liquid = df_em_challenging[df_em_challenging['Combustible Group'] == 'Liquid']\n",
    "df_em_chal_trans = df_em_challenging[df_em_challenging['Combustible Group'] == 'Transient']\n",
    "df_em_chal_gas = df_em_challenging[df_em_challenging['Combustible Group'] == 'Gas']\n",
    "df_em_chal_ins = df_em_challenging[df_em_challenging['Combustible Group'] == 'Insulation']\n",
    "df_em_chal_insitu = df_em_challenging[df_em_challenging['Combustible Group'] == 'In_Situ']"
   ]
  },
  {
   "cell_type": "code",
   "execution_count": 8,
   "metadata": {},
   "outputs": [],
   "source": [
    "liq_et    = df_em_chal_liquid[['Combustible Group', 'Type', 'Form', 'Building', 'Fire Type', 'Component Group']]\n",
    "trans_et  = df_em_chal_trans[['Combustible Group', 'Type', 'Form', 'Building', 'Fire Type',  'Component Group']]\n",
    "gas_et    = df_em_chal_gas[['Combustible Group', 'Type', 'Form', 'Building', 'Fire Type',  'Component Group']]\n",
    "ins_et    = df_em_chal_ins[['Combustible Group', 'Type', 'Form', 'Building', 'Fire Type',  'Component Group']]\n",
    "insitu_et = df_em_chal_insitu[['Combustible Group', 'Type', 'Form', 'Building', 'Fire Type',  'Component Group']]"
   ]
  },
  {
   "cell_type": "markdown",
   "metadata": {},
   "source": [
    "# Saving the Extracted Data"
   ]
  },
  {
   "cell_type": "code",
   "execution_count": 11,
   "metadata": {},
   "outputs": [],
   "source": [
    "liq_et.to_pickle(sys_up_data + 'liq_et')\n",
    "trans_et.to_pickle(sys_up_data + 'trans_et')\n",
    "gas_et.to_pickle(sys_up_data + 'gas_et')\n",
    "ins_et.to_pickle(sys_up_data + 'ins_et')\n",
    "insitu_et.to_pickle(sys_up_data + 'insitu_et')"
   ]
  },
  {
   "cell_type": "code",
   "execution_count": null,
   "metadata": {},
   "outputs": [],
   "source": []
  },
  {
   "cell_type": "code",
   "execution_count": 13,
   "metadata": {},
   "outputs": [],
   "source": [
    "# df = pd.read_pickle(sys_up_data + 'insitu_et')\n",
    "# df"
   ]
  },
  {
   "cell_type": "code",
   "execution_count": null,
   "metadata": {},
   "outputs": [],
   "source": []
  }
 ],
 "metadata": {
  "kernelspec": {
   "display_name": "Python 3",
   "language": "python",
   "name": "python3"
  },
  "language_info": {
   "codemirror_mode": {
    "name": "ipython",
    "version": 3
   },
   "file_extension": ".py",
   "mimetype": "text/x-python",
   "name": "python",
   "nbconvert_exporter": "python",
   "pygments_lexer": "ipython3",
   "version": "3.7.3"
  }
 },
 "nbformat": 4,
 "nbformat_minor": 4
}
