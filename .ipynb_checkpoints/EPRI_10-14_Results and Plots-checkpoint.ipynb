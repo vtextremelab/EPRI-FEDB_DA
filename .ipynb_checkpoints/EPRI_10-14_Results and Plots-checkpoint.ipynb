{
 "cells": [
  {
   "cell_type": "markdown",
   "metadata": {},
   "source": [
    "# Import Libraries"
   ]
  },
  {
   "cell_type": "code",
   "execution_count": null,
   "metadata": {},
   "outputs": [],
   "source": [
    "import pandas as pd\n",
    "import numpy as np\n",
    "import matplotlib.pyplot as plt\n",
    "import os\n",
    "from functools import reduce\n",
    "import matplotlib\n",
    "from past.builtins import xrange\n",
    "from textwrap import wrap\n",
    "from matplotlib import cm\n",
    "import random\n",
    "import matplotlib.colors as mcolors\n",
    "import seaborn as sns\n",
    "import pickle"
   ]
  },
  {
   "cell_type": "code",
   "execution_count": null,
   "metadata": {},
   "outputs": [],
   "source": [
    "prefix   = 'E:/ML Fire/EPRI-Data/EPRI_OG/'\n",
    "plot     = 'Plots/'\n",
    "old      = 'Old/'\n",
    "updated_data = 'Updated Data/'\n",
    "up_data_plot =  'Updated Data/Plots/'\n",
    "sys_plot = os.path.join(prefix, plot)\n",
    "sys_old  = os.path.join(prefix, old)\n",
    "sys_up_data = os.path.join(prefix, updated_data)\n",
    "sys_up_dplo = os.path.join(prefix, up_data_plot)"
   ]
  },
  {
   "cell_type": "markdown",
   "metadata": {},
   "source": [
    "# Import EPRI data"
   ]
  },
  {
   "cell_type": "markdown",
   "metadata": {},
   "source": [
    "**Import the EPRI updated Data**"
   ]
  },
  {
   "cell_type": "code",
   "execution_count": null,
   "metadata": {},
   "outputs": [],
   "source": [
    "EPRI_up = pd.read_excel(sys_up_data + 'EPRI_1990-2014.xlsx')"
   ]
  },
  {
   "cell_type": "markdown",
   "metadata": {},
   "source": [
    "**Import Combustible Group Types in challenging Fire Events**"
   ]
  },
  {
   "cell_type": "code",
   "execution_count": null,
   "metadata": {},
   "outputs": [],
   "source": [
    "liq_et    = pd.read_pickle(sys_up_data + 'liq_et')\n",
    "trans_et  = pd.read_pickle(sys_up_data + 'trans_et')\n",
    "gas_et    = pd.read_pickle(sys_up_data + 'gas_et')\n",
    "ins_et    = pd.read_pickle(sys_up_data + 'ins_et')\n",
    "insitu_et = pd.read_pickle(sys_up_data + 'insitu_et')"
   ]
  },
  {
   "cell_type": "markdown",
   "metadata": {},
   "source": [
    "# Plots"
   ]
  },
  {
   "cell_type": "code",
   "execution_count": null,
   "metadata": {},
   "outputs": [],
   "source": [
    "df_em_challenging = EPRI_up[EPRI_up['Disposition_new'] == 'Challenging']\n",
    "df_em_challenging['Type'].value_counts().plot(kind='barh', figsize = [10, 10])"
   ]
  },
  {
   "cell_type": "code",
   "execution_count": null,
   "metadata": {},
   "outputs": [],
   "source": [
    "counts_barh = df_em_challenging['Type'].value_counts().rename_axis('unique_values').reset_index(name='counts')\n",
    "\n",
    "counts_barh['percentage'] = (counts_barh['counts'] / counts_barh['counts'].sum()) * 100\n",
    "counts_barh"
   ]
  },
  {
   "cell_type": "code",
   "execution_count": null,
   "metadata": {},
   "outputs": [],
   "source": [
    "counts_barh['counts'].sum()"
   ]
  },
  {
   "cell_type": "code",
   "execution_count": null,
   "metadata": {},
   "outputs": [],
   "source": [
    "yTickmarks = (counts_barh['unique_values'].unique().tolist())\n",
    "ylabels = [ '\\n'.join(wrap(l, 20)) for l in yTickmarks] \n",
    "\n",
    "ax = counts_barh.plot(kind='barh', x= 'unique_values', y='percentage', figsize = [22, 24])\n",
    "ax.set_yticklabels(ylabels, rotation = 0, fontsize = 18)\n",
    "ax.set_ylabel('Types', fontsize = 20, labelpad = 20)\n",
    "ax.set_xlabel('Percentage', fontsize = 20, labelpad = 20)\n",
    "ax.set_title('Percentage of Combustible Group types in challenging fire events', fontsize = 24, x= 0.5, y =1.02)\n",
    "plt.xticks(fontsize= 20)\n",
    "ax.legend(fontsize = 20)\n",
    "plt.savefig(sys_up_dplo + 'Fire Types - Cahellenging - 1990-2014')\n",
    "plt.show()"
   ]
  },
  {
   "cell_type": "code",
   "execution_count": null,
   "metadata": {},
   "outputs": [],
   "source": [
    "# counts_barh.plot(kind='barh', x= 'unique_values', y='percentage', figsize = [22, 20])"
   ]
  },
  {
   "cell_type": "code",
   "execution_count": null,
   "metadata": {},
   "outputs": [],
   "source": [
    "ot_chal = df_em_challenging.groupby('Combustible Group')['Type'].apply(lambda x: x[x == 'Other (Specify)'].count())\n",
    "ot_chal = ot_chal.reset_index(name='counts')\n",
    "ot_chal['percentage'] = (ot_chal['counts'] /counts_barh['counts'].sum()) * 100\n",
    "ot_chal"
   ]
  },
  {
   "cell_type": "code",
   "execution_count": null,
   "metadata": {},
   "outputs": [],
   "source": [
    "print(df_em_challenging['Combustible Group'].value_counts())\n",
    "print(df_em_challenging['Type'].value_counts())\n",
    "print(df_em_challenging['Form'].value_counts())"
   ]
  },
  {
   "cell_type": "code",
   "execution_count": null,
   "metadata": {},
   "outputs": [],
   "source": [
    "counts_barf = df_em_challenging['Form'].value_counts().rename_axis('unique_values').reset_index(name='counts')\n",
    "\n",
    "counts_barf['percentage'] = (counts_barf['counts'] / counts_barf['counts'].sum()) * 100\n",
    "counts_barf"
   ]
  },
  {
   "cell_type": "code",
   "execution_count": null,
   "metadata": {},
   "outputs": [],
   "source": [
    "counts_barf = liq_et['Form'].value_counts().rename_axis('unique_values').reset_index(name='counts')\n",
    "\n",
    "counts_barf['percentage'] = (counts_barf['counts'] / counts_barf['counts'].sum()) * 100\n",
    "counts_barf"
   ]
  },
  {
   "cell_type": "code",
   "execution_count": null,
   "metadata": {},
   "outputs": [],
   "source": [
    "yTickmarks = (counts_barf['unique_values'].unique().tolist())\n",
    "ylabels = [ '\\n'.join(wrap(l, 20)) for l in yTickmarks] \n",
    "\n",
    "ax = counts_barf.plot(kind='barh', x= 'unique_values', y='percentage', figsize = [28, 22])\n",
    "ax.set_yticklabels(ylabels, rotation = 0, fontsize = 18)\n",
    "ax.set_ylabel('Types', fontsize = 20, labelpad = 20)\n",
    "ax.set_xlabel('Percentage', fontsize = 20, labelpad = 20)\n",
    "ax.set_title('Percentage of Combustible Group Forms in challenging fire events', fontsize = 24, x= 0.5, y =1.02)\n",
    "plt.xticks(fontsize= 20)\n",
    "ax.legend(fontsize = 20)\n",
    "plt.savefig(sys_up_dplo + 'Combustible Group Form - Cahellenging - 1990-2014')\n",
    "plt.show()"
   ]
  },
  {
   "cell_type": "code",
   "execution_count": null,
   "metadata": {},
   "outputs": [],
   "source": [
    "ot_chal = df_em_challenging.groupby('Combustible Group')['Form'].apply(lambda x: x[x == 'Other (Specify)'].count())\n",
    "ot_chal = ot_chal.reset_index(name='counts')\n",
    "ot_chal['percentage'] = (ot_chal['counts'] /counts_barf['counts'].sum()) * 100\n",
    "ot_chal"
   ]
  },
  {
   "cell_type": "code",
   "execution_count": null,
   "metadata": {},
   "outputs": [],
   "source": []
  },
  {
   "cell_type": "code",
   "execution_count": null,
   "metadata": {},
   "outputs": [],
   "source": []
  },
  {
   "cell_type": "code",
   "execution_count": null,
   "metadata": {},
   "outputs": [],
   "source": []
  },
  {
   "cell_type": "code",
   "execution_count": null,
   "metadata": {},
   "outputs": [],
   "source": []
  },
  {
   "cell_type": "code",
   "execution_count": null,
   "metadata": {},
   "outputs": [],
   "source": []
  },
  {
   "cell_type": "code",
   "execution_count": null,
   "metadata": {},
   "outputs": [],
   "source": []
  },
  {
   "cell_type": "code",
   "execution_count": null,
   "metadata": {},
   "outputs": [],
   "source": []
  },
  {
   "cell_type": "code",
   "execution_count": null,
   "metadata": {},
   "outputs": [],
   "source": []
  },
  {
   "cell_type": "code",
   "execution_count": null,
   "metadata": {},
   "outputs": [],
   "source": []
  },
  {
   "cell_type": "code",
   "execution_count": null,
   "metadata": {},
   "outputs": [],
   "source": []
  },
  {
   "cell_type": "code",
   "execution_count": null,
   "metadata": {},
   "outputs": [],
   "source": []
  },
  {
   "cell_type": "markdown",
   "metadata": {},
   "source": [
    "# Plots"
   ]
  },
  {
   "cell_type": "code",
   "execution_count": null,
   "metadata": {},
   "outputs": [],
   "source": [
    "def correlation_plot(group1, group2, siz_x, siz_y):\n",
    "    df_em_gpft = EPRI_up[[group1, group2]].reset_index(drop = True)\n",
    "    df_em_gpft = pd.DataFrame(df_em_gpft)\n",
    "    counts = df_em_gpft.groupby([group1, group2])[group2].count()\n",
    "\n",
    "    x_list = counts.index.get_level_values(0).tolist()\n",
    "    y_list = counts.index.get_level_values(1).tolist()\n",
    "    s      = [6*n for n in counts.values]\n",
    "    s_c    = [n for n in counts.values]\n",
    "\n",
    "\n",
    "    xTickmarks = sorted(EPRI_up[group2].dropna().unique().tolist())\n",
    "    yTickmarks = sorted(EPRI_up[group1].dropna().unique().tolist())\n",
    "\n",
    "    x = [yTickmarks.index(i) for i in x_list]\n",
    "    y = [xTickmarks.index(i) for i in y_list]\n",
    "    \n",
    "    xlabels = [ '\\n'.join(wrap(l, 20)) for l in xTickmarks]\n",
    "    ylabels = [ '\\n'.join(wrap(l, 20)) for l in yTickmarks] \n",
    "\n",
    "    matplotlib.rc('font', serif='Helvetica Neue')\n",
    "    matplotlib.rc('text', usetex='false')\n",
    "    matplotlib.rcParams.update({'font.size': 10})\n",
    "    fig = plt.figure(figsize=(siz_x, siz_y), dpi = 100) # for landscape\n",
    "    axes1 = fig.add_subplot(111)\n",
    "    title = '%s - %s' %(group1, group2)\n",
    "    save  = '%s - %s.png' %(group1, group2)\n",
    "\n",
    "    plt.scatter(x, y, s = s, c = s_c)\n",
    "    cb = plt.colorbar()\n",
    "    cb.set_label('Number of Fire Events', fontsize=12)\n",
    "    \n",
    "    axes1.tick_params(axis='both', which='major', pad=10)\n",
    "    axes1.set_xlim((-1, len(yTickmarks)))\n",
    "    axes1.set_ylim((-1, len(xTickmarks)))\n",
    "    axes1.set_xticks(xrange(len(yTickmarks)))\n",
    "    axes1.set_yticks(xrange(len(xTickmarks)))\n",
    "    axes1.set_xticklabels(ylabels, rotation = 30, fontsize = 12)\n",
    "    axes1.set_yticklabels(xlabels, fontsize = 12)\n",
    "    axes1.set_ylabel(group2, fontsize = 14, labelpad = 20)\n",
    "    axes1.set_xlabel(group1, fontsize = 14, labelpad = 20)\n",
    "    axes1.legend(prop={'size':5}, ncol=4)\n",
    "    axes1.xaxis.grid(True)\n",
    "    axes1.set_title(title, fontsize = 16, x=0.5, y = 1.05)\n",
    "\n",
    "    plt.show()\n",
    "    fig.savefig(sys_updated + save, bbox_inches='tight')\n",
    "    #fig.savefig(save, bbox_inches='tight')"
   ]
  },
  {
   "cell_type": "markdown",
   "metadata": {},
   "source": [
    "**Fire Events Years**"
   ]
  },
  {
   "cell_type": "code",
   "execution_count": null,
   "metadata": {},
   "outputs": [],
   "source": [
    "EPRI_up['Event Date_FES'] = pd.to_datetime(EPRI_up['Event Date_FES'])              # Convert to date-time format\n",
    "EPRI_up['year'] = EPRI_up['Event Date_FES'].dt.year                                # Extract converted years \n",
    "df_year = EPRI_up['year'].sort_values(ascending = True)                            # Sort Years\n",
    "year_labels = sorted(EPRI_up['year'].dropna().unique())\n",
    "year_labels = np.array(year_labels, dtype=np.float32)\n",
    "\n",
    "fig_year = plt.figure(figsize=(12, 5), dpi=80)\n",
    "ax_year  = fig_year.add_subplot(111)\n",
    "(df_year.value_counts(sort= False, ascending = True).sort_index(ascending = True)).plot(kind ='bar', rot= 45)\n",
    "ax_year.set_title('Fire Events at NPPs for years between 1990-2014', fontsize=16, y=1.05)\n",
    "ax_year.set_xlabel('Years', fontsize = 12)\n",
    "ax_year.set_ylabel('Number of Fire Events', fontsize = 12)\n",
    "ax_year.set_xticklabels(year_labels.astype(int))\n",
    "plt.savefig(sys_up_dplo + 'Fire Events 1990-2014')\n",
    "plt.show()"
   ]
  },
  {
   "cell_type": "markdown",
   "metadata": {},
   "source": [
    "**Plant Area for Fire Events at NPP for 1990-2014**"
   ]
  },
  {
   "cell_type": "code",
   "execution_count": null,
   "metadata": {},
   "outputs": [],
   "source": [
    "fig_ptar = plt.figure(figsize=(5,5), dpi=100)\n",
    "ax_ptar = plt.subplot(111)\n",
    "EPRI_up['Plant Area'].value_counts().plot(kind = 'pie', autopct='%.2f', legend = True, fontsize=10, label='')\n",
    "#plt.legend(loc='upper left')\n",
    "fig_ptar.suptitle('Plant Area Fire Events at NPPs between 1990-2014', fontsize=12, x = 0.6, y = 1)\n",
    "ax_ptar.legend(bbox_to_anchor=(1.1, 1.1))\n",
    "plt.show()\n",
    "fig_ptar.savefig(sys_up_dplo + \"Plant Area.png\", bbox_inches='tight')"
   ]
  },
  {
   "cell_type": "markdown",
   "metadata": {},
   "source": [
    "**NPP Building for Fire Events between (1990-2014)**"
   ]
  },
  {
   "cell_type": "code",
   "execution_count": null,
   "metadata": {},
   "outputs": [],
   "source": [
    "fig_bd = plt.figure(figsize=(5,5), dpi=100)\n",
    "ax_bd = plt.subplot(111)\n",
    "EPRI_up['Building'].value_counts().plot(kind = 'pie', autopct='%.2f', legend = True, fontsize=10, label='')\n",
    "#plt.legend(loc='upper left')\n",
    "fig_bd.suptitle('NPP Buildings for Fire Events between 1990-2014', fontsize=12, x = 0.6, y =1)\n",
    "ax_bd.legend(bbox_to_anchor=(2.5, 1.1))\n",
    "plt.show()\n",
    "fig_bd.savefig(sys_up_dplo + \"Building.png\", bbox_inches='tight')"
   ]
  },
  {
   "cell_type": "markdown",
   "metadata": {},
   "source": [
    "**Reactor Mode Prior and After Fire Event Detection**"
   ]
  },
  {
   "cell_type": "code",
   "execution_count": null,
   "metadata": {},
   "outputs": [],
   "source": [
    "fig_mpa = plt.figure(figsize=(8, 4), dpi=100)\n",
    "fig_mpa.suptitle('Reactor Mode Prior and After Fire Event Detection', fontsize=14, x = 0.5, y = 0.98)\n",
    "EPRI_up['Mode Prior'].value_counts(ascending=False).plot(kind='bar', position =1, width = 0.25, rot = 45)\n",
    "EPRI_up['Mode After'].value_counts(ascending=False).plot(kind='bar', position =0, width = 0.25, color = 'red', rot =45)\n",
    "plt.ylabel('Systems in which Fire Event Occured', fontsize = 8)\n",
    "plt.xlabel('Modes', fontsize = 12)\n",
    "plt.show()\n",
    "fig_mpa.savefig(sys_up_dplo + \"Reactor Mode.png\", bbox_inches='tight')"
   ]
  },
  {
   "cell_type": "markdown",
   "metadata": {},
   "source": [
    "**Primary Combustible Groups for fire events from events between 1990-2014**"
   ]
  },
  {
   "cell_type": "code",
   "execution_count": null,
   "metadata": {},
   "outputs": [],
   "source": [
    "fig_grp = plt.figure(figsize=(8, 8), dpi=100)\n",
    "ax_grp  = plt.subplot(111)\n",
    "EPRI_up['Combustible Group'].value_counts().plot(kind = 'pie', autopct='%.2f', legend = True, fontsize=10, label='')\n",
    "#plt.legend(loc='upper left')\n",
    "fig_grp.suptitle('Primary Combustible Groups for Fire Events in NPP (1990-2014)', fontsize=12, x = 0.6, y = 0.9)\n",
    "ax_grp.legend(bbox_to_anchor=(0.95, 0.98))\n",
    "plt.show()\n",
    "fig_grp.savefig(sys_up_dplo + \"Primary Combustible Groups.png\", bbox_inches='tight')"
   ]
  },
  {
   "cell_type": "markdown",
   "metadata": {},
   "source": [
    "**Primary Combustible Groups for challenging fire events from events between 1990-2014**"
   ]
  },
  {
   "cell_type": "code",
   "execution_count": null,
   "metadata": {},
   "outputs": [],
   "source": [
    "labels_chal = df_em_challenging['Combustible Group'].unique().tolist()\n",
    "print(labels_chal)"
   ]
  },
  {
   "cell_type": "code",
   "execution_count": null,
   "metadata": {},
   "outputs": [],
   "source": [
    "explode = (0.0, 0.0, 0.0, 0.0, 0.1, 0.0, 0.0)\n",
    "df_em_challenging['Combustible Group'].value_counts()"
   ]
  },
  {
   "cell_type": "code",
   "execution_count": null,
   "metadata": {},
   "outputs": [],
   "source": [
    "fig_grp = plt.figure(figsize=(8, 8), dpi=100)\n",
    "ax_grp  = plt.subplot(111)\n",
    "df_em_challenging['Combustible Group'].value_counts().plot(kind = 'pie', autopct='%.2f', legend = True, fontsize=10, label='', explode = explode)\n",
    "#plt.legend(loc='upper left')\n",
    "fig_grp.suptitle('Primary Combustible Groups for Challenging Fire Events in NPP (1990-2014)', fontsize=12, x = 0.6, y = 0.9)\n",
    "ax_grp.legend(bbox_to_anchor=(0.95, 0.98))\n",
    "plt.show()\n",
    "fig_grp.savefig(sys_up_dplo + \"Primary Combustible Groups Challenging.png\", bbox_inches='tight')"
   ]
  },
  {
   "cell_type": "markdown",
   "metadata": {},
   "source": [
    "**Detection Performance and Fire Level Severity**"
   ]
  },
  {
   "cell_type": "code",
   "execution_count": null,
   "metadata": {},
   "outputs": [],
   "source": [
    "dpfs       = EPRI_up.groupby(['Detection Performance'])['Disposition_new'].value_counts()\n",
    "ax_dpfs    = dpfs.unstack().plot(kind='bar', stacked = True, figsize = (10,6))\n",
    "xTickmarks = sorted(EPRI_up['Detection Performance'].dropna().unique().tolist())  \n",
    "xlabels = [ '\\n'.join(wrap(l, 20)) for l in xTickmarks]\n",
    "ax_dpfs.set_xticklabels(xlabels, rotation = 30, fontsize = 10)\n",
    "ax_dpfs.set_xlabel('Detection Performance', fontsize = 12)\n",
    "#ax_dpfs.legend(prop={'size':10}, ncol=4)\n",
    "ax_dpfs.set_title('Detection Performace and Fire Level Severity', fontsize = 14, x=0.5, y = 1.1)\n",
    "plt.savefig(sys_up_dplo + 'Detection Performance-Fire Severity')\n",
    "plt.show()"
   ]
  },
  {
   "cell_type": "markdown",
   "metadata": {},
   "source": [
    "**Suppression Time and its relation with Disposition**"
   ]
  },
  {
   "cell_type": "code",
   "execution_count": null,
   "metadata": {},
   "outputs": [],
   "source": [
    "fig, ax_stdp = plt.subplots(figsize=(10, 6))\n",
    "EPRI_up.boxplot(column=['Suppression Time'], by='Disposition_FES', ax=ax_stdp)\n",
    "plt.ylim(-10, 200)\n",
    "plt.ylabel('Time (Seconds)', fontsize = 14)\n",
    "plt.xticks(rotation = 15)\n",
    "plt.xlabel('Dispostion', fontsize = 14, labelpad=20)\n",
    "plt.title('Suppression Time and Disposition', x = 0.5, y = 1.15, fontsize = 16)\n",
    "plt.savefig(sys_up_dplo + 'Suppression Time-Fire Severity')\n",
    "plt.show()"
   ]
  },
  {
   "cell_type": "markdown",
   "metadata": {},
   "source": [
    "**Fire Severity Level in Buildings**"
   ]
  },
  {
   "cell_type": "code",
   "execution_count": null,
   "metadata": {},
   "outputs": [],
   "source": [
    "dpbd       = EPRI_up.groupby(['Building'])['Disposition_new'].value_counts()\n",
    "ax_dpbd    = dpbd.unstack().plot(kind='bar', stacked = True, figsize = (15,8))\n",
    "xTickmarks = sorted(EPRI_up['Building'].dropna().unique().tolist())  \n",
    "xlabels = [ '\\n'.join(wrap(l, 20)) for l in xTickmarks]\n",
    "ax_dpbd.set_xticklabels(xlabels, rotation = 30, fontsize = 10)\n",
    "ax_dpbd.set_xlabel('Building', fontsize = 12)\n",
    "ax_dpbd.legend(prop={'size':10}, ncol=4)\n",
    "ax_dpbd.set_title('Building and Fire Level Severity', fontsize = 14, x=0.5, y = 1.05)\n",
    "plt.savefig(sys_up_dplo + 'Buildings-Fire Severity')\n",
    "plt.show()"
   ]
  },
  {
   "cell_type": "markdown",
   "metadata": {},
   "source": [
    "**Combustible Group and Fire Severity**"
   ]
  },
  {
   "cell_type": "code",
   "execution_count": null,
   "metadata": {},
   "outputs": [],
   "source": [
    "dpcg       = EPRI_up.groupby(['Combustible Group'])['Disposition_new'].value_counts()\n",
    "ax_dpcg    = dpcg.unstack().plot(kind='bar', stacked = True, figsize = (15,8))\n",
    "xTickmarks = sorted(EPRI_up['Combustible Group'].dropna().unique().tolist())  \n",
    "xlabels = [ '\\n'.join(wrap(l, 20)) for l in xTickmarks]\n",
    "ax_dpcg.set_xticklabels(xlabels, rotation = 30, fontsize = 10)\n",
    "ax_dpcg.set_xlabel('Combustible Group', fontsize = 12)\n",
    "ax_dpcg.legend(prop={'size':12}, ncol=4)\n",
    "ax_dpcg.set_title('Combustible Group and Fire Level Severity', fontsize = 14, x=0.5, y = 1.05)\n",
    "plt.savefig(sys_up_dplo + 'Combustible Groups-Fire Severity')\n",
    "plt.show()"
   ]
  },
  {
   "cell_type": "markdown",
   "metadata": {},
   "source": [
    "**Fire Type and Disposition**"
   ]
  },
  {
   "cell_type": "code",
   "execution_count": null,
   "metadata": {},
   "outputs": [],
   "source": [
    "dpft       = EPRI_up.groupby(['Fire Type'])['Disposition_new'].value_counts()\n",
    "ax_dpft    = dpft.unstack().plot(kind='bar', stacked = True, figsize = (20,8))\n",
    "xTickmarks = sorted(EPRI_up['Fire Type'].dropna().unique().tolist())  \n",
    "xlabels = [ '\\n'.join(wrap(l, 20)) for l in xTickmarks]\n",
    "ax_dpft.set_xticklabels(xlabels, rotation = 30, fontsize = 10)\n",
    "ax_dpft.set_xlabel('Fire Type', fontsize = 12)\n",
    "ax_dpfs.legend(prop={'size':10}, ncol=4)\n",
    "ax_dpft.set_title('Fire Type and Fire Level Severity', fontsize = 14, x=0.5, y = 1.05)\n",
    "plt.savefig(sys_up_dplo + 'Fire Type-Fire Severity')\n",
    "plt.show()"
   ]
  },
  {
   "cell_type": "markdown",
   "metadata": {},
   "source": [
    "**Fire Cause and Fire Severity Level**"
   ]
  },
  {
   "cell_type": "code",
   "execution_count": null,
   "metadata": {},
   "outputs": [],
   "source": [
    "dpfc       = EPRI_up.groupby(['Fire Cause'])['Disposition_new'].value_counts()\n",
    "ax_dpfc    = dpfc.unstack().plot(kind='bar', stacked = True, figsize = (25,8))\n",
    "xTickmarks = sorted(EPRI_up['Fire Cause'].dropna().unique().tolist())  \n",
    "xlabels = [ '\\n'.join(wrap(l, 20)) for l in xTickmarks]\n",
    "ax_dpfc.set_xticklabels(xlabels, rotation = 30, fontsize = 10)\n",
    "ax_dpfc.set_xlabel('Fire Cause', fontsize = 12)\n",
    "ax_dpfc.legend(prop={'size':10}, ncol=4)\n",
    "ax_dpfc.set_title('Fire Cause and Fire Level Severity', fontsize = 14, x=0.5, y = 1.05)\n",
    "plt.savefig(sys_up_dplo + 'Fire Cause-Fire Severity')\n",
    "plt.show()"
   ]
  },
  {
   "cell_type": "markdown",
   "metadata": {},
   "source": [
    "# Combustible Group"
   ]
  },
  {
   "cell_type": "markdown",
   "metadata": {},
   "source": [
    "# In-Situ"
   ]
  },
  {
   "cell_type": "code",
   "execution_count": null,
   "metadata": {},
   "outputs": [],
   "source": [
    "df_em_challenging = EPRI_up[EPRI_up['Disposition_new'] == 'Challenging']\n",
    "df_em_chal_gas = df_em_challenging[df_em_challenging['Combustible Group'] == 'In_Situ']\n",
    "df_em_gpft = df_em_chal_gas[['Type', 'Building']].reset_index(drop = True)\n",
    "df_em_gpft = pd.DataFrame(df_em_gpft)\n",
    "counts = df_em_gpft.groupby(['Type', 'Building'])['Building'].count()\n",
    "\n",
    "x_list = counts.index.get_level_values(0).tolist()\n",
    "y_list = counts.index.get_level_values(1).tolist()\n",
    "s      = [20*n for n in counts.values]\n",
    "s_c    = [n for n in counts.values]\n",
    "\n",
    "\n",
    "xTickmarks = sorted(df_em_chal_gas['Building'].dropna().unique().tolist())\n",
    "yTickmarks = sorted(df_em_chal_gas['Type'].dropna().unique().tolist())\n",
    "\n",
    "x = [yTickmarks.index(i) for i in x_list]\n",
    "y = [xTickmarks.index(i) for i in y_list]\n",
    "    \n",
    "xlabels = [ '\\n'.join(wrap(l, 20)) for l in xTickmarks]\n",
    "ylabels = [ '\\n'.join(wrap(l, 20)) for l in yTickmarks] \n",
    "\n",
    "matplotlib.rc('font', serif='Helvetica Neue')\n",
    "matplotlib.rc('text', usetex='false')\n",
    "matplotlib.rcParams.update({'font.size': 10})\n",
    "fig = plt.figure(figsize=(10, 6), dpi = 100) # for landscape\n",
    "axes1 = fig.add_subplot(111)\n",
    "# title = '%s - %s' %('Form', 'Type')\n",
    "# save  = '%s - %s.png' %('Form', 'Type')\n",
    "\n",
    "plt.scatter(x, y, s = s, c = s_c)\n",
    "cb = plt.colorbar()\n",
    "cb.set_label('Number of Fire Events', fontsize=10)\n",
    "    \n",
    "axes1.tick_params(axis='both', which='major', pad=10)\n",
    "axes1.set_xlim((-1, len(yTickmarks)))\n",
    "axes1.set_ylim((-1, len(xTickmarks)))\n",
    "axes1.set_xticks(xrange(len(yTickmarks)))\n",
    "axes1.set_yticks(xrange(len(xTickmarks)))\n",
    "axes1.set_xticklabels(ylabels, rotation = 30, fontsize = 8)\n",
    "axes1.set_yticklabels(xlabels, fontsize = 8)\n",
    "axes1.set_ylabel('Building', fontsize = 10, labelpad=10)\n",
    "axes1.set_xlabel('Type', fontsize = 10, labelpad=10)\n",
    "axes1.legend(prop={'size':5}, ncol=4)\n",
    "axes1.xaxis.grid(True)\n",
    "axes1.set_title('In-Situ (Type - Building)', fontsize = 12, x=0.5, y = 1.05)\n",
    "\n",
    "plt.show()\n",
    "fig.savefig(sys_up_dplo + 'In-Situ (Type - Building)', bbox_inches='tight')"
   ]
  },
  {
   "cell_type": "code",
   "execution_count": null,
   "metadata": {},
   "outputs": [],
   "source": [
    "df_em_challenging = EPRI_up[EPRI_up['Disposition_new'] == 'Challenging']\n",
    "df_em_chal_gas = df_em_challenging[df_em_challenging['Combustible Group'] == 'In_Situ']\n",
    "df_em_gpft = df_em_chal_gas[['Type', 'Component Group']].reset_index(drop = True)\n",
    "df_em_gpft = pd.DataFrame(df_em_gpft)\n",
    "counts = df_em_gpft.groupby(['Type', 'Component Group'])['Component Group'].count()\n",
    "\n",
    "x_list = counts.index.get_level_values(0).tolist()\n",
    "y_list = counts.index.get_level_values(1).tolist()\n",
    "s      = [10*n for n in counts.values]\n",
    "s_c    = [n for n in counts.values]\n",
    "\n",
    "\n",
    "xTickmarks = sorted(df_em_chal_gas['Component Group'].dropna().unique().tolist())\n",
    "yTickmarks = sorted(df_em_chal_gas['Type'].dropna().unique().tolist())\n",
    "\n",
    "x = [yTickmarks.index(i) for i in x_list]\n",
    "y = [xTickmarks.index(i) for i in y_list]\n",
    "    \n",
    "xlabels = [ '\\n'.join(wrap(l, 20)) for l in xTickmarks]\n",
    "ylabels = [ '\\n'.join(wrap(l, 20)) for l in yTickmarks] \n",
    "\n",
    "matplotlib.rc('font', serif='Helvetica Neue')\n",
    "matplotlib.rc('text', usetex='false')\n",
    "matplotlib.rcParams.update({'font.size': 10})\n",
    "fig = plt.figure(figsize=(10, 8), dpi = 100) # for landscape\n",
    "axes1 = fig.add_subplot(111)\n",
    "# title = '%s - %s' %('Form', 'Type')\n",
    "# save  = '%s - %s.png' %('Form', 'Type')\n",
    "\n",
    "plt.scatter(x, y, s = s, c = s_c)\n",
    "cb = plt.colorbar()\n",
    "cb.set_label('Number of Fire Events', fontsize=10)\n",
    "    \n",
    "axes1.tick_params(axis='both', which='major', pad=10)\n",
    "axes1.set_xlim((-1, len(yTickmarks)))\n",
    "axes1.set_ylim((-1, len(xTickmarks)))\n",
    "axes1.set_xticks(xrange(len(yTickmarks)))\n",
    "axes1.set_yticks(xrange(len(xTickmarks)))\n",
    "axes1.set_xticklabels(ylabels, rotation = 30, fontsize = 8)\n",
    "axes1.set_yticklabels(xlabels, fontsize = 8)\n",
    "axes1.set_ylabel('Component Group', fontsize = 10, labelpad=10)\n",
    "axes1.set_xlabel('Type', fontsize = 10, labelpad=10)\n",
    "axes1.legend(prop={'size':5}, ncol=4)\n",
    "axes1.xaxis.grid(True)\n",
    "axes1.set_title('In-Situ (Type - Component Group)', fontsize = 12, x=0.5, y = 1.05)\n",
    "\n",
    "plt.show()\n",
    "fig.savefig(sys_up_dplo + 'In-Situ (Type - Component Group)', bbox_inches='tight')"
   ]
  },
  {
   "cell_type": "code",
   "execution_count": null,
   "metadata": {},
   "outputs": [],
   "source": [
    "df_em_challenging = EPRI_up[EPRI_up['Disposition_new'] == 'Challenging']\n",
    "df_em_chal_gas = df_em_challenging[df_em_challenging['Combustible Group'] == 'In_Situ']\n",
    "df_em_gpft = df_em_chal_gas[['Type', 'Fire Type']].reset_index(drop = True)\n",
    "df_em_gpft = pd.DataFrame(df_em_gpft)\n",
    "counts = df_em_gpft.groupby(['Type', 'Fire Type'])['Fire Type'].count()\n",
    "\n",
    "x_list = counts.index.get_level_values(0).tolist()\n",
    "y_list = counts.index.get_level_values(1).tolist()\n",
    "s      = [15*n for n in counts.values]\n",
    "s_c    = [n for n in counts.values]\n",
    "\n",
    "\n",
    "xTickmarks = sorted(df_em_chal_gas['Fire Type'].dropna().unique().tolist())\n",
    "yTickmarks = sorted(df_em_chal_gas['Type'].dropna().unique().tolist())\n",
    "\n",
    "x = [yTickmarks.index(i) for i in x_list]\n",
    "y = [xTickmarks.index(i) for i in y_list]\n",
    "    \n",
    "xlabels = [ '\\n'.join(wrap(l, 20)) for l in xTickmarks]\n",
    "ylabels = [ '\\n'.join(wrap(l, 20)) for l in yTickmarks] \n",
    "\n",
    "matplotlib.rc('font', serif='Helvetica Neue')\n",
    "matplotlib.rc('text', usetex='false')\n",
    "matplotlib.rcParams.update({'font.size': 10})\n",
    "fig = plt.figure(figsize=(10, 8), dpi = 100) # for landscape\n",
    "axes1 = fig.add_subplot(111)\n",
    "# title = '%s - %s' %('Form', 'Type')\n",
    "# save  = '%s - %s.png' %('Form', 'Type')\n",
    "\n",
    "plt.scatter(x, y, s = s, c = s_c)\n",
    "cb = plt.colorbar()\n",
    "cb.set_label('Number of Fire Events', fontsize=10)\n",
    "    \n",
    "axes1.tick_params(axis='both', which='major', pad=10)\n",
    "axes1.set_xlim((-1, len(yTickmarks)))\n",
    "axes1.set_ylim((-1, len(xTickmarks)))\n",
    "axes1.set_xticks(xrange(len(yTickmarks)))\n",
    "axes1.set_yticks(xrange(len(xTickmarks)))\n",
    "axes1.set_xticklabels(ylabels, rotation = 30, fontsize = 8)\n",
    "axes1.set_yticklabels(xlabels, fontsize = 8)\n",
    "axes1.set_ylabel('Fire Type', fontsize = 10, labelpad=10)\n",
    "axes1.set_xlabel('Type', fontsize = 10, labelpad=10)\n",
    "axes1.legend(prop={'size':5}, ncol=4)\n",
    "axes1.xaxis.grid(True)\n",
    "axes1.set_title('In-Situ (Type - Fire Type)', fontsize = 12, x=0.5, y = 1.05)\n",
    "\n",
    "plt.show()\n",
    "fig.savefig(sys_up_dplo + 'In-Situ (Type - Fire Type)', bbox_inches='tight')"
   ]
  },
  {
   "cell_type": "code",
   "execution_count": null,
   "metadata": {},
   "outputs": [],
   "source": [
    "fig_insitu = plt.figure(figsize=(5,5), dpi=100)\n",
    "ax_insitu = plt.subplot(111)\n",
    "insitu_et['Type'].value_counts().plot(kind = 'pie', autopct='%.2f', legend = True, fontsize=10, label='')\n",
    "fig_insitu.suptitle('Insitu Types in Challenging Fire Severity', fontsize=12, x = 0.7, y =0.95)\n",
    "ax_insitu.legend(bbox_to_anchor=(1, 1), fontsize = 10)\n",
    "plt.show()\n",
    "fig_insitu.savefig(sys_up_dplo + \"Insitu Types pie.png\", bbox_inches='tight')"
   ]
  },
  {
   "cell_type": "markdown",
   "metadata": {},
   "source": [
    "# Liquid"
   ]
  },
  {
   "cell_type": "markdown",
   "metadata": {},
   "source": [
    "**Building**"
   ]
  },
  {
   "cell_type": "code",
   "execution_count": null,
   "metadata": {},
   "outputs": [],
   "source": [
    "df_em_challenging = EPRI_up[EPRI_up['Disposition_new'] == 'Challenging']\n",
    "df_em_chal_liq = df_em_challenging[df_em_challenging['Combustible Group'] == 'Liquid']\n",
    "df_em_gpft = df_em_chal_liq[['Type', 'Building']].reset_index(drop = True)\n",
    "df_em_gpft = pd.DataFrame(df_em_gpft)\n",
    "counts = df_em_gpft.groupby(['Type', 'Building'])['Building'].count()\n",
    "\n",
    "x_list = counts.index.get_level_values(0).tolist()\n",
    "y_list = counts.index.get_level_values(1).tolist()\n",
    "s      = [25*n for n in counts.values]\n",
    "s_c    = [n for n in counts.values]\n",
    "\n",
    "\n",
    "xTickmarks = sorted(df_em_chal_liq['Building'].dropna().unique().tolist())\n",
    "yTickmarks = sorted(df_em_chal_liq['Type'].dropna().unique().tolist())\n",
    "\n",
    "x = [yTickmarks.index(i) for i in x_list]\n",
    "y = [xTickmarks.index(i) for i in y_list]\n",
    "    \n",
    "xlabels = [ '\\n'.join(wrap(l, 20)) for l in xTickmarks]\n",
    "ylabels = [ '\\n'.join(wrap(l, 20)) for l in yTickmarks] \n",
    "\n",
    "matplotlib.rc('font', serif='Helvetica Neue')\n",
    "matplotlib.rc('text', usetex='false')\n",
    "matplotlib.rcParams.update({'font.size': 10})\n",
    "fig = plt.figure(figsize=(10, 6), dpi = 100) # for landscape\n",
    "axes1 = fig.add_subplot(111)\n",
    "# title = '%s - %s' %('Form', 'Type')\n",
    "# save  = '%s - %s.png' %('Form', 'Type')\n",
    "\n",
    "plt.scatter(x, y, s = s, c = s_c)\n",
    "cb = plt.colorbar()\n",
    "cb.set_label('Number of Fire Events', fontsize=10)\n",
    "    \n",
    "axes1.tick_params(axis='both', which='major', pad=10)\n",
    "axes1.set_xlim((-1, len(yTickmarks)))\n",
    "axes1.set_ylim((-1, len(xTickmarks)))\n",
    "axes1.set_xticks(xrange(len(yTickmarks)))\n",
    "axes1.set_yticks(xrange(len(xTickmarks)))\n",
    "axes1.set_xticklabels(ylabels, rotation = 30, fontsize = 8)\n",
    "axes1.set_yticklabels(xlabels, fontsize = 8)\n",
    "axes1.set_ylabel('Building', fontsize = 10, labelpad=10)\n",
    "axes1.set_xlabel('Type', fontsize = 10, labelpad=10)\n",
    "axes1.legend(prop={'size':5}, ncol=4)\n",
    "axes1.xaxis.grid(True)\n",
    "axes1.set_title('Liquid (Type - Building)', fontsize = 12, x=0.5, y = 1.05)\n",
    "\n",
    "plt.show()\n",
    "fig.savefig(sys_up_dplo + 'Liquid (Type - Building)', bbox_inches='tight')"
   ]
  },
  {
   "cell_type": "code",
   "execution_count": null,
   "metadata": {},
   "outputs": [],
   "source": [
    "df_em_challenging = EPRI_up[EPRI_up['Disposition_new'] == 'Challenging']\n",
    "df_em_chal_liq = df_em_challenging[df_em_challenging['Combustible Group'] == 'Liquid']\n",
    "df_em_gpft = df_em_chal_liq[['Form', 'Building']].reset_index(drop = True)\n",
    "df_em_gpft = pd.DataFrame(df_em_gpft)\n",
    "counts = df_em_gpft.groupby(['Form', 'Building'])['Building'].count()\n",
    "\n",
    "x_list = counts.index.get_level_values(0).tolist()\n",
    "y_list = counts.index.get_level_values(1).tolist()\n",
    "s      = [25*n for n in counts.values]\n",
    "s_c    = [n for n in counts.values]\n",
    "\n",
    "\n",
    "xTickmarks = sorted(df_em_chal_liq['Building'].dropna().unique().tolist())\n",
    "yTickmarks = sorted(df_em_chal_liq['Form'].dropna().unique().tolist())\n",
    "\n",
    "x = [yTickmarks.index(i) for i in x_list]\n",
    "y = [xTickmarks.index(i) for i in y_list]\n",
    "    \n",
    "xlabels = [ '\\n'.join(wrap(l, 20)) for l in xTickmarks]\n",
    "ylabels = [ '\\n'.join(wrap(l, 20)) for l in yTickmarks] \n",
    "\n",
    "matplotlib.rc('font', serif='Helvetica Neue')\n",
    "matplotlib.rc('text', usetex='false')\n",
    "matplotlib.rcParams.update({'font.size': 10})\n",
    "fig = plt.figure(figsize=(10, 6), dpi = 100) # for landscape\n",
    "axes1 = fig.add_subplot(111)\n",
    "# title = '%s - %s' %('Form', 'Type')\n",
    "# save  = '%s - %s.png' %('Form', 'Type')\n",
    "\n",
    "plt.scatter(x, y, s = s, c = s_c)\n",
    "cb = plt.colorbar(format='%.0f')\n",
    "cb.set_label('Number of Fire Events', fontsize=10)\n",
    "    \n",
    "axes1.tick_params(axis='both', which='major', pad=10)\n",
    "axes1.set_xlim((-1, len(yTickmarks)))\n",
    "axes1.set_ylim((-1, len(xTickmarks)))\n",
    "axes1.set_xticks(xrange(len(yTickmarks)))\n",
    "axes1.set_yticks(xrange(len(xTickmarks)))\n",
    "axes1.set_xticklabels(ylabels, rotation = 30, fontsize = 8)\n",
    "axes1.set_yticklabels(xlabels, fontsize = 8)\n",
    "axes1.set_ylabel('Building', fontsize = 10, labelpad=10)\n",
    "axes1.set_xlabel('Form', fontsize = 10, labelpad=10)\n",
    "axes1.legend(prop={'size':5}, ncol=4)\n",
    "axes1.xaxis.grid(True)\n",
    "axes1.set_title('Liquid (Form - Building)', fontsize = 12, x=0.5, y = 1.05)\n",
    "\n",
    "plt.show()\n",
    "fig.savefig(sys_up_dplo + 'Liquid (Form - Building)', bbox_inches='tight')"
   ]
  },
  {
   "cell_type": "code",
   "execution_count": null,
   "metadata": {},
   "outputs": [],
   "source": [
    "df_em_challenging = EPRI_up[EPRI_up['Disposition_new'] == 'Challenging']\n",
    "df_em_chal_liq = df_em_challenging[df_em_challenging['Combustible Group'] == 'Liquid']\n",
    "df_em_gpft = df_em_chal_liq[['Type', 'Component Group']].reset_index(drop = True)\n",
    "df_em_gpft = pd.DataFrame(df_em_gpft)\n",
    "counts = df_em_gpft.groupby(['Type', 'Component Group'])['Component Group'].count()\n",
    "\n",
    "x_list = counts.index.get_level_values(0).tolist()\n",
    "y_list = counts.index.get_level_values(1).tolist()\n",
    "s      = [24*n for n in counts.values]\n",
    "s_c    = [n for n in counts.values]\n",
    "\n",
    "\n",
    "xTickmarks = sorted(df_em_chal_liq['Component Group'].dropna().unique().tolist())\n",
    "yTickmarks = sorted(df_em_chal_liq['Type'].dropna().unique().tolist())\n",
    "\n",
    "x = [yTickmarks.index(i) for i in x_list]\n",
    "y = [xTickmarks.index(i) for i in y_list]\n",
    "    \n",
    "xlabels = [ '\\n'.join(wrap(l, 20)) for l in xTickmarks]\n",
    "ylabels = [ '\\n'.join(wrap(l, 20)) for l in yTickmarks] \n",
    "\n",
    "matplotlib.rc('font', serif='Helvetica Neue')\n",
    "matplotlib.rc('text', usetex='false')\n",
    "matplotlib.rcParams.update({'font.size': 10})\n",
    "fig = plt.figure(figsize=(10, 5), dpi = 100) # for landscape\n",
    "axes1 = fig.add_subplot(111)\n",
    "# title = '%s - %s' %('Form', 'Type')\n",
    "# save  = '%s - %s.png' %('Form', 'Type')\n",
    "\n",
    "plt.scatter(x, y, s = s, c = s_c)\n",
    "cb = plt.colorbar()\n",
    "cb.set_label('Number of Fire Events', fontsize=10)\n",
    "    \n",
    "axes1.tick_params(axis='both', which='major', pad=10)\n",
    "axes1.set_xlim((-1, len(yTickmarks)))\n",
    "axes1.set_ylim((-1, len(xTickmarks)))\n",
    "axes1.set_xticks(xrange(len(yTickmarks)))\n",
    "axes1.set_yticks(xrange(len(xTickmarks)))\n",
    "axes1.set_xticklabels(ylabels, rotation = 30, fontsize = 8)\n",
    "axes1.set_yticklabels(xlabels, fontsize = 8)\n",
    "axes1.set_ylabel('Component Group', fontsize = 10, labelpad=10)\n",
    "axes1.set_xlabel('Type', fontsize = 10, labelpad=10)\n",
    "axes1.legend(prop={'size':5}, ncol=4)\n",
    "axes1.xaxis.grid(True)\n",
    "axes1.set_title('Liquid (Type - Component Group)', fontsize = 12, x=0.5, y = 1.05)\n",
    "\n",
    "plt.show()\n",
    "fig.savefig(sys_up_dplo + 'Liquid (Type - Component Group)', bbox_inches='tight')"
   ]
  },
  {
   "cell_type": "code",
   "execution_count": null,
   "metadata": {},
   "outputs": [],
   "source": [
    "df_em_challenging = EPRI_up[EPRI_up['Disposition_new'] == 'Challenging']\n",
    "df_em_chal_liq = df_em_challenging[df_em_challenging['Combustible Group'] == 'Liquid']\n",
    "df_em_gpft = df_em_chal_liq[['Form', 'Component Group']].reset_index(drop = True)\n",
    "df_em_gpft = pd.DataFrame(df_em_gpft)\n",
    "counts = df_em_gpft.groupby(['Form', 'Component Group'])['Component Group'].count()\n",
    "\n",
    "x_list = counts.index.get_level_values(0).tolist()\n",
    "y_list = counts.index.get_level_values(1).tolist()\n",
    "s      = [25*n for n in counts.values]\n",
    "s_c    = [n for n in counts.values]\n",
    "\n",
    "\n",
    "xTickmarks = sorted(df_em_chal_liq['Component Group'].dropna().unique().tolist())\n",
    "yTickmarks = sorted(df_em_chal_liq['Form'].dropna().unique().tolist())\n",
    "\n",
    "x = [yTickmarks.index(i) for i in x_list]\n",
    "y = [xTickmarks.index(i) for i in y_list]\n",
    "    \n",
    "xlabels = [ '\\n'.join(wrap(l, 20)) for l in xTickmarks]\n",
    "ylabels = [ '\\n'.join(wrap(l, 20)) for l in yTickmarks] \n",
    "\n",
    "matplotlib.rc('font', serif='Helvetica Neue')\n",
    "matplotlib.rc('text', usetex='false')\n",
    "matplotlib.rcParams.update({'font.size': 10})\n",
    "fig = plt.figure(figsize=(10, 4), dpi = 100) # for landscape\n",
    "axes1 = fig.add_subplot(111)\n",
    "# title = '%s - %s' %('Form', 'Type')\n",
    "# save  = '%s - %s.png' %('Form', 'Type')\n",
    "\n",
    "plt.scatter(x, y, s = s, c = s_c)\n",
    "cb = plt.colorbar()\n",
    "cb.set_label('Number of Fire Events', fontsize=10)\n",
    "    \n",
    "axes1.tick_params(axis='both', which='major', pad=10)\n",
    "axes1.set_xlim((-1, len(yTickmarks)))\n",
    "axes1.set_ylim((-1, len(xTickmarks)))\n",
    "axes1.set_xticks(xrange(len(yTickmarks)))\n",
    "axes1.set_yticks(xrange(len(xTickmarks)))\n",
    "axes1.set_xticklabels(ylabels, rotation = 30, fontsize = 8)\n",
    "axes1.set_yticklabels(xlabels, fontsize = 8)\n",
    "axes1.set_ylabel('Component Group', fontsize = 10, labelpad=10)\n",
    "axes1.set_xlabel('Form', fontsize = 10, labelpad=10)\n",
    "axes1.legend(prop={'size':5}, ncol=4)\n",
    "axes1.xaxis.grid(True)\n",
    "axes1.set_title('Liquid (Form - Component Group)', fontsize = 12, x=0.5, y = 1.05)\n",
    "\n",
    "plt.show()\n",
    "fig.savefig(sys_up_dplo + 'Liquid (Form - Component Group)', bbox_inches='tight')"
   ]
  },
  {
   "cell_type": "code",
   "execution_count": null,
   "metadata": {},
   "outputs": [],
   "source": [
    "df_em_challenging = EPRI_up[EPRI_up['Disposition_new'] == 'Challenging']\n",
    "df_em_chal_liq = df_em_challenging[df_em_challenging['Combustible Group'] == 'Liquid']\n",
    "df_em_gpft = df_em_chal_liq[['Type', 'Fire Type']].reset_index(drop = True)\n",
    "df_em_gpft = pd.DataFrame(df_em_gpft)\n",
    "counts = df_em_gpft.groupby(['Type', 'Fire Type'])['Fire Type'].count()\n",
    "\n",
    "x_list = counts.index.get_level_values(0).tolist()\n",
    "y_list = counts.index.get_level_values(1).tolist()\n",
    "s      = [25*n for n in counts.values]\n",
    "s_c    = [n for n in counts.values]\n",
    "\n",
    "\n",
    "xTickmarks = sorted(df_em_chal_liq['Fire Type'].dropna().unique().tolist())\n",
    "yTickmarks = sorted(df_em_chal_liq['Type'].dropna().unique().tolist())\n",
    "\n",
    "x = [yTickmarks.index(i) for i in x_list]\n",
    "y = [xTickmarks.index(i) for i in y_list]\n",
    "    \n",
    "xlabels = [ '\\n'.join(wrap(l, 20)) for l in xTickmarks]\n",
    "ylabels = [ '\\n'.join(wrap(l, 20)) for l in yTickmarks] \n",
    "\n",
    "matplotlib.rc('font', serif='Helvetica Neue')\n",
    "matplotlib.rc('text', usetex='false')\n",
    "matplotlib.rcParams.update({'font.size': 10})\n",
    "fig = plt.figure(figsize=(10, 8), dpi = 100) # for landscape\n",
    "axes1 = fig.add_subplot(111)\n",
    "# title = '%s - %s' %('Form', 'Type')\n",
    "# save  = '%s - %s.png' %('Form', 'Type')\n",
    "\n",
    "plt.scatter(x, y, s = s, c = s_c)\n",
    "cb = plt.colorbar()\n",
    "cb.set_label('Number of Fire Events', fontsize=10)\n",
    "    \n",
    "axes1.tick_params(axis='both', which='major', pad=10)\n",
    "axes1.set_xlim((-1, len(yTickmarks)))\n",
    "axes1.set_ylim((-1, len(xTickmarks)))\n",
    "axes1.set_xticks(xrange(len(yTickmarks)))\n",
    "axes1.set_yticks(xrange(len(xTickmarks)))\n",
    "axes1.set_xticklabels(ylabels, rotation = 30, fontsize = 8)\n",
    "axes1.set_yticklabels(xlabels, fontsize = 8)\n",
    "axes1.set_ylabel('Fire Type', fontsize = 10, labelpad=10)\n",
    "axes1.set_xlabel('Type', fontsize = 10, labelpad=10)\n",
    "axes1.legend(prop={'size':5}, ncol=4)\n",
    "axes1.xaxis.grid(True)\n",
    "axes1.set_title('Liquid (Type - Fire Type)', fontsize = 12, x=0.5, y = 1.05)\n",
    "\n",
    "plt.show()\n",
    "fig.savefig(sys_up_dplo + 'Liquid (Type - Fire Type)', bbox_inches='tight')"
   ]
  },
  {
   "cell_type": "code",
   "execution_count": null,
   "metadata": {},
   "outputs": [],
   "source": [
    "df_em_challenging = EPRI_up[EPRI_up['Disposition_new'] == 'Challenging']\n",
    "df_em_chal_liq = df_em_challenging[df_em_challenging['Combustible Group'] == 'Liquid']\n",
    "df_em_gpft = df_em_chal_liq[['Form', 'Fire Type']].reset_index(drop = True)\n",
    "df_em_gpft = pd.DataFrame(df_em_gpft)\n",
    "counts = df_em_gpft.groupby(['Form', 'Fire Type'])['Fire Type'].count()\n",
    "\n",
    "x_list = counts.index.get_level_values(0).tolist()\n",
    "y_list = counts.index.get_level_values(1).tolist()\n",
    "s      = [25*n for n in counts.values]\n",
    "s_c    = [n for n in counts.values]\n",
    "\n",
    "\n",
    "xTickmarks = sorted(df_em_chal_liq['Fire Type'].dropna().unique().tolist())\n",
    "yTickmarks = sorted(df_em_chal_liq['Form'].dropna().unique().tolist())\n",
    "\n",
    "x = [yTickmarks.index(i) for i in x_list]\n",
    "y = [xTickmarks.index(i) for i in y_list]\n",
    "    \n",
    "xlabels = [ '\\n'.join(wrap(l, 20)) for l in xTickmarks]\n",
    "ylabels = [ '\\n'.join(wrap(l, 20)) for l in yTickmarks] \n",
    "\n",
    "matplotlib.rc('font', serif='Helvetica Neue')\n",
    "matplotlib.rc('text', usetex='false')\n",
    "matplotlib.rcParams.update({'font.size': 10})\n",
    "fig = plt.figure(figsize=(10, 8), dpi = 100) # for landscape\n",
    "axes1 = fig.add_subplot(111)\n",
    "# title = '%s - %s' %('Form', 'Type')\n",
    "# save  = '%s - %s.png' %('Form', 'Type')\n",
    "\n",
    "plt.scatter(x, y, s = s, c = s_c)\n",
    "cb = plt.colorbar()\n",
    "cb.set_label('Number of Fire Events', fontsize=10)\n",
    "    \n",
    "axes1.tick_params(axis='both', which='major', pad=10)\n",
    "axes1.set_xlim((-1, len(yTickmarks)))\n",
    "axes1.set_ylim((-1, len(xTickmarks)))\n",
    "axes1.set_xticks(xrange(len(yTickmarks)))\n",
    "axes1.set_yticks(xrange(len(xTickmarks)))\n",
    "axes1.set_xticklabels(ylabels, rotation = 30, fontsize = 8)\n",
    "axes1.set_yticklabels(xlabels, fontsize = 8)\n",
    "axes1.set_ylabel('Fire Type', fontsize = 10, labelpad=10)\n",
    "axes1.set_xlabel('Form', fontsize = 10, labelpad=10)\n",
    "axes1.legend(prop={'size':5}, ncol=4)\n",
    "axes1.xaxis.grid(True)\n",
    "axes1.set_title('Liquid (Form - Fire Type)', fontsize = 12, x=0.5, y = 1.05)\n",
    "\n",
    "plt.show()\n",
    "fig.savefig(sys_up_dplo + 'Liquid (Form - Fire Type)', bbox_inches='tight')"
   ]
  },
  {
   "cell_type": "code",
   "execution_count": null,
   "metadata": {},
   "outputs": [],
   "source": [
    "fig_liq = plt.figure(figsize=(5,5), dpi=100)\n",
    "ax_liq = plt.subplot(111)\n",
    "liq_et['Type'].value_counts().plot(kind = 'pie', autopct='%.2f', legend = True, fontsize=10, label='')\n",
    "#plt.legend(loc='upper left')\n",
    "fig_liq.suptitle('Liquid Types in Challenging Fire Severity', fontsize=12, x = 0.7, y =1)\n",
    "ax_liq.legend(bbox_to_anchor=(0.95, 0.95), fontsize = 10)\n",
    "plt.show()\n",
    "fig_liq.savefig(sys_up_dplo + \"Liquid Types pie.png\", bbox_inches='tight')"
   ]
  },
  {
   "cell_type": "code",
   "execution_count": null,
   "metadata": {},
   "outputs": [],
   "source": [
    "fig_liq = plt.figure(figsize=(5,5), dpi=100)\n",
    "ax_liq = plt.subplot(111)\n",
    "liq_et['Form'].value_counts().plot(kind = 'pie', autopct='%.2f', legend = True, fontsize=10, label='')\n",
    "#plt.legend(loc='upper left')\n",
    "fig_liq.suptitle('Liquid Forms in Challenging Fire Severity', fontsize=12, x = 0.7, y =1)\n",
    "ax_liq.legend(bbox_to_anchor=(1.20, 0.95), fontsize = 10)\n",
    "plt.show()\n",
    "fig_liq.savefig(sys_up_dplo + \"Liquid Forms pie.png\", bbox_inches='tight')"
   ]
  },
  {
   "cell_type": "markdown",
   "metadata": {},
   "source": [
    "# Transient"
   ]
  },
  {
   "cell_type": "code",
   "execution_count": null,
   "metadata": {},
   "outputs": [],
   "source": [
    "df_em_challenging = EPRI_up[EPRI_up['Disposition_new'] == 'Challenging']\n",
    "df_em_chal_trans = df_em_challenging[df_em_challenging['Combustible Group'] == 'Transient']\n",
    "df_em_gpft = df_em_chal_trans[['Type', 'Building']].reset_index(drop = True)\n",
    "df_em_gpft = pd.DataFrame(df_em_gpft)\n",
    "counts = df_em_gpft.groupby(['Type', 'Building'])['Building'].count()\n",
    "\n",
    "x_list = counts.index.get_level_values(0).tolist()\n",
    "y_list = counts.index.get_level_values(1).tolist()\n",
    "s      = [50*n for n in counts.values]\n",
    "s_c    = [n for n in counts.values]\n",
    "\n",
    "\n",
    "xTickmarks = sorted(df_em_chal_trans['Building'].dropna().unique().tolist())\n",
    "yTickmarks = sorted(df_em_chal_trans['Type'].dropna().unique().tolist())\n",
    "\n",
    "x = [yTickmarks.index(i) for i in x_list]\n",
    "y = [xTickmarks.index(i) for i in y_list]\n",
    "    \n",
    "xlabels = [ '\\n'.join(wrap(l, 20)) for l in xTickmarks]\n",
    "ylabels = [ '\\n'.join(wrap(l, 20)) for l in yTickmarks] \n",
    "\n",
    "matplotlib.rc('font', serif='Helvetica Neue')\n",
    "matplotlib.rc('text', usetex='false')\n",
    "matplotlib.rcParams.update({'font.size': 10})\n",
    "fig = plt.figure(figsize=(15, 6), dpi = 100) # for landscape\n",
    "axes1 = fig.add_subplot(111)\n",
    "# title = '%s - %s' %('Form', 'Type')\n",
    "# save  = '%s - %s.png' %('Form', 'Type')\n",
    "\n",
    "plt.scatter(x, y, s = s, c = s_c)\n",
    "cb = plt.colorbar()\n",
    "cb.set_label('Number of Fire Events', fontsize=10)\n",
    "    \n",
    "axes1.tick_params(axis='both', which='major', pad=10)\n",
    "axes1.set_xlim((-1, len(yTickmarks)))\n",
    "axes1.set_ylim((-1, len(xTickmarks)))\n",
    "axes1.set_xticks(xrange(len(yTickmarks)))\n",
    "axes1.set_yticks(xrange(len(xTickmarks)))\n",
    "axes1.set_xticklabels(ylabels, rotation = 30, fontsize = 8)\n",
    "axes1.set_yticklabels(xlabels, fontsize = 8)\n",
    "axes1.set_ylabel('Building', fontsize = 10, labelpad=10)\n",
    "axes1.set_xlabel('Type', fontsize = 10, labelpad=10)\n",
    "axes1.legend(prop={'size':5}, ncol=4)\n",
    "axes1.xaxis.grid(True)\n",
    "axes1.set_title('Transient (Type - Building)', fontsize = 12, x=0.5, y = 1.05)\n",
    "\n",
    "plt.show()\n",
    "fig.savefig(sys_up_dplo + 'Transient (Type - Building)', bbox_inches='tight')"
   ]
  },
  {
   "cell_type": "code",
   "execution_count": null,
   "metadata": {},
   "outputs": [],
   "source": [
    "df_em_challenging = EPRI_up[EPRI_up['Disposition_new'] == 'Challenging']\n",
    "df_em_chal_trans = df_em_challenging[df_em_challenging['Combustible Group'] == 'Transient']\n",
    "df_em_gpft = df_em_chal_trans[['Type', 'Component Group']].reset_index(drop = True)\n",
    "df_em_gpft = pd.DataFrame(df_em_gpft)\n",
    "counts = df_em_gpft.groupby(['Type', 'Component Group'])['Component Group'].count()\n",
    "\n",
    "x_list = counts.index.get_level_values(0).tolist()\n",
    "y_list = counts.index.get_level_values(1).tolist()\n",
    "s      = [25*n for n in counts.values]\n",
    "s_c    = [n for n in counts.values]\n",
    "\n",
    "\n",
    "xTickmarks = sorted(df_em_chal_trans['Component Group'].dropna().unique().tolist())\n",
    "yTickmarks = sorted(df_em_chal_trans['Type'].dropna().unique().tolist())\n",
    "\n",
    "x = [yTickmarks.index(i) for i in x_list]\n",
    "y = [xTickmarks.index(i) for i in y_list]\n",
    "    \n",
    "xlabels = [ '\\n'.join(wrap(l, 20)) for l in xTickmarks]\n",
    "ylabels = [ '\\n'.join(wrap(l, 20)) for l in yTickmarks] \n",
    "\n",
    "matplotlib.rc('font', serif='Helvetica Neue')\n",
    "matplotlib.rc('text', usetex='false')\n",
    "matplotlib.rcParams.update({'font.size': 10})\n",
    "fig = plt.figure(figsize=(12, 4), dpi = 100) # for landscape\n",
    "axes1 = fig.add_subplot(111)\n",
    "# title = '%s - %s' %('Form', 'Type')\n",
    "# save  = '%s - %s.png' %('Form', 'Type')\n",
    "\n",
    "plt.scatter(x, y, s = s, c = s_c)\n",
    "cb = plt.colorbar()\n",
    "cb.set_label('Number of Fire Events', fontsize=10)\n",
    "    \n",
    "axes1.tick_params(axis='both', which='major', pad=10)\n",
    "axes1.set_xlim((-1, len(yTickmarks)))\n",
    "axes1.set_ylim((-1, len(xTickmarks)))\n",
    "axes1.set_xticks(xrange(len(yTickmarks)))\n",
    "axes1.set_yticks(xrange(len(xTickmarks)))\n",
    "axes1.set_xticklabels(ylabels, rotation = 30, fontsize = 8)\n",
    "axes1.set_yticklabels(xlabels, fontsize = 8)\n",
    "axes1.set_ylabel('Component Group', fontsize = 10, labelpad=10)\n",
    "axes1.set_xlabel('Type', fontsize = 10, labelpad=10)\n",
    "axes1.legend(prop={'size':5}, ncol=4)\n",
    "axes1.xaxis.grid(True)\n",
    "axes1.set_title('Transient (Type - Component Group)', fontsize = 12, x=0.5, y = 1.05)\n",
    "\n",
    "plt.show()\n",
    "fig.savefig(sys_up_dplo + 'Transient (Type - Component Group)', bbox_inches='tight')"
   ]
  },
  {
   "cell_type": "code",
   "execution_count": null,
   "metadata": {},
   "outputs": [],
   "source": [
    "df_em_challenging = EPRI_up[EPRI_up['Disposition_new'] == 'Challenging']\n",
    "df_em_chal_trans = df_em_challenging[df_em_challenging['Combustible Group'] == 'Transient']\n",
    "df_em_gpft = df_em_chal_trans[['Type', 'Fire Type']].reset_index(drop = True)\n",
    "df_em_gpft = pd.DataFrame(df_em_gpft)\n",
    "counts = df_em_gpft.groupby(['Type', 'Fire Type'])['Fire Type'].count()\n",
    "\n",
    "x_list = counts.index.get_level_values(0).tolist()\n",
    "y_list = counts.index.get_level_values(1).tolist()\n",
    "s      = [25*n for n in counts.values]\n",
    "s_c    = [n for n in counts.values]\n",
    "\n",
    "\n",
    "xTickmarks = sorted(df_em_chal_trans['Fire Type'].dropna().unique().tolist())\n",
    "yTickmarks = sorted(df_em_chal_trans['Type'].dropna().unique().tolist())\n",
    "\n",
    "x = [yTickmarks.index(i) for i in x_list]\n",
    "y = [xTickmarks.index(i) for i in y_list]\n",
    "    \n",
    "xlabels = [ '\\n'.join(wrap(l, 20)) for l in xTickmarks]\n",
    "ylabels = [ '\\n'.join(wrap(l, 20)) for l in yTickmarks] \n",
    "\n",
    "matplotlib.rc('font', serif='Helvetica Neue')\n",
    "matplotlib.rc('text', usetex='false')\n",
    "matplotlib.rcParams.update({'font.size': 10})\n",
    "fig = plt.figure(figsize=(10, 6), dpi = 100) # for landscape\n",
    "axes1 = fig.add_subplot(111)\n",
    "# title = '%s - %s' %('Form', 'Type')\n",
    "# save  = '%s - %s.png' %('Form', 'Type')\n",
    "\n",
    "plt.scatter(x, y, s = s, c = s_c)\n",
    "cb = plt.colorbar()\n",
    "cb.set_label('Number of Fire Events', fontsize=10)\n",
    "    \n",
    "axes1.tick_params(axis='both', which='major', pad=10)\n",
    "axes1.set_xlim((-1, len(yTickmarks)))\n",
    "axes1.set_ylim((-1, len(xTickmarks)))\n",
    "axes1.set_xticks(xrange(len(yTickmarks)))\n",
    "axes1.set_yticks(xrange(len(xTickmarks)))\n",
    "axes1.set_xticklabels(ylabels, rotation = 30, fontsize = 8)\n",
    "axes1.set_yticklabels(xlabels, fontsize = 8)\n",
    "axes1.set_ylabel('Fire Type', fontsize = 10, labelpad=10)\n",
    "axes1.set_xlabel('Type', fontsize = 10, labelpad=10)\n",
    "axes1.legend(prop={'size':5}, ncol=4)\n",
    "axes1.xaxis.grid(True)\n",
    "axes1.set_title('Transient (Type - Fire Type)', fontsize = 12, x=0.5, y = 1.05)\n",
    "\n",
    "plt.show()\n",
    "fig.savefig(sys_up_dplo + 'Transient (Type - Fire Type)', bbox_inches='tight')"
   ]
  },
  {
   "cell_type": "code",
   "execution_count": null,
   "metadata": {},
   "outputs": [],
   "source": [
    "fig_tran = plt.figure(figsize=(8,6), dpi=100)\n",
    "ax_tran = plt.subplot(111)\n",
    "trans_et['Type'].value_counts().plot(kind = 'pie', autopct='%.2f', legend = True, fontsize=10, label='')\n",
    "fig_tran.suptitle('Transient Types in Challenging Fire Severity', fontsize=16, x = 0.7, y =1)\n",
    "ax_tran.legend(bbox_to_anchor=(1.6, 1), fontsize = 12)\n",
    "plt.show()\n",
    "fig_tran.savefig(sys_up_dplo + \"Transient Types pie.png\", bbox_inches='tight')"
   ]
  },
  {
   "cell_type": "markdown",
   "metadata": {},
   "source": [
    "# Insulation"
   ]
  },
  {
   "cell_type": "code",
   "execution_count": null,
   "metadata": {},
   "outputs": [],
   "source": [
    "df_em_challenging = EPRI_up[EPRI_up['Disposition_new'] == 'Challenging']\n",
    "df_em_chal_trans = df_em_challenging[df_em_challenging['Combustible Group'] == 'Insulation']\n",
    "df_em_gpft = df_em_chal_trans[['Type', 'Building']].reset_index(drop = True)\n",
    "df_em_gpft = pd.DataFrame(df_em_gpft)\n",
    "counts = df_em_gpft.groupby(['Type', 'Building'])['Building'].count()\n",
    "\n",
    "x_list = counts.index.get_level_values(0).tolist()\n",
    "y_list = counts.index.get_level_values(1).tolist()\n",
    "s      = [50*n for n in counts.values]\n",
    "s_c    = [n for n in counts.values]\n",
    "\n",
    "\n",
    "xTickmarks = sorted(df_em_chal_trans['Building'].dropna().unique().tolist())\n",
    "yTickmarks = sorted(df_em_chal_trans['Type'].dropna().unique().tolist())\n",
    "\n",
    "x = [yTickmarks.index(i) for i in x_list]\n",
    "y = [xTickmarks.index(i) for i in y_list]\n",
    "    \n",
    "xlabels = [ '\\n'.join(wrap(l, 20)) for l in xTickmarks]\n",
    "ylabels = [ '\\n'.join(wrap(l, 20)) for l in yTickmarks] \n",
    "\n",
    "matplotlib.rc('font', serif='Helvetica Neue')\n",
    "matplotlib.rc('text', usetex='false')\n",
    "matplotlib.rcParams.update({'font.size': 10})\n",
    "fig = plt.figure(figsize=(10, 6), dpi = 100) # for landscape\n",
    "axes1 = fig.add_subplot(111)\n",
    "# title = '%s - %s' %('Form', 'Type')\n",
    "# save  = '%s - %s.png' %('Form', 'Type')\n",
    "\n",
    "plt.scatter(x, y, s = s, c = s_c)\n",
    "cb = plt.colorbar()\n",
    "cb.set_label('Number of Fire Events', fontsize=10)\n",
    "    \n",
    "axes1.tick_params(axis='both', which='major', pad=10)\n",
    "axes1.set_xlim((-1, len(yTickmarks)))\n",
    "axes1.set_ylim((-1, len(xTickmarks)))\n",
    "axes1.set_xticks(xrange(len(yTickmarks)))\n",
    "axes1.set_yticks(xrange(len(xTickmarks)))\n",
    "axes1.set_xticklabels(ylabels, rotation = 30, fontsize = 8)\n",
    "axes1.set_yticklabels(xlabels, fontsize = 8)\n",
    "axes1.set_ylabel('Building', fontsize = 10, labelpad=10)\n",
    "axes1.set_xlabel('Type', fontsize = 10, labelpad=10)\n",
    "axes1.legend(prop={'size':5}, ncol=4)\n",
    "axes1.xaxis.grid(True)\n",
    "axes1.set_title('Insulation (Type - Building)', fontsize = 12, x=0.5, y = 1.05)\n",
    "\n",
    "plt.show()\n",
    "fig.savefig(sys_up_dplo + 'Insulation (Type - Building)', bbox_inches='tight')"
   ]
  },
  {
   "cell_type": "code",
   "execution_count": null,
   "metadata": {},
   "outputs": [],
   "source": [
    "df_em_challenging = EPRI_up[EPRI_up['Disposition_new'] == 'Challenging']\n",
    "df_em_chal_trans = df_em_challenging[df_em_challenging['Combustible Group'] == 'Insulation']\n",
    "df_em_gpft = df_em_chal_trans[['Form', 'Building']].reset_index(drop = True)\n",
    "df_em_gpft = pd.DataFrame(df_em_gpft)\n",
    "counts = df_em_gpft.groupby(['Form', 'Building'])['Building'].count()\n",
    "\n",
    "x_list = counts.index.get_level_values(0).tolist()\n",
    "y_list = counts.index.get_level_values(1).tolist()\n",
    "s      = [50*n for n in counts.values]\n",
    "s_c    = [n for n in counts.values]\n",
    "\n",
    "\n",
    "xTickmarks = sorted(df_em_chal_trans['Building'].dropna().unique().tolist())\n",
    "yTickmarks = sorted(df_em_chal_trans['Form'].dropna().unique().tolist())\n",
    "\n",
    "x = [yTickmarks.index(i) for i in x_list]\n",
    "y = [xTickmarks.index(i) for i in y_list]\n",
    "    \n",
    "xlabels = [ '\\n'.join(wrap(l, 20)) for l in xTickmarks]\n",
    "ylabels = [ '\\n'.join(wrap(l, 20)) for l in yTickmarks] \n",
    "\n",
    "matplotlib.rc('font', serif='Helvetica Neue')\n",
    "matplotlib.rc('text', usetex='false')\n",
    "matplotlib.rcParams.update({'font.size': 10})\n",
    "fig = plt.figure(figsize=(10, 6), dpi = 100) # for landscape\n",
    "axes1 = fig.add_subplot(111)\n",
    "# title = '%s - %s' %('Form', 'Type')\n",
    "# save  = '%s - %s.png' %('Form', 'Type')\n",
    "\n",
    "plt.scatter(x, y, s = s, c = s_c)\n",
    "cb = plt.colorbar(format='%.0f', ticks=[0,1,2,3,4])\n",
    "cb.set_label('Number of Fire Events', fontsize=10)\n",
    "    \n",
    "axes1.tick_params(axis='both', which='major', pad=10)\n",
    "axes1.set_xlim((-1, len(yTickmarks)))\n",
    "axes1.set_ylim((-1, len(xTickmarks)))\n",
    "axes1.set_xticks(xrange(len(yTickmarks)))\n",
    "axes1.set_yticks(xrange(len(xTickmarks)))\n",
    "axes1.set_xticklabels(ylabels, rotation = 30, fontsize = 8)\n",
    "axes1.set_yticklabels(xlabels, fontsize = 8)\n",
    "axes1.set_ylabel('Building', fontsize = 10, labelpad=10)\n",
    "axes1.set_xlabel('Form', fontsize = 10, labelpad=10)\n",
    "axes1.legend(prop={'size':5}, ncol=4)\n",
    "axes1.xaxis.grid(True)\n",
    "axes1.set_title('Insulation (Form - Building)', fontsize = 12, x=0.5, y = 1.05)\n",
    "\n",
    "plt.show()\n",
    "fig.savefig(sys_up_dplo + 'Insulation (Form - Building)', bbox_inches='tight')"
   ]
  },
  {
   "cell_type": "code",
   "execution_count": null,
   "metadata": {},
   "outputs": [],
   "source": [
    "df_em_challenging = EPRI_up[EPRI_up['Disposition_new'] == 'Challenging']\n",
    "df_em_chal_ins = df_em_challenging[df_em_challenging['Combustible Group'] == 'Insulation']\n",
    "df_em_gpft = df_em_chal_ins[['Type', 'Component Group']].reset_index(drop = True)\n",
    "df_em_gpft = pd.DataFrame(df_em_gpft)\n",
    "counts = df_em_gpft.groupby(['Type', 'Component Group'])['Component Group'].count()\n",
    "\n",
    "x_list = counts.index.get_level_values(0).tolist()\n",
    "y_list = counts.index.get_level_values(1).tolist()\n",
    "s      = [25*n for n in counts.values]\n",
    "s_c    = [n for n in counts.values]\n",
    "\n",
    "\n",
    "xTickmarks = sorted(df_em_chal_ins['Component Group'].dropna().unique().tolist())\n",
    "yTickmarks = sorted(df_em_chal_ins['Type'].dropna().unique().tolist())\n",
    "\n",
    "x = [yTickmarks.index(i) for i in x_list]\n",
    "y = [xTickmarks.index(i) for i in y_list]\n",
    "    \n",
    "xlabels = [ '\\n'.join(wrap(l, 20)) for l in xTickmarks]\n",
    "ylabels = [ '\\n'.join(wrap(l, 20)) for l in yTickmarks] \n",
    "\n",
    "matplotlib.rc('font', serif='Helvetica Neue')\n",
    "matplotlib.rc('text', usetex='false')\n",
    "matplotlib.rcParams.update({'font.size': 10})\n",
    "fig = plt.figure(figsize=(8, 5), dpi = 100) # for landscape\n",
    "axes1 = fig.add_subplot(111)\n",
    "# title = '%s - %s' %('Form', 'Type')\n",
    "# save  = '%s - %s.png' %('Form', 'Type')\n",
    "\n",
    "plt.scatter(x, y, s = s, c = s_c)\n",
    "cb = plt.colorbar()\n",
    "cb.set_label('Number of Fire Events', fontsize=10)\n",
    "    \n",
    "axes1.tick_params(axis='both', which='major', pad=10)\n",
    "axes1.set_xlim((-1, len(yTickmarks)))\n",
    "axes1.set_ylim((-1, len(xTickmarks)))\n",
    "axes1.set_xticks(xrange(len(yTickmarks)))\n",
    "axes1.set_yticks(xrange(len(xTickmarks)))\n",
    "axes1.set_xticklabels(ylabels, rotation = 30, fontsize = 8)\n",
    "axes1.set_yticklabels(xlabels, fontsize = 8)\n",
    "axes1.set_ylabel('Component Group', fontsize = 10, labelpad=10)\n",
    "axes1.set_xlabel('Type', fontsize = 10, labelpad=10)\n",
    "axes1.legend(prop={'size':5}, ncol=4)\n",
    "axes1.xaxis.grid(True)\n",
    "axes1.set_title('Insulation (Type - Component Group)', fontsize = 12, x=0.5, y = 1.05)\n",
    "\n",
    "plt.show()\n",
    "fig.savefig(sys_up_dplo + 'Insulation (Type - Component Group)', bbox_inches='tight')"
   ]
  },
  {
   "cell_type": "code",
   "execution_count": null,
   "metadata": {},
   "outputs": [],
   "source": [
    "df_em_challenging = EPRI_up[EPRI_up['Disposition_new'] == 'Challenging']\n",
    "df_em_chal_ins = df_em_challenging[df_em_challenging['Combustible Group'] == 'Insulation']\n",
    "df_em_gpft = df_em_chal_ins[['Form', 'Component Group']].reset_index(drop = True)\n",
    "df_em_gpft = pd.DataFrame(df_em_gpft)\n",
    "counts = df_em_gpft.groupby(['Form', 'Component Group'])['Component Group'].count()\n",
    "\n",
    "x_list = counts.index.get_level_values(0).tolist()\n",
    "y_list = counts.index.get_level_values(1).tolist()\n",
    "s      = [40*n for n in counts.values]\n",
    "s_c    = [n for n in counts.values]\n",
    "\n",
    "\n",
    "xTickmarks = sorted(df_em_chal_ins['Component Group'].dropna().unique().tolist())\n",
    "yTickmarks = sorted(df_em_chal_ins['Form'].dropna().unique().tolist())\n",
    "\n",
    "x = [yTickmarks.index(i) for i in x_list]\n",
    "y = [xTickmarks.index(i) for i in y_list]\n",
    "    \n",
    "xlabels = [ '\\n'.join(wrap(l, 20)) for l in xTickmarks]\n",
    "ylabels = [ '\\n'.join(wrap(l, 20)) for l in yTickmarks] \n",
    "\n",
    "matplotlib.rc('font', serif='Helvetica Neue')\n",
    "matplotlib.rc('text', usetex='false')\n",
    "matplotlib.rcParams.update({'font.size': 10})\n",
    "fig = plt.figure(figsize=(8, 5), dpi = 100) # for landscape\n",
    "axes1 = fig.add_subplot(111)\n",
    "# title = '%s - %s' %('Form', 'Type')\n",
    "# save  = '%s - %s.png' %('Form', 'Type')\n",
    "\n",
    "plt.scatter(x, y, s = s, c = s_c)\n",
    "cb = plt.colorbar(ticks = [0, 1, 2, 3, 4])\n",
    "cb.set_label('Number of Fire Events', fontsize=10)\n",
    "    \n",
    "axes1.tick_params(axis='both', which='major', pad=10)\n",
    "axes1.set_xlim((-1, len(yTickmarks)))\n",
    "axes1.set_ylim((-1, len(xTickmarks)))\n",
    "axes1.set_xticks(xrange(len(yTickmarks)))\n",
    "axes1.set_yticks(xrange(len(xTickmarks)))\n",
    "axes1.set_xticklabels(ylabels, rotation = 30, fontsize = 8)\n",
    "axes1.set_yticklabels(xlabels, fontsize = 8)\n",
    "axes1.set_ylabel('Component Group', fontsize = 10, labelpad=10)\n",
    "axes1.set_xlabel('Form', fontsize = 10, labelpad=10)\n",
    "axes1.legend(prop={'size':5}, ncol=4)\n",
    "axes1.xaxis.grid(True)\n",
    "axes1.set_title('Insulation (Form - Component Group)', fontsize = 12, x=0.5, y = 1.05)\n",
    "\n",
    "plt.show()\n",
    "fig.savefig(sys_up_dplo + 'Insulation (Form - Component Group)', bbox_inches='tight')"
   ]
  },
  {
   "cell_type": "code",
   "execution_count": null,
   "metadata": {},
   "outputs": [],
   "source": [
    "df_em_challenging = EPRI_up[EPRI_up['Disposition_new'] == 'Challenging']\n",
    "df_em_chal_ins = df_em_challenging[df_em_challenging['Combustible Group'] == 'Insulation']\n",
    "df_em_gpft = df_em_chal_ins[['Type', 'Fire Type']].reset_index(drop = True)\n",
    "df_em_gpft = pd.DataFrame(df_em_gpft)\n",
    "counts = df_em_gpft.groupby(['Type', 'Fire Type'])['Fire Type'].count()\n",
    "\n",
    "x_list = counts.index.get_level_values(0).tolist()\n",
    "y_list = counts.index.get_level_values(1).tolist()\n",
    "s      = [50*n for n in counts.values]\n",
    "s_c    = [n for n in counts.values]\n",
    "\n",
    "\n",
    "xTickmarks = sorted(df_em_chal_ins['Fire Type'].dropna().unique().tolist())\n",
    "yTickmarks = sorted(df_em_chal_ins['Type'].dropna().unique().tolist())\n",
    "\n",
    "x = [yTickmarks.index(i) for i in x_list]\n",
    "y = [xTickmarks.index(i) for i in y_list]\n",
    "    \n",
    "xlabels = [ '\\n'.join(wrap(l, 20)) for l in xTickmarks]\n",
    "ylabels = [ '\\n'.join(wrap(l, 20)) for l in yTickmarks] \n",
    "\n",
    "matplotlib.rc('font', serif='Helvetica Neue')\n",
    "matplotlib.rc('text', usetex='false')\n",
    "matplotlib.rcParams.update({'font.size': 10})\n",
    "fig = plt.figure(figsize=(8, 6), dpi = 100) # for landscape\n",
    "axes1 = fig.add_subplot(111)\n",
    "# title = '%s - %s' %('Form', 'Type')\n",
    "# save  = '%s - %s.png' %('Form', 'Type')\n",
    "\n",
    "plt.scatter(x, y, s = s, c = s_c)\n",
    "cb = plt.colorbar()\n",
    "cb.set_label('Number of Fire Events', fontsize=10)\n",
    "    \n",
    "axes1.tick_params(axis='both', which='major', pad=10)\n",
    "axes1.set_xlim((-1, len(yTickmarks)))\n",
    "axes1.set_ylim((-1, len(xTickmarks)))\n",
    "axes1.set_xticks(xrange(len(yTickmarks)))\n",
    "axes1.set_yticks(xrange(len(xTickmarks)))\n",
    "axes1.set_xticklabels(ylabels, rotation = 30, fontsize = 8)\n",
    "axes1.set_yticklabels(xlabels, fontsize = 8)\n",
    "axes1.set_ylabel('Fire Type', fontsize = 10, labelpad=10)\n",
    "axes1.set_xlabel('Type', fontsize = 10, labelpad=10)\n",
    "axes1.legend(prop={'size':5}, ncol=4)\n",
    "axes1.xaxis.grid(True)\n",
    "axes1.set_title('Insulation (Type - Fire Type)', fontsize = 12, x=0.5, y = 1.05)\n",
    "\n",
    "plt.show()\n",
    "fig.savefig(sys_up_dplo + 'Insulation (Type - Fire Type)', bbox_inches='tight')"
   ]
  },
  {
   "cell_type": "code",
   "execution_count": null,
   "metadata": {},
   "outputs": [],
   "source": [
    "df_em_challenging = EPRI_up[EPRI_up['Disposition_new'] == 'Challenging']\n",
    "df_em_chal_ins = df_em_challenging[df_em_challenging['Combustible Group'] == 'Insulation']\n",
    "df_em_gpft = df_em_chal_ins[['Form', 'Fire Type']].reset_index(drop = True)\n",
    "df_em_gpft = pd.DataFrame(df_em_gpft)\n",
    "counts = df_em_gpft.groupby(['Form', 'Fire Type'])['Fire Type'].count()\n",
    "\n",
    "x_list = counts.index.get_level_values(0).tolist()\n",
    "y_list = counts.index.get_level_values(1).tolist()\n",
    "s      = [50*n for n in counts.values]\n",
    "s_c    = [n for n in counts.values]\n",
    "\n",
    "\n",
    "xTickmarks = sorted(df_em_chal_ins['Fire Type'].dropna().unique().tolist())\n",
    "yTickmarks = sorted(df_em_chal_ins['Form'].dropna().unique().tolist())\n",
    "\n",
    "x = [yTickmarks.index(i) for i in x_list]\n",
    "y = [xTickmarks.index(i) for i in y_list]\n",
    "    \n",
    "xlabels = [ '\\n'.join(wrap(l, 20)) for l in xTickmarks]\n",
    "ylabels = [ '\\n'.join(wrap(l, 20)) for l in yTickmarks] \n",
    "\n",
    "matplotlib.rc('font', serif='Helvetica Neue')\n",
    "matplotlib.rc('text', usetex='false')\n",
    "matplotlib.rcParams.update({'font.size': 10})\n",
    "fig = plt.figure(figsize=(12, 6), dpi = 100) # for landscape\n",
    "axes1 = fig.add_subplot(111)\n",
    "# title = '%s - %s' %('Form', 'Type')\n",
    "# save  = '%s - %s.png' %('Form', 'Type')\n",
    "\n",
    "plt.scatter(x, y, s = s, c = s_c)\n",
    "cb = plt.colorbar()\n",
    "cb.set_label('Number of Fire Events', fontsize=10)\n",
    "    \n",
    "axes1.tick_params(axis='both', which='major', pad=10)\n",
    "axes1.set_xlim((-1, len(yTickmarks)))\n",
    "axes1.set_ylim((-1, len(xTickmarks)))\n",
    "axes1.set_xticks(xrange(len(yTickmarks)))\n",
    "axes1.set_yticks(xrange(len(xTickmarks)))\n",
    "axes1.set_xticklabels(ylabels, rotation = 30, fontsize = 8)\n",
    "axes1.set_yticklabels(xlabels, fontsize = 8)\n",
    "axes1.set_ylabel('Fire Type', fontsize = 10, labelpad=10)\n",
    "axes1.set_xlabel('Form', fontsize = 10, labelpad=10)\n",
    "axes1.legend(prop={'size':5}, ncol=4)\n",
    "axes1.xaxis.grid(True)\n",
    "axes1.set_title('Insulation (Form - Fire Type)', fontsize = 12, x=0.5, y = 1.05)\n",
    "\n",
    "plt.show()\n",
    "fig.savefig(sys_up_dplo + 'Insulation (Form - Fire Type)', bbox_inches='tight')"
   ]
  },
  {
   "cell_type": "code",
   "execution_count": null,
   "metadata": {},
   "outputs": [],
   "source": [
    "fig_ins = plt.figure(figsize=(5,5), dpi=100)\n",
    "ax_ins = plt.subplot(111)\n",
    "ins_et['Type'].value_counts().plot(kind = 'pie', autopct='%.2f', legend = True, fontsize=10, label='')\n",
    "fig_ins.suptitle('Insulation Type in Challenging Fire Severity', fontsize=12, x = 0.7, y =0.95)\n",
    "ax_ins.legend(bbox_to_anchor=(1, 1), fontsize = 10)\n",
    "plt.show()\n",
    "fig_ins.savefig(sys_up_dplo + \"Insulation Type pie.png\", bbox_inches='tight')"
   ]
  },
  {
   "cell_type": "code",
   "execution_count": null,
   "metadata": {},
   "outputs": [],
   "source": [
    "fig_ins = plt.figure(figsize=(5,5), dpi=100)\n",
    "ax_ins = plt.subplot(111)\n",
    "ins_et['Form'].value_counts().plot(kind = 'pie', autopct='%.2f', legend = True, fontsize=10, label='')\n",
    "fig_ins.suptitle('Insulation Form in Challenging Fire Severity', fontsize=12, x = 0.7, y =0.95)\n",
    "ax_ins.legend(bbox_to_anchor=(1, 1), fontsize = 10)\n",
    "plt.show()\n",
    "fig_ins.savefig(sys_up_dplo + \"Insulation Form pie.png\", bbox_inches='tight')"
   ]
  },
  {
   "cell_type": "markdown",
   "metadata": {},
   "source": [
    "# Gas"
   ]
  },
  {
   "cell_type": "code",
   "execution_count": null,
   "metadata": {},
   "outputs": [],
   "source": [
    "df_em_challenging = EPRI_up[EPRI_up['Disposition_new'] == 'Challenging']\n",
    "df_em_chal_gas = df_em_challenging[df_em_challenging['Combustible Group'] == 'Gas']\n",
    "df_em_gpft = df_em_chal_gas[['Form', 'Fire Type']].reset_index(drop = True)\n",
    "df_em_gpft = pd.DataFrame(df_em_gpft)\n",
    "counts = df_em_gpft.groupby(['Form', 'Fire Type'])['Fire Type'].count()\n",
    "\n",
    "x_list = counts.index.get_level_values(0).tolist()\n",
    "y_list = counts.index.get_level_values(1).tolist()\n",
    "s      = [50*n for n in counts.values]\n",
    "s_c    = [n for n in counts.values]\n",
    "\n",
    "\n",
    "xTickmarks = sorted(df_em_chal_gas['Fire Type'].dropna().unique().tolist())\n",
    "yTickmarks = sorted(df_em_chal_gas['Form'].dropna().unique().tolist())\n",
    "\n",
    "x = [yTickmarks.index(i) for i in x_list]\n",
    "y = [xTickmarks.index(i) for i in y_list]\n",
    "    \n",
    "xlabels = [ '\\n'.join(wrap(l, 20)) for l in xTickmarks]\n",
    "ylabels = [ '\\n'.join(wrap(l, 20)) for l in yTickmarks] \n",
    "\n",
    "matplotlib.rc('font', serif='Helvetica Neue')\n",
    "matplotlib.rc('text', usetex='false')\n",
    "matplotlib.rcParams.update({'font.size': 10})\n",
    "fig = plt.figure(figsize=(8, 5), dpi = 100) # for landscape\n",
    "axes1 = fig.add_subplot(111)\n",
    "# title = '%s - %s' %('Form', 'Type')\n",
    "# save  = '%s - %s.png' %('Form', 'Type')\n",
    "\n",
    "plt.scatter(x, y, s = s, c = s_c)\n",
    "cb = plt.colorbar()\n",
    "cb.set_label('Number of Fire Events', fontsize=10)\n",
    "    \n",
    "axes1.tick_params(axis='both', which='major', pad=10)\n",
    "axes1.set_xlim((-1, len(yTickmarks)))\n",
    "axes1.set_ylim((-1, len(xTickmarks)))\n",
    "axes1.set_xticks(xrange(len(yTickmarks)))\n",
    "axes1.set_yticks(xrange(len(xTickmarks)))\n",
    "axes1.set_xticklabels(ylabels, rotation = 30, fontsize = 8)\n",
    "axes1.set_yticklabels(xlabels, fontsize = 8)\n",
    "axes1.set_ylabel('Fire Type', fontsize = 10, labelpad=10)\n",
    "axes1.set_xlabel('Form', fontsize = 10, labelpad=10)\n",
    "axes1.legend(prop={'size':5}, ncol=4)\n",
    "axes1.xaxis.grid(True)\n",
    "axes1.set_title('Gas (Form - Fire Type)', fontsize = 12, x=0.5, y = 1.05)\n",
    "\n",
    "plt.show()\n",
    "fig.savefig(sys_up_dplo + 'Gas (Form - Fire Type)', bbox_inches='tight')"
   ]
  },
  {
   "cell_type": "code",
   "execution_count": null,
   "metadata": {},
   "outputs": [],
   "source": [
    "df_em_challenging = EPRI_up[EPRI_up['Disposition_new'] == 'Challenging']\n",
    "df_em_chal_gas = df_em_challenging[df_em_challenging['Combustible Group'] == 'Gas']\n",
    "df_em_gpft = df_em_chal_gas[['Form', 'Component Group']].reset_index(drop = True)\n",
    "df_em_gpft = pd.DataFrame(df_em_gpft)\n",
    "counts = df_em_gpft.groupby(['Form', 'Component Group'])['Component Group'].count()\n",
    "\n",
    "x_list = counts.index.get_level_values(0).tolist()\n",
    "y_list = counts.index.get_level_values(1).tolist()\n",
    "s      = [50*n for n in counts.values]\n",
    "s_c    = [n for n in counts.values]\n",
    "\n",
    "\n",
    "xTickmarks = sorted(df_em_chal_gas['Component Group'].dropna().unique().tolist())\n",
    "yTickmarks = sorted(df_em_chal_gas['Form'].dropna().unique().tolist())\n",
    "\n",
    "x = [yTickmarks.index(i) for i in x_list]\n",
    "y = [xTickmarks.index(i) for i in y_list]\n",
    "    \n",
    "xlabels = [ '\\n'.join(wrap(l, 20)) for l in xTickmarks]\n",
    "ylabels = [ '\\n'.join(wrap(l, 20)) for l in yTickmarks] \n",
    "\n",
    "matplotlib.rc('font', serif='Helvetica Neue')\n",
    "matplotlib.rc('text', usetex='false')\n",
    "matplotlib.rcParams.update({'font.size': 10})\n",
    "fig = plt.figure(figsize=(12, 4), dpi = 100) # for landscape\n",
    "axes1 = fig.add_subplot(111)\n",
    "# title = '%s - %s' %('Form', 'Type')\n",
    "# save  = '%s - %s.png' %('Form', 'Type')\n",
    "\n",
    "plt.scatter(x, y, s = s, c = s_c)\n",
    "cb = plt.colorbar(format='%.0f', ticks = [1, 2, 3, 4])\n",
    "cb.set_label('Number of Fire Events', fontsize=10)\n",
    "    \n",
    "axes1.tick_params(axis='both', which='major', pad=10)\n",
    "axes1.set_xlim((-1, len(yTickmarks)))\n",
    "axes1.set_ylim((-1, len(xTickmarks)))\n",
    "axes1.set_xticks(xrange(len(yTickmarks)))\n",
    "axes1.set_yticks(xrange(len(xTickmarks)))\n",
    "axes1.set_xticklabels(ylabels, rotation = 30, fontsize = 8)\n",
    "axes1.set_yticklabels(xlabels, fontsize = 8)\n",
    "axes1.set_ylabel('Component Group', fontsize = 10, labelpad=10)\n",
    "axes1.set_xlabel('Form', fontsize = 10, labelpad=10)\n",
    "axes1.legend(prop={'size':5}, ncol=4)\n",
    "axes1.xaxis.grid(True)\n",
    "axes1.set_title('Gas (Form - Component Group)', fontsize = 12, x=0.5, y = 1.05)\n",
    "\n",
    "plt.show()\n",
    "fig.savefig(sys_up_dplo + 'Gas (Form - Component Group)', bbox_inches='tight')"
   ]
  },
  {
   "cell_type": "code",
   "execution_count": null,
   "metadata": {},
   "outputs": [],
   "source": [
    "df_em_challenging = EPRI_up[EPRI_up['Disposition_new'] == 'Challenging']\n",
    "df_em_chal_gas = df_em_challenging[df_em_challenging['Combustible Group'] == 'Gas']\n",
    "df_em_gpft = df_em_chal_gas[['Form', 'Building']].reset_index(drop = True)\n",
    "df_em_gpft = pd.DataFrame(df_em_gpft)\n",
    "counts = df_em_gpft.groupby(['Form', 'Building'])['Building'].count()\n",
    "\n",
    "x_list = counts.index.get_level_values(0).tolist()\n",
    "y_list = counts.index.get_level_values(1).tolist()\n",
    "s      = [50*n for n in counts.values]\n",
    "s_c    = [n for n in counts.values]\n",
    "\n",
    "\n",
    "xTickmarks = sorted(df_em_chal_gas['Building'].dropna().unique().tolist())\n",
    "yTickmarks = sorted(df_em_chal_gas['Form'].dropna().unique().tolist())\n",
    "\n",
    "x = [yTickmarks.index(i) for i in x_list]\n",
    "y = [xTickmarks.index(i) for i in y_list]\n",
    "    \n",
    "xlabels = [ '\\n'.join(wrap(l, 20)) for l in xTickmarks]\n",
    "ylabels = [ '\\n'.join(wrap(l, 20)) for l in yTickmarks] \n",
    "\n",
    "matplotlib.rc('font', serif='Helvetica Neue')\n",
    "matplotlib.rc('text', usetex='false')\n",
    "matplotlib.rcParams.update({'font.size': 10})\n",
    "fig = plt.figure(figsize=(12, 4), dpi = 100) # for landscape\n",
    "axes1 = fig.add_subplot(111)\n",
    "# title = '%s - %s' %('Form', 'Type')\n",
    "# save  = '%s - %s.png' %('Form', 'Type')\n",
    "\n",
    "plt.scatter(x, y, s = s, c = s_c)\n",
    "cb = plt.colorbar(format='%.0f')\n",
    "cb.set_label('Number of Fire Events', fontsize=10)\n",
    "    \n",
    "axes1.tick_params(axis='both', which='major', pad=10)\n",
    "axes1.set_xlim((-1, len(yTickmarks)))\n",
    "axes1.set_ylim((-1, len(xTickmarks)))\n",
    "axes1.set_xticks(xrange(len(yTickmarks)))\n",
    "axes1.set_yticks(xrange(len(xTickmarks)))\n",
    "axes1.set_xticklabels(ylabels, rotation = 30, fontsize = 8)\n",
    "axes1.set_yticklabels(xlabels, fontsize = 8)\n",
    "axes1.set_ylabel('Building', fontsize = 10, labelpad=10)\n",
    "axes1.set_xlabel('Form', fontsize = 10, labelpad=10)\n",
    "axes1.legend(prop={'size':5}, ncol=4)\n",
    "axes1.xaxis.grid(True)\n",
    "axes1.set_title('Gas (Form - Building)', fontsize = 12, x=0.5, y = 1.05)\n",
    "\n",
    "plt.show()\n",
    "fig.savefig(sys_up_dplo + 'Gas (Form - Building)', bbox_inches='tight')"
   ]
  },
  {
   "cell_type": "code",
   "execution_count": null,
   "metadata": {},
   "outputs": [],
   "source": [
    "fig_gas = plt.figure(figsize=(5,5), dpi=100)\n",
    "ax_gas = plt.subplot(111)\n",
    "gas_et['Form'].value_counts().plot(kind = 'pie', autopct='%.2f', legend = True, fontsize=10, label='')\n",
    "fig_gas.suptitle('Gas Form in Challenging Fire Severity', fontsize=12, x = 0.7, y =0.95)\n",
    "ax_gas.legend(bbox_to_anchor=(1.2, 1), fontsize = 10)\n",
    "plt.show()\n",
    "fig_gas.savefig(sys_up_dplo + \"Gas Form pie.png\", bbox_inches='tight')"
   ]
  },
  {
   "cell_type": "code",
   "execution_count": null,
   "metadata": {},
   "outputs": [],
   "source": []
  },
  {
   "cell_type": "code",
   "execution_count": null,
   "metadata": {},
   "outputs": [],
   "source": []
  },
  {
   "cell_type": "code",
   "execution_count": null,
   "metadata": {},
   "outputs": [],
   "source": []
  },
  {
   "cell_type": "code",
   "execution_count": null,
   "metadata": {},
   "outputs": [],
   "source": []
  },
  {
   "cell_type": "code",
   "execution_count": null,
   "metadata": {},
   "outputs": [],
   "source": []
  },
  {
   "cell_type": "code",
   "execution_count": null,
   "metadata": {},
   "outputs": [],
   "source": [
    "liq_et.groupby(['Type'])['Form'].value_counts()"
   ]
  },
  {
   "cell_type": "code",
   "execution_count": null,
   "metadata": {},
   "outputs": [],
   "source": [
    "liq_et['Combustible Group'].unique()"
   ]
  },
  {
   "cell_type": "code",
   "execution_count": null,
   "metadata": {},
   "outputs": [],
   "source": [
    "liq_tf_vc = pd.DataFrame(liq_et.groupby(['Form'])['Type'].value_counts())\n",
    "liq_tf_vc['Percentage'] = 100 * liq_tf_vc['Type']  / 540\n",
    "liq_tf_vc.Percentage = liq_tf_vc.Percentage.round(2)\n",
    "liq_tf_vc"
   ]
  },
  {
   "cell_type": "code",
   "execution_count": null,
   "metadata": {},
   "outputs": [],
   "source": [
    "from matplotlib.patches import Rectangle"
   ]
  },
  {
   "cell_type": "code",
   "execution_count": null,
   "metadata": {},
   "outputs": [],
   "source": [
    "liq_tf_vc = pd.DataFrame(liq_et.groupby(['Type'])['Form'].value_counts())\n",
    "liq_tf_vc['Percentage'] = 100 * liq_tf_vc['Form']  / df_em_challenging['Type'].count().sum()\n",
    "liq_tf_vc.Percentage = liq_tf_vc.Percentage.round(1)\n",
    "liq_tf_vc"
   ]
  },
  {
   "cell_type": "code",
   "execution_count": null,
   "metadata": {},
   "outputs": [],
   "source": [
    "liq_tf_vc = pd.DataFrame(liq_et.groupby(['Type'])['Form'].value_counts())\n",
    "liq_tf_vc['Percentage'] = 100 * liq_tf_vc['Form']  / liq_tf_vc['Form'].sum()\n",
    "liq_tf_vc.Percentage = liq_tf_vc.Percentage.round(1)\n",
    "ax_liq_tf = liq_tf_vc['Percentage'].plot(kind='bar', stacked = True)\n",
    "for p in ax_liq_tf.get_children()[:-1]:  # skip the last patch as it is the background\n",
    "    if isinstance(p, Rectangle):\n",
    "        x, y = p.get_xy()\n",
    "        w, h = p.get_width(), p.get_height()\n",
    "        if h > 0:  # anything that have a height of 0 will not be annotated\n",
    "            ax_liq_tf.text(x + 0.5 * w, y + 0.5 * h, '%0.0f'%h, va='center', ha='center')\n",
    "# plt.savefig(sys_up_dplo + 'Combustible Groups-Fire Severity')\n",
    "plt.show()"
   ]
  },
  {
   "cell_type": "code",
   "execution_count": null,
   "metadata": {},
   "outputs": [],
   "source": [
    "liq_tf_vc"
   ]
  },
  {
   "cell_type": "code",
   "execution_count": null,
   "metadata": {},
   "outputs": [],
   "source": [
    "pd.DataFrame(liq_et.groupby(['Type', 'Building', 'Component Group'])['Form'].value_counts())"
   ]
  },
  {
   "cell_type": "code",
   "execution_count": null,
   "metadata": {},
   "outputs": [],
   "source": []
  },
  {
   "cell_type": "code",
   "execution_count": null,
   "metadata": {},
   "outputs": [],
   "source": [
    "liq_tf_vc['Percentage'].sum()"
   ]
  },
  {
   "cell_type": "code",
   "execution_count": null,
   "metadata": {},
   "outputs": [],
   "source": [
    "df_em_challenging['Combustible Group'].count().sum()"
   ]
  },
  {
   "cell_type": "code",
   "execution_count": null,
   "metadata": {},
   "outputs": [],
   "source": [
    "ins_tf_vc = pd.DataFrame(ins_et.groupby(['Type'])['Form'].value_counts())\n",
    "ins_tf_vc['Percentage'] = (100 * ins_tf_vc['Form']  / df_em_challenging['Type'].count().sum()).round(1)\n",
    "ins_tf_vc.to_excel(sys_up_data + 'ins_types_forms.xlsx')\n",
    "ins_tf_vc"
   ]
  },
  {
   "cell_type": "code",
   "execution_count": null,
   "metadata": {},
   "outputs": [],
   "source": [
    "ins_tf_vc['Percentage'].sum()"
   ]
  },
  {
   "cell_type": "code",
   "execution_count": null,
   "metadata": {},
   "outputs": [],
   "source": [
    "gas_tf_vc = pd.DataFrame(gas_et.groupby(['Type'])['Form'].value_counts())\n",
    "gas_tf_vc['Percentage'] = (100 * gas_tf_vc['Form']  / df_em_challenging['Type'].count().sum()).round(1)\n",
    "gas_tf_vc.to_excel(sys_up_data + 'gas_type_form.xlsx')\n",
    "gas_tf_vc"
   ]
  },
  {
   "cell_type": "code",
   "execution_count": null,
   "metadata": {},
   "outputs": [],
   "source": [
    "gas_tf_vc['Percentage'].sum()"
   ]
  },
  {
   "cell_type": "code",
   "execution_count": null,
   "metadata": {},
   "outputs": [],
   "source": []
  },
  {
   "cell_type": "code",
   "execution_count": null,
   "metadata": {},
   "outputs": [],
   "source": []
  },
  {
   "cell_type": "code",
   "execution_count": null,
   "metadata": {},
   "outputs": [],
   "source": [
    "lqtf       = liq_et.groupby(['Type'])['Form'].value_counts()\n",
    "ax_lqtf    = lqtf.unstack().plot(kind='bar', stacked = True, figsize = (10,8))\n",
    "xTickmarks = sorted(liq_et['Type'].dropna().unique().tolist())  \n",
    "xlabels = [ '\\n'.join(wrap(l, 20)) for l in xTickmarks]\n",
    "ax_lqtf.set_xticklabels(xlabels, rotation = 30, fontsize = 10)\n",
    "ax_lqtf.set_xlabel('Liquid Type', fontsize = 12)\n",
    "ax_lqtf.legend(prop={'size':8}, ncol=1)\n",
    "ax_lqtf.set_title('Liquid Type and their Forms in Challenging Fire Events', fontsize = 14, x=0.5, y = 1.05)\n",
    "plt.savefig(sys_up_dplo + 'Liquid Type - Form Challenging Fire Events')\n",
    "plt.show()"
   ]
  },
  {
   "cell_type": "code",
   "execution_count": null,
   "metadata": {},
   "outputs": [],
   "source": []
  },
  {
   "cell_type": "code",
   "execution_count": null,
   "metadata": {},
   "outputs": [],
   "source": []
  },
  {
   "cell_type": "code",
   "execution_count": null,
   "metadata": {},
   "outputs": [],
   "source": []
  },
  {
   "cell_type": "markdown",
   "metadata": {},
   "source": [
    "**Gas Form and Building - Challenging**"
   ]
  },
  {
   "cell_type": "code",
   "execution_count": null,
   "metadata": {},
   "outputs": [],
   "source": [
    "df_em_challenging = EPRI_up[EPRI_up['Disposition_new'] == 'Challenging']\n",
    "df_em_chal_gas = df_em_challenging[df_em_challenging['Combustible Group'] == 'Gas']\n",
    "df_em_gpft = df_em_chal_gas[['Form', 'Building']].reset_index(drop = True)\n",
    "df_em_gpft = pd.DataFrame(df_em_gpft)\n",
    "counts = df_em_gpft.groupby(['Form', 'Building'])['Building'].count()\n",
    "\n",
    "x_list = counts.index.get_level_values(0).tolist()\n",
    "y_list = counts.index.get_level_values(1).tolist()\n",
    "s      = [50*n for n in counts.values]\n",
    "s_c    = [n for n in counts.values]\n",
    "\n",
    "\n",
    "xTickmarks = sorted(df_em_chal_gas['Building'].dropna().unique().tolist())\n",
    "yTickmarks = sorted(df_em_chal_gas['Form'].dropna().unique().tolist())\n",
    "\n",
    "x = [yTickmarks.index(i) for i in x_list]\n",
    "y = [xTickmarks.index(i) for i in y_list]\n",
    "    \n",
    "xlabels = [ '\\n'.join(wrap(l, 20)) for l in xTickmarks]\n",
    "ylabels = [ '\\n'.join(wrap(l, 20)) for l in yTickmarks] \n",
    "\n",
    "matplotlib.rc('font', serif='Helvetica Neue')\n",
    "matplotlib.rc('text', usetex='false')\n",
    "matplotlib.rcParams.update({'font.size': 10})\n",
    "fig = plt.figure(figsize=(7, 3), dpi = 100) # for landscape\n",
    "axes1 = fig.add_subplot(111)\n",
    "# title = '%s - %s' %('Form', 'Type')\n",
    "# save  = '%s - %s.png' %('Form', 'Type')\n",
    "\n",
    "plt.scatter(x, y, s = s, c = s_c)\n",
    "cb = plt.colorbar()\n",
    "cb.set_label('Number of Fire Events', fontsize=10)\n",
    "    \n",
    "axes1.tick_params(axis='both', which='major', pad=10)\n",
    "axes1.set_xlim((-1, len(yTickmarks)))\n",
    "axes1.set_ylim((-1, len(xTickmarks)))\n",
    "axes1.set_xticks(xrange(len(yTickmarks)))\n",
    "axes1.set_yticks(xrange(len(xTickmarks)))\n",
    "axes1.set_xticklabels(ylabels, rotation = 30, fontsize = 8)\n",
    "axes1.set_yticklabels(xlabels, fontsize = 8)\n",
    "axes1.set_ylabel('Building', fontsize = 10)\n",
    "axes1.set_xlabel('Form', fontsize = 10)\n",
    "axes1.legend(prop={'size':5}, ncol=4)\n",
    "axes1.xaxis.grid(True)\n",
    "axes1.set_title('Gas (Form - Building)', fontsize = 12, x=0.5, y = 1.05)\n",
    "\n",
    "plt.show()\n",
    "fig.savefig(sys_updated + 'Gas (Form - Building)', bbox_inches='tight')"
   ]
  },
  {
   "cell_type": "code",
   "execution_count": null,
   "metadata": {},
   "outputs": [],
   "source": [
    "df_em_chal_gas_turbine = df_em_chal_gas[df_em_chal_gas['Building'] == 'Turbine Building']"
   ]
  },
  {
   "cell_type": "code",
   "execution_count": null,
   "metadata": {},
   "outputs": [],
   "source": [
    "df_em_gpft = df_em_chal_gas_turbine[['Type', 'Fire Type']].reset_index(drop = True)\n",
    "df_em_gpft = pd.DataFrame(df_em_gpft)\n",
    "counts = df_em_gpft.groupby(['Type', 'Fire Type'])['Fire Type'].count()\n",
    "\n",
    "x_list = counts.index.get_level_values(0).tolist()\n",
    "y_list = counts.index.get_level_values(1).tolist()\n",
    "s      = [50*n for n in counts.values]\n",
    "s_c    = [n for n in counts.values]\n",
    "\n",
    "\n",
    "xTickmarks = sorted(df_em_chal_gas_turbine['Type'].dropna().unique().tolist())\n",
    "yTickmarks = sorted(df_em_chal_gas_turbine['Fire Type'].dropna().unique().tolist())\n",
    "\n",
    "x = [xTickmarks.index(i) for i in x_list]\n",
    "y = [yTickmarks.index(i) for i in y_list]\n",
    "    \n",
    "xlabels = [ '\\n'.join(wrap(l, 20)) for l in xTickmarks]\n",
    "ylabels = [ '\\n'.join(wrap(l, 20)) for l in yTickmarks] \n",
    "\n",
    "matplotlib.rc('font', serif='Helvetica Neue')\n",
    "matplotlib.rc('text', usetex='false')\n",
    "matplotlib.rcParams.update({'font.size': 10})\n",
    "fig = plt.figure(figsize=(5, 3), dpi = 100) # for landscape\n",
    "axes1 = fig.add_subplot(111)\n",
    "# title = '%s - %s' %('Form', 'Type')\n",
    "# save  = '%s - %s.png' %('Form', 'Type')\n",
    "\n",
    "plt.scatter(x, y, s = s, c = s_c)\n",
    "cb = plt.colorbar()\n",
    "cb.set_label('Number of Fire Events', fontsize=12)\n",
    "    \n",
    "axes1.tick_params(axis='both', which='major', pad=10)\n",
    "axes1.set_xlim((-1, len(xTickmarks)))\n",
    "axes1.set_ylim((-1, len(yTickmarks)))\n",
    "axes1.set_xticks(xrange(len(xTickmarks)))\n",
    "axes1.set_yticks(xrange(len(yTickmarks)))\n",
    "axes1.set_xticklabels(xlabels, rotation = 30, fontsize = 8)\n",
    "axes1.set_yticklabels(ylabels, fontsize = 8)\n",
    "axes1.set_ylabel('Fire Type', fontsize = 10)\n",
    "axes1.set_xlabel('Gas Type', fontsize = 10)\n",
    "axes1.legend(prop={'size':5}, ncol=4)\n",
    "axes1.xaxis.grid(True)\n",
    "axes1.set_title('Turbine Building  Gas Type - Fire Type', fontsize = 12, x=0.5, y = 1.05)\n",
    "\n",
    "plt.show()\n",
    "fig.savefig(sys_updated + 'Turbine Building -  Gas Type - Fire Type', bbox_inches='tight')"
   ]
  },
  {
   "cell_type": "code",
   "execution_count": null,
   "metadata": {},
   "outputs": [],
   "source": [
    "# df_em_challenging[df_em_challenging['Group'] == 'In_Situ']\n",
    "# df_em_gpft = df_epri_merge[[group1, group2]].reset_index(drop = True)\n",
    "# df_em_gpft = pd.DataFrame(df_em_gpft)\n",
    "# counts = df_em_gpft.groupby([group1, group2])[group2].count()\n",
    "\n",
    "df_em_gpft = df_em_chal_gas_turbine[['Type', 'Form']].reset_index(drop = True)\n",
    "df_em_gpft = pd.DataFrame(df_em_gpft)\n",
    "counts = df_em_gpft.groupby(['Type', 'Form'])['Form'].count()\n",
    "\n",
    "x_list = counts.index.get_level_values(0).tolist()\n",
    "y_list = counts.index.get_level_values(1).tolist()\n",
    "s      = [50*n for n in counts.values]\n",
    "s_c    = [n for n in counts.values]\n",
    "\n",
    "\n",
    "xTickmarks = sorted(df_em_chal_gas_turbine['Type'].dropna().unique().tolist())\n",
    "yTickmarks = sorted(df_em_chal_gas_turbine['Form'].dropna().unique().tolist())\n",
    "\n",
    "x = [xTickmarks.index(i) for i in x_list]\n",
    "y = [yTickmarks.index(i) for i in y_list]\n",
    "    \n",
    "xlabels = [ '\\n'.join(wrap(l, 20)) for l in xTickmarks]\n",
    "ylabels = [ '\\n'.join(wrap(l, 20)) for l in yTickmarks] \n",
    "\n",
    "matplotlib.rc('font', serif='Helvetica Neue')\n",
    "matplotlib.rc('text', usetex='false')\n",
    "matplotlib.rcParams.update({'font.size': 10})\n",
    "fig = plt.figure(figsize=(5, 3), dpi = 100) # for landscape\n",
    "axes1 = fig.add_subplot(111)\n",
    "# title = '%s - %s' %('Form', 'Type')\n",
    "# save  = '%s - %s.png' %('Form', 'Type')\n",
    "\n",
    "plt.scatter(x, y, s = s, c = s_c)\n",
    "cb = plt.colorbar()\n",
    "cb.set_label('Number of Fire Events', fontsize=10)\n",
    "    \n",
    "axes1.tick_params(axis='both', which='major', pad=10)\n",
    "axes1.set_xlim((-1, len(xTickmarks)))\n",
    "axes1.set_ylim((-1, len(yTickmarks)))\n",
    "axes1.set_xticks(xrange(len(xTickmarks)))\n",
    "axes1.set_yticks(xrange(len(yTickmarks)))\n",
    "axes1.set_xticklabels(xlabels, rotation = 30, fontsize = 8)\n",
    "axes1.set_yticklabels(ylabels, fontsize = 8)\n",
    "axes1.set_ylabel('Form', fontsize = 10)\n",
    "axes1.set_xlabel('Type', fontsize = 10)\n",
    "axes1.legend(prop={'size':5}, ncol=4)\n",
    "axes1.xaxis.grid(True)\n",
    "axes1.set_title('Turbine Building - Gas Form - Fire Type', fontsize = 12, x=0.5, y = 1.05)\n",
    "\n",
    "plt.show()\n",
    "fig.savefig(sys_updated + 'Turbine Building Gas Type - Gas Form', bbox_inches='tight')"
   ]
  },
  {
   "cell_type": "code",
   "execution_count": null,
   "metadata": {},
   "outputs": [],
   "source": [
    "# df_em_challenging[df_em_challenging['Group'] == 'In_Situ']\n",
    "# df_em_gpft = df_epri_merge[[group1, group2]].reset_index(drop = True)\n",
    "# df_em_gpft = pd.DataFrame(df_em_gpft)\n",
    "# counts = df_em_gpft.groupby([group1, group2])[group2].count()\n",
    "\n",
    "df_em_gpft = df_em_chal_gas_turbine[['Type', 'Component Group']].reset_index(drop = True)\n",
    "df_em_gpft = pd.DataFrame(df_em_gpft)\n",
    "counts = df_em_gpft.groupby(['Type', 'Component Group'])['Component Group'].count()\n",
    "\n",
    "x_list = counts.index.get_level_values(0).tolist()\n",
    "y_list = counts.index.get_level_values(1).tolist()\n",
    "s      = [50*n for n in counts.values]\n",
    "s_c    = [n for n in counts.values]\n",
    "\n",
    "\n",
    "xTickmarks = sorted(df_em_chal_gas_turbine['Type'].dropna().unique().tolist())\n",
    "yTickmarks = sorted(df_em_chal_gas_turbine['Component Group'].dropna().unique().tolist())\n",
    "\n",
    "x = [xTickmarks.index(i) for i in x_list]\n",
    "y = [yTickmarks.index(i) for i in y_list]\n",
    "    \n",
    "xlabels = [ '\\n'.join(wrap(l, 20)) for l in xTickmarks]\n",
    "ylabels = [ '\\n'.join(wrap(l, 20)) for l in yTickmarks] \n",
    "\n",
    "matplotlib.rc('font', serif='Helvetica Neue')\n",
    "matplotlib.rc('text', usetex='false')\n",
    "matplotlib.rcParams.update({'font.size': 10})\n",
    "fig = plt.figure(figsize=(5, 3), dpi = 100) # for landscape\n",
    "axes1 = fig.add_subplot(111)\n",
    "# title = '%s - %s' %('Form', 'Type')\n",
    "# save  = '%s - %s.png' %('Form', 'Type')\n",
    "\n",
    "plt.scatter(x, y, s = s, c = s_c)\n",
    "cb = plt.colorbar()\n",
    "cb.set_label('Number of Fire Events', fontsize=10)\n",
    "    \n",
    "axes1.tick_params(axis='both', which='major', pad=10)\n",
    "axes1.set_xlim((-1, len(xTickmarks)))\n",
    "axes1.set_ylim((-1, len(yTickmarks)))\n",
    "axes1.set_xticks(xrange(len(xTickmarks)))\n",
    "axes1.set_yticks(xrange(len(yTickmarks)))\n",
    "axes1.set_xticklabels(xlabels, rotation = 30, fontsize = 8)\n",
    "axes1.set_yticklabels(ylabels, fontsize = 8)\n",
    "axes1.set_ylabel('Component Group', fontsize = 10)\n",
    "axes1.set_xlabel('Type', fontsize = 10)\n",
    "axes1.legend(prop={'size':5}, ncol=4)\n",
    "axes1.xaxis.grid(True)\n",
    "axes1.set_title('Turbine Building - Gas Type - Component Group', fontsize = 12, x=0.5, y = 1.05)\n",
    "\n",
    "plt.show()\n",
    "fig.savefig(sys_updated + 'Turbine Building Gas Type - Component Group', bbox_inches='tight')"
   ]
  },
  {
   "cell_type": "markdown",
   "metadata": {},
   "source": [
    "**Primary Combustible Groups**"
   ]
  },
  {
   "cell_type": "code",
   "execution_count": null,
   "metadata": {},
   "outputs": [],
   "source": [
    "fig_grp = plt.figure(figsize=(20, 12), dpi=100)\n",
    "ax_grp  = plt.subplot(111)\n",
    "EPRI_up['Combustible Group'].value_counts().plot(kind = 'pie', autopct='%.2f', legend = True, fontsize=10, label='')\n",
    "#plt.legend(loc='upper left')\n",
    "fig_grp.suptitle('Primary Combustible Groups for Fire Events in NPP (1990-2014)', fontsize=10, x = 0.55, y = 0.9)\n",
    "ax_grp.legend(fontsize = 10, bbox_to_anchor=(0.9, 0.98))\n",
    "plt.show()\n",
    "fig_grp.savefig(sys_updated + \"Primary Combustible Groups.png\", bbox_inches='tight')"
   ]
  },
  {
   "cell_type": "markdown",
   "metadata": {},
   "source": [
    "**Primary Combustible Group - Challenging**"
   ]
  },
  {
   "cell_type": "code",
   "execution_count": null,
   "metadata": {},
   "outputs": [],
   "source": [
    "fig_grc = plt.figure(figsize=(8, 6), dpi=100)\n",
    "ax_grc  = plt.subplot(111)\n",
    "df_em_challenging['Combustible Group'].value_counts().plot(kind = 'pie', autopct='%.2f', legend = True, fontsize=10, label='')\n",
    "#plt.legend(loc='upper left')\n",
    "fig_grc.suptitle('Primary Combustible Groups for Challenging Fire Events (1990-2014)', fontsize=12, x = 0.55, y = 0.95)\n",
    "ax_grc.legend(fontsize = 10, bbox_to_anchor=(0.9, 0.98))\n",
    "plt.show()\n",
    "fig_grc.savefig(sys_updated + \"Primary Combustible Groups Challenging.png\", bbox_inches='tight')"
   ]
  },
  {
   "cell_type": "code",
   "execution_count": null,
   "metadata": {},
   "outputs": [],
   "source": [
    "df_em_challenging['Combustible Group'].value_counts()"
   ]
  },
  {
   "cell_type": "code",
   "execution_count": null,
   "metadata": {},
   "outputs": [],
   "source": [
    "fig_grc = plt.figure(figsize=(8, 6), dpi=100)\n",
    "ax_grc  = plt.subplot(111)\n",
    "df_em_challenging['Type'].value_counts().plot(kind = 'pie', autopct='%.2f', legend = True, fontsize=10, label= '')\n",
    "#plt.legend(loc='upper left')\n",
    "fig_grc.suptitle('Primary Combustible Type for Challenging Fire Events (1990-2014)', fontsize=12, x = 0.55, y = 0.95)\n",
    "ax_grc.legend(fontsize = 10, bbox_to_anchor=(0.9, 0.98))\n",
    "plt.show()\n",
    "fig_grc.savefig(sys_updated + \"Primary Combustible Type Challenging.png\", bbox_inches='tight')"
   ]
  },
  {
   "cell_type": "code",
   "execution_count": null,
   "metadata": {},
   "outputs": [],
   "source": [
    "df_em_challenging['Type'].value_counts().sum()"
   ]
  },
  {
   "cell_type": "code",
   "execution_count": null,
   "metadata": {},
   "outputs": [],
   "source": []
  },
  {
   "cell_type": "code",
   "execution_count": null,
   "metadata": {},
   "outputs": [],
   "source": []
  },
  {
   "cell_type": "code",
   "execution_count": null,
   "metadata": {},
   "outputs": [],
   "source": []
  },
  {
   "cell_type": "code",
   "execution_count": null,
   "metadata": {},
   "outputs": [],
   "source": []
  },
  {
   "cell_type": "code",
   "execution_count": null,
   "metadata": {},
   "outputs": [],
   "source": []
  },
  {
   "cell_type": "code",
   "execution_count": null,
   "metadata": {},
   "outputs": [],
   "source": []
  },
  {
   "cell_type": "code",
   "execution_count": null,
   "metadata": {},
   "outputs": [],
   "source": []
  },
  {
   "cell_type": "markdown",
   "metadata": {},
   "source": [
    "**NPP Buildings**"
   ]
  },
  {
   "cell_type": "code",
   "execution_count": null,
   "metadata": {},
   "outputs": [],
   "source": [
    "fig_bd = plt.figure(figsize=(5,5), dpi=100)\n",
    "ax_bd = plt.subplot(111)\n",
    "EPRI_up['Building'].value_counts().plot(kind = 'pie', autopct='%.2f', legend = True, fontsize=10, label='')\n",
    "#plt.legend(loc='upper left')\n",
    "fig_bd.suptitle('NPP Buildings for Fire Events between 1990-2009', fontsize=12, x = 0.65, y = 1)\n",
    "ax_bd.legend(fontsize = 8, bbox_to_anchor=(1.25, 1.05))\n",
    "plt.show()\n",
    "fig_bd.savefig(sys_updated + \"Building.png\", bbox_inches='tight')"
   ]
  },
  {
   "cell_type": "markdown",
   "metadata": {},
   "source": [
    "**Dispostion new**"
   ]
  },
  {
   "cell_type": "code",
   "execution_count": null,
   "metadata": {},
   "outputs": [],
   "source": [
    "fig_disp = plt.figure(figsize=(5,5), dpi=100)\n",
    "ax_disp = plt.subplot(111)\n",
    "EPRI_up['Disposition_new'].value_counts().plot(kind = 'pie', autopct='%.2f', legend = True, fontsize=10, label='')\n",
    "#plt.legend(loc='upper left')\n",
    "fig_disp.suptitle('Revised Disposition of Fire Events at NPPs between 1990-2009', fontsize=10, x =0.6 )\n",
    "ax_disp.legend(bbox_to_anchor=(1, 1))\n",
    "plt.show()\n",
    "fig_disp.savefig(sys_updated + \"Revised Disposition of Fire Events at NPPs between 1990-2009.png\", bbox_inches='tight')"
   ]
  },
  {
   "cell_type": "markdown",
   "metadata": {},
   "source": [
    "**Combustible Group**"
   ]
  },
  {
   "cell_type": "code",
   "execution_count": null,
   "metadata": {},
   "outputs": [],
   "source": [
    "correlation_plot('Combustible Group', 'Building', 18, 12)"
   ]
  },
  {
   "cell_type": "markdown",
   "metadata": {},
   "source": [
    "**Turbine Building - Component Group - Fire Type**"
   ]
  },
  {
   "cell_type": "code",
   "execution_count": null,
   "metadata": {},
   "outputs": [],
   "source": [
    "dpcg_gt       = df_em_chal_gas_turbine.groupby(['Component Group'])['Fire Type'].value_counts()\n",
    "ax_dpcg_gt    = dpcg_gt.unstack().plot(kind='bar', stacked = True, figsize = (10,6))\n",
    "xTickmarks = sorted(df_em_chal_gas_turbine['Component Group'].dropna().unique().tolist())  \n",
    "xlabels = [ '\\n'.join(wrap(l, 20)) for l in xTickmarks]\n",
    "ax_dpcg_gt.set_xticklabels(xlabels, rotation = 0, fontsize = 10)\n",
    "ax_dpcg_gt.set_xlabel('Fire Cause', fontsize = 12)\n",
    "ax_dpcg_gt.legend(prop={'size':10}, ncol=1, loc = 'upper left')\n",
    "ax_dpcg_gt.set_title('Turbine Building - Gas, Component Group -  Fire Type', fontsize = 14, x=0.5, y = 1.05)\n",
    "plt.savefig(sys_updated + 'Turbine Building Gas Component Group Fire Type')\n",
    "plt.show()"
   ]
  },
  {
   "cell_type": "markdown",
   "metadata": {},
   "source": [
    "**Fire Severity Classification**"
   ]
  },
  {
   "cell_type": "code",
   "execution_count": null,
   "metadata": {},
   "outputs": [],
   "source": [
    "fig_disp = plt.figure(figsize=(5,5), dpi=100)\n",
    "ax_disp = plt.subplot(111)\n",
    "EPRI_up['Disposition_new'].value_counts().plot(kind = 'pie', autopct='%.2f', legend = True, fontsize=10, label='')\n",
    "#plt.legend(loc='upper left')\n",
    "fig_disp.suptitle('Disposition of Fire Events at NPPs between 1990-2014', fontsize=12, x =0.6 )\n",
    "ax_disp.legend(bbox_to_anchor=(1, 1.05))\n",
    "plt.show()\n",
    "fig_disp.savefig(sys_updated + \"Disposition of Fire Events at NPPs between 1990-2014.png\", bbox_inches='tight')"
   ]
  },
  {
   "cell_type": "code",
   "execution_count": null,
   "metadata": {},
   "outputs": [],
   "source": [
    "print(EPRI_up['Disposition_new'].value_counts())\n",
    "print(EPRI_up['Disposition_new'].isnull().sum())"
   ]
  },
  {
   "cell_type": "code",
   "execution_count": null,
   "metadata": {},
   "outputs": [],
   "source": []
  },
  {
   "cell_type": "code",
   "execution_count": null,
   "metadata": {},
   "outputs": [],
   "source": []
  },
  {
   "cell_type": "code",
   "execution_count": null,
   "metadata": {},
   "outputs": [],
   "source": []
  },
  {
   "cell_type": "code",
   "execution_count": null,
   "metadata": {},
   "outputs": [],
   "source": [
    "# EPRI_up['Duration_norm'] = EPRI_up['Duration']\n",
    "# EPRI_up['Duration_norm'] = EPRI_up['Duration_norm'] /EPRI_up['Duration_norm'].abs().max()\n",
    "ax_stdp.set_ylim(-10, 100)\n",
    "ax_stdp.set_ylabel('Time (Seconds)')\n",
    "ax_stdp.set_xlabel('Dispostion')\n",
    "ax_stdp.set_title('Suppression Time and Disposition')"
   ]
  },
  {
   "cell_type": "code",
   "execution_count": null,
   "metadata": {},
   "outputs": [],
   "source": [
    "# EPRI_up['Duration'].plot.hist()"
   ]
  },
  {
   "cell_type": "code",
   "execution_count": null,
   "metadata": {},
   "outputs": [],
   "source": [
    "EPRI_up_chal = EPRI_up[EPRI_up['Disposition_new'] == 'Challenging']"
   ]
  },
  {
   "cell_type": "code",
   "execution_count": null,
   "metadata": {},
   "outputs": [],
   "source": [
    "EPRI_up_chal['Suppression Time'].plot.hist()"
   ]
  },
  {
   "cell_type": "code",
   "execution_count": null,
   "metadata": {},
   "outputs": [],
   "source": [
    "# EPRI_up_nchal = EPRI_up[EPRI_up['Disposition_new'] == 'Not Challenging']\n",
    "# EPRI_up_nchal['Duration'].plot.hist(range = [0,50])"
   ]
  },
  {
   "cell_type": "code",
   "execution_count": null,
   "metadata": {},
   "outputs": [],
   "source": [
    "# EPRI_up_neval = EPRI_up[EPRI_up['Disposition_new'] == 'Not Evaluated']\n",
    "# EPRI_up_neval['Duration'].plot.hist(range = [0,50])"
   ]
  },
  {
   "cell_type": "code",
   "execution_count": null,
   "metadata": {},
   "outputs": [],
   "source": [
    "FTS_n['Disposition_FTS'] = FTS_n['Disposition_FTS'].replace(['Not Challenging/Undeter','12/2/2011'],\n",
    "                                                           ['Not Challenging', np.nan])\n",
    "FTS_n['Disposition_FTS_new'] = FTS_n['Disposition_FTS'] \n",
    "FTS_n['Disposition_FTS_new'] = FTS_n['Disposition_FTS_new'].replace(['Potentially Challenging', 'Challenging', 'Undetermined (PC-CH)'],\n",
    "                                                                   'Challenging')\n",
    "FTS_n['Disposition_FTS_new'] = FTS_n['Disposition_FTS_new'].replace(['Undetermined (NC-PC)'],\n",
    "                                                                   'Not Challenging')"
   ]
  },
  {
   "cell_type": "code",
   "execution_count": null,
   "metadata": {},
   "outputs": [],
   "source": [
    "FTS_n_chal = FTS_n[FTS_n['Disposition_FTS_new'] == 'Not Challenging']\n",
    "FTS_n_chal['Suppression Time'].plot.hist(range = [0,20])"
   ]
  },
  {
   "cell_type": "code",
   "execution_count": null,
   "metadata": {},
   "outputs": [],
   "source": []
  }
 ],
 "metadata": {
  "kernelspec": {
   "display_name": "Python 3",
   "language": "python",
   "name": "python3"
  },
  "language_info": {
   "codemirror_mode": {
    "name": "ipython",
    "version": 3
   },
   "file_extension": ".py",
   "mimetype": "text/x-python",
   "name": "python",
   "nbconvert_exporter": "python",
   "pygments_lexer": "ipython3",
   "version": "3.7.3"
  }
 },
 "nbformat": 4,
 "nbformat_minor": 4
}
