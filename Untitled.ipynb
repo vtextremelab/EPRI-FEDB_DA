{
 "cells": [
  {
   "cell_type": "code",
   "execution_count": null,
   "metadata": {},
   "outputs": [],
   "source": [
    "rev_fsc = EPRI_up[EPRI_up['Disposition_new'] == 'Challenging']\n",
    "old_fsc = EPRI_up[EPRI_up['Disposition_FES'] == 'Challenging']\n",
    "\n",
    "fev = pd.DataFrame({\"Year\":sorted(rev_fsc['year'].unique().astype(int)),\n",
    "             \"Chal_PotChal\":rev_fsc.groupby(['year'])['Disposition_new'].value_counts().to_list(),\n",
    "                     \"Chal\": EPRI_up.loc[EPRI_up.Disposition_FES == 'Challenging', 'year'].value_counts().reindex(\n",
    "    EPRI_up.year.unique(), fill_value=0).sort_index(ascending=True)})"
   ]
  }
 ],
 "metadata": {
  "kernelspec": {
   "display_name": "Python 3",
   "language": "python",
   "name": "python3"
  },
  "language_info": {
   "codemirror_mode": {
    "name": "ipython",
    "version": 3
   },
   "file_extension": ".py",
   "mimetype": "text/x-python",
   "name": "python",
   "nbconvert_exporter": "python",
   "pygments_lexer": "ipython3",
   "version": "3.7.3"
  }
 },
 "nbformat": 4,
 "nbformat_minor": 4
}
