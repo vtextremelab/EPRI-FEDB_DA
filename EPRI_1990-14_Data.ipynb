{
 "cells": [
  {
   "cell_type": "markdown",
   "metadata": {},
   "source": [
    "# Import Libraries"
   ]
  },
  {
   "cell_type": "code",
   "execution_count": 1,
   "metadata": {},
   "outputs": [],
   "source": [
    "import pandas as pd\n",
    "import numpy as np\n",
    "import matplotlib.pyplot as plt\n",
    "import os\n",
    "from functools import reduce\n",
    "import matplotlib\n",
    "from past.builtins import xrange\n",
    "from textwrap import wrap\n",
    "from matplotlib import cm\n",
    "import random\n",
    "import matplotlib.colors as mcolors\n",
    "import seaborn as sns\n",
    "from matplotlib.patches import Rectangle\n",
    "import pickle"
   ]
  },
  {
   "cell_type": "code",
   "execution_count": 2,
   "metadata": {},
   "outputs": [],
   "source": [
    "prefix   = 'E:/ML Fire/EPRI-Data/EPRI_OG/EPRI-FEDB_DA/'\n",
    "plot     = 'Plots/'\n",
    "old      = 'Old/'\n",
    "updated_data = 'Updated Data/'\n",
    "up_data_plot =  'Updated Data/Plots/'\n",
    "sys_plot = os.path.join(prefix, plot)\n",
    "sys_old  = os.path.join(prefix, old)\n",
    "sys_up_data = os.path.join(prefix, updated_data)\n",
    "sys_up_dplo = os.path.join(prefix, up_data_plot)"
   ]
  },
  {
   "cell_type": "markdown",
   "metadata": {},
   "source": [
    "# Import EPRI data"
   ]
  },
  {
   "cell_type": "markdown",
   "metadata": {},
   "source": [
    "**1990-2009**"
   ]
  },
  {
   "cell_type": "code",
   "execution_count": 3,
   "metadata": {},
   "outputs": [],
   "source": [
    "EPRI_90_09 = 'EPRI.xlsx'\n",
    "\n",
    "# Extracting Data-frames \n",
    "FES_o = pd.read_excel(EPRI_90_09, sheet_name = 'Fire Event Summaries')\n",
    "FEA_o = pd.read_excel(EPRI_90_09, sheet_name = 'Fire Event Attributes')\n",
    "FSE_o = pd.read_excel(EPRI_90_09, sheet_name = 'Fire Severity Evaluation')\n",
    "FTS_o = pd.read_excel(EPRI_90_09, sheet_name = 'Fire Timeline and Suppression')\n",
    "PR_o  = pd.read_excel(EPRI_90_09, sheet_name = 'Plant Response')\n",
    "\n",
    "epri_o = [FES_o, FEA_o, FSE_o, FTS_o, PR_o]"
   ]
  },
  {
   "cell_type": "code",
   "execution_count": 4,
   "metadata": {},
   "outputs": [
    {
     "name": "stdout",
     "output_type": "stream",
     "text": [
      "(2186, 11) (1972, 12) (2190, 7) (1816, 14) (1976, 9)\n"
     ]
    }
   ],
   "source": [
    "print(FES_o.shape, FEA_o.shape, FSE_o.shape, FTS_o.shape, PR_o.shape)"
   ]
  },
  {
   "cell_type": "markdown",
   "metadata": {},
   "source": [
    "**2010-2014**"
   ]
  },
  {
   "cell_type": "code",
   "execution_count": null,
   "metadata": {},
   "outputs": [],
   "source": [
    "EPRI_10_14 = 'EPRI_10_14.xlsx'\n",
    "\n",
    "# Extracting Data-frames \n",
    "FES_n = pd.read_excel(EPRI_10_14, sheet_name = 'Fire Event Summaries')\n",
    "FEA_n = pd.read_excel(EPRI_10_14, sheet_name = 'Fire Event Attributes')\n",
    "FSE_n = pd.read_excel(EPRI_10_14, sheet_name = 'Fire Severity Evaluation')\n",
    "FTS_n = pd.read_excel(EPRI_10_14, sheet_name = 'Fire Timeline and Suppression')\n",
    "PR_n  = pd.read_excel(EPRI_10_14, sheet_name = 'Plant Response')\n",
    "\n",
    "epri_n = [FES_n, FEA_n, FSE_n, FTS_n, PR_n]"
   ]
  },
  {
   "cell_type": "code",
   "execution_count": null,
   "metadata": {},
   "outputs": [],
   "source": [
    "print(FES_n.shape, FEA_n.shape, FSE_n.shape, FTS_n.shape, PR_n.shape)"
   ]
  },
  {
   "cell_type": "markdown",
   "metadata": {},
   "source": [
    "**Appending Sheets**"
   ]
  },
  {
   "cell_type": "code",
   "execution_count": null,
   "metadata": {},
   "outputs": [],
   "source": [
    "FES_up = pd.concat([FES_o, FES_n], ignore_index=True)\n",
    "FEA_up = pd.concat([FEA_o, FEA_n], ignore_index = True)\n",
    "FSE_up = pd.concat([FSE_o, FSE_n], ignore_index = True)\n",
    "FTS_up = pd.concat([FTS_o, FTS_n], ignore_index = True)\n",
    "PR_up  = pd.concat([PR_o, PR_n], ignore_index = True)\n",
    "EPRI_uplist = [FES_up, FEA_up, FSE_up, FTS_up, PR_up]"
   ]
  },
  {
   "cell_type": "markdown",
   "metadata": {},
   "source": [
    "**Merging Sheets**"
   ]
  },
  {
   "cell_type": "code",
   "execution_count": null,
   "metadata": {},
   "outputs": [],
   "source": [
    "EPRI_up = reduce(lambda x,y: pd.merge(x,y, on='FireID', how='outer', sort = True), EPRI_uplist)"
   ]
  },
  {
   "cell_type": "markdown",
   "metadata": {},
   "source": [
    "# Data Cleanup"
   ]
  },
  {
   "cell_type": "markdown",
   "metadata": {},
   "source": [
    "**Disposition**"
   ]
  },
  {
   "cell_type": "code",
   "execution_count": null,
   "metadata": {},
   "outputs": [],
   "source": [
    "EPRI_up['Disposition_FES'].unique()"
   ]
  },
  {
   "cell_type": "code",
   "execution_count": null,
   "metadata": {},
   "outputs": [],
   "source": [
    "EPRI_up['Disposition_FES'] = EPRI_up['Disposition_FES'].replace(['Potentially\\xa0Challenging', ' Potentially\\xa0Challenging', 'Potentailly Challenging ',\n",
    "                                                      ' Not\\xa0Challenging', 'Not\\xa0Challenging',\n",
    "                                                       'Undetermined\\xa0(NC‐PC)', 'Undetermined\\xa0(PC‐CH)', ' Undetermined\\xa0(PC‐CH)', ' Undetermined\\xa0(NC‐PC)',\n",
    "                                                      'Undetermined(NC‐PC)', 'Not+D20421:D20432Challenging', ' Challenging', 'Undetermined (NC‐PC) ', 'Undetermined (PC-CH)',\n",
    "                                                                            'Not Challenging ', 'Potentially Challenging '],\n",
    "                                                      ['Potentially Challenging', 'Potentially Challenging', 'Potentially Challenging',\n",
    "                                                      'Not Challenging', 'Not Challenging', \n",
    "                                                      'Undetermined (NC‐PC)', 'Undetermined (PC‐CH)', 'Undetermined (PC‐CH)', 'Undetermined (NC‐PC)',\n",
    "                                                      'Undetermined (NC‐PC)', 'Not Challenging', 'Challenging', 'Undetermined (NC‐PC)', 'Undetermined (PC‐CH)',\n",
    "                                                      'Not Challenging', 'Potentially Challenging'])\n",
    "\n",
    "EPRI_up['Disposition_FES'] = EPRI_up['Disposition_FES'].replace(['Not Challenging/Undeter', '12/2/2011', 'Undetermined'],\n",
    "                                                               np.nan)\n",
    "EPRI_up['Disposition_FES'] = EPRI_up['Disposition_FES'].replace(['Undetermined (NC-PC)'],\n",
    "                                                               'Undetermined (NC‐PC)')\n",
    "\n",
    "#EPRI_up['Disposition_FES'].value_counts()"
   ]
  },
  {
   "cell_type": "markdown",
   "metadata": {},
   "source": [
    "**Fire Type**"
   ]
  },
  {
   "cell_type": "code",
   "execution_count": null,
   "metadata": {},
   "outputs": [],
   "source": [
    "EPRI_up['Fire Type'].unique()"
   ]
  },
  {
   "cell_type": "code",
   "execution_count": null,
   "metadata": {},
   "outputs": [],
   "source": [
    "EPRI_up['Fire Type'] = EPRI_up['Fire Type'].replace(['laming combustion – external to component', \n",
    "                                                     'Flamingcombustion–externaltocomponent',\n",
    "                                                    ': Flaming combustion – external to component',\n",
    "                                                    'Flaming combustion – external to component '], 'Flaming combustion – external to component')\n",
    "\n",
    "EPRI_up['Fire Type'] = EPRI_up['Fire Type'].replace(['Smolderingcombustion–internaltocomponent',\n",
    "                                                    'Smoldering combustion – internal to componen'],\n",
    "                                                    'Smoldering combustion – internal to component')\n",
    "\n",
    "EPRI_up['Fire Type'] = EPRI_up['Fire Type'].replace(['Smolderingcombustion–externaltocomponent'],\n",
    "                                                    'Smoldering combustion – external to component')\n",
    "\n",
    "EPRI_up['Fire Type'] = EPRI_up['Fire Type'].replace(['Flamingcombustion–internaltocomponent',\n",
    "                                                    'Flaming combustion – internal to componen',\n",
    "                                                    ': Flaming combustion – internal to component'], \n",
    "                                                    'Flaming combustion – internal to component')\n",
    "EPRI_up['Fire Type'] = EPRI_up['Fire Type'].replace(['Fire not observed and fire type indeterminate from post‐inspectio',\n",
    "                                                    'Firenotobservedandfiretypeindeterminatefrompost‐inspectio',\n",
    "                                                    'Firenotobservedandfiretypeindeterminatefrompost‐inspectio\\nFireTypeUnknown:',\n",
    "                                                    ' Fire not observed and fire type indeterminate from post‐inspectio',\n",
    "                                                    'Fire not observed and fire type indeterminate from post‐inspectio\\n',\n",
    "                                                    'Fire not observed and fire type indeterminate from post-inspection'], \n",
    "                                                    'Fire not observed and fire type indeterminate from post‐inspection')\n",
    "EPRI_up['Fire Type'] = EPRI_up['Fire Type'].replace(['Arc/electricdischarge',\n",
    "                                                    ': Arc/electric discharge',\n",
    "                                                    ' Arc/electric discharge'],\n",
    "                                                   'Arc/electric discharge')\n",
    "\n",
    "EPRI_up['Fire Type'] = EPRI_up['Fire Type'].replace(['No Fire\\xa0‐\\xa0False actuation of detection device',\n",
    "                                                    'NoFire‐Falseactuationofdetectiondevice'],\n",
    "                                                   'No Fire ‐ False actuation of detection device')\n",
    "\n",
    "EPRI_up['Fire Type'] = EPRI_up['Fire Type'].replace(['Overheating – no  or flaming combustion',\n",
    "                                                    'Overheating–nosmolderingorflamingcombustion',\n",
    "                                                    'verheating – no smoldering or flaming combustion'],\n",
    "                                                    'Overheating – no smoldering or flaming combustion')\n",
    "\n",
    "EPRI_up['Fire Type'] = EPRI_up['Fire Type'].replace(['Other(specify)',\n",
    "                                                    'Other (specify', 'Mechanicalequipmentmalfunction/failure'],\n",
    "                                                   ['Other (specify)', \n",
    "                                                    'Other (specify)', 'Mechanical equipment malfunction/failure'])\n",
    "\n",
    "EPRI_up['Fire Type'] = EPRI_up['Fire Type'].replace(['Mechanical equipment malfunction/failure',\n",
    "                                                     'Overheated Material (lube oil, pump packing, thermal insulation, etc.)',\n",
    "                                                     'Other electrical or electronic equipment', \n",
    "                                                     'Hot work (cutting/welding/grinding/etc.)', \n",
    "                                                     'Light smoke coming from ignition source\\xa0‐\\xa0minor or no visibility reduction in vicinity of fire', \n",
    "                                                     'Temporary electrical wiring or equipment'],\n",
    "                                                   np.nan)"
   ]
  },
  {
   "cell_type": "code",
   "execution_count": null,
   "metadata": {},
   "outputs": [],
   "source": [
    "EPRI_up['Fire Type'].value_counts()"
   ]
  },
  {
   "cell_type": "markdown",
   "metadata": {},
   "source": [
    "**Fire Cause**"
   ]
  },
  {
   "cell_type": "code",
   "execution_count": null,
   "metadata": {},
   "outputs": [],
   "source": [
    "EPRI_up['Fire Cause'].unique()"
   ]
  },
  {
   "cell_type": "code",
   "execution_count": null,
   "metadata": {},
   "outputs": [],
   "source": [
    "EPRI_up['Fire Cause'] = EPRI_up['Fire Cause'].replace(['High Energy Arc Fault', 'HighEnergyArcFault(HEAF)',\n",
    "                                                      'High Energy Arc Fault (HEAF'],\n",
    "                                                     'High Energy Arc Fault (HEAF)')\n",
    "\n",
    "EPRI_up['Fire Cause'] = EPRI_up['Fire Cause'].replace(['Electricalarcingorsparks(non‐HEAF)', 'Electrical arcing or sparks (non‐HEAF',\n",
    "                                                      'Electrical arcing or sparks (non‐HEAF)\\n'],\n",
    "                                                     'Electrical arcing or sparks (non‐HEAF)')\n",
    "\n",
    "EPRI_up['Fire Cause'] = EPRI_up['Fire Cause'].replace(['Electricalfailureresultinginoverheatingmaterials',\n",
    "                                                      ':Electricalfailureresultinginoverheatingmaterials',\n",
    "                                                      ':Electricalfailureresultinginoverheatingmaterials',\n",
    "                                                      'vElectrical failure resulting in overheating materials',\n",
    "                                                      ': Electrical failure resulting in overheating materials',\n",
    "                                                      'Electrical failure resulting in overheating materials\\n',\n",
    "                                                      ' Electrical failure resulting in overheating materials'],\n",
    "                                                     'Electrical failure resulting in overheating materials')\n",
    "\n",
    "EPRI_up['Fire Cause'] = EPRI_up['Fire Cause'].replace(['OverheatedMaterial(lubeoil,pumppacking,thermalinsulation,etc.)',\n",
    "                                                      ' Overheated Material (lube oil, pump packing, thermal insulation, etc.)',\n",
    "                                                      ' Overheated Material (lube oil, pump packing, thermal insulation, etc',\n",
    "                                                      'Overheated Material (lube oil, pump packing, thermal insulation, etc.'],\n",
    "                                                     'Overheated Material (lube oil, pump packing, thermal insulation, etc.)')\n",
    "\n",
    "EPRI_up['Fire Cause'] = EPRI_up['Fire Cause'].replace(['Hotwork(cutting/welding/grinding/etc.)',\n",
    "                                                      'Hot work (cutting/welding/grinding/etc',\n",
    "                                                      'Hot work (cutting/welding/grinding/etc.'],\n",
    "                                                     'Hot work (cutting/welding/grinding/etc.)')\n",
    "\n",
    "EPRI_up['Fire Cause'] = EPRI_up['Fire Cause'].replace(['Other(otherpersonnelerror,naturaleffect,etc.specifyincomments)',\n",
    "                                                      'Other (personnel error, natural effect, etc. specify in comments)',\n",
    "                                                      'Other (other personnel error, natural effect, etc. specify in comments'],\n",
    "                                                     'Other (other personnel error, natural effect, etc. specify in comments)')\n",
    "\n",
    "EPRI_up['Fire Cause'] = EPRI_up['Fire Cause'].replace(['Explosion (hydrogen gas ignition, fuel vapor ignition, other volatile fluid vapor ignition）',\n",
    "                                                      'Explosion (hydrogen gas ignition, fuel vapor ignition)'],\n",
    "                                                     'Explosion (hydrogen gas ignition, fuel vapor ignition, other volatile fluid vapor ignition)')\n",
    "\n",
    "EPRI_up['Fire Cause'] = EPRI_up['Fire Cause'].replace(['Personnelerrorduringtestandmaintenanceactivity', 'Unkno', \n",
    "                                                       'Mechanicalequipmentmalfunction/failure', 'Mechanical malfunction/failure',\n",
    "                                                      'Misuse of heating devices'],\n",
    "                                                      ['Personnel error during test and maintenance activity', 'Unknown', \n",
    "                                                       'Mechanical equipment malfunction/failure', 'Mechanical equipment malfunction/failure',\n",
    "                                                      'Personnel error: Misuse of heating devices'])\n",
    "\n",
    "EPRI_up['Fire Cause'] = EPRI_up['Fire Cause'].replace(['Flamingcombustion–externaltocomponent', 'Not Challenging',\n",
    "                                                       'In‐Situ', 'Potentially Challenging', 'Transient',\n",
    "                                                       'Trash (i.e., solid refuse collected for disposal)', '', 'Arc/electricdischarge',\n",
    "                                                                  'Electrical malfunction/failure', 'Electrical Failure (overheating, spark, HEAF)'],\n",
    "                                                     np.nan)\n",
    "EPRI_up['Fire Cause'] = EPRI_up['Fire Cause'].replace(['Electrical arcing or sparks (non‐HEAF)'],\n",
    "                                                     'Electrical arcing or sparks (non-HEAF)')"
   ]
  },
  {
   "cell_type": "code",
   "execution_count": null,
   "metadata": {},
   "outputs": [],
   "source": [
    "EPRI_up['Fire Cause'].value_counts()"
   ]
  },
  {
   "cell_type": "markdown",
   "metadata": {},
   "source": [
    "**Building**"
   ]
  },
  {
   "cell_type": "code",
   "execution_count": null,
   "metadata": {},
   "outputs": [],
   "source": [
    "EPRI_up['Building'].unique()"
   ]
  },
  {
   "cell_type": "code",
   "execution_count": null,
   "metadata": {},
   "outputs": [],
   "source": [
    "EPRI_up['Building'] = EPRI_up['Building'].replace(['Main Transformer or Switch Yard ',\n",
    "                                                              'Main\\xa0Transformer\\xa0or\\xa0Switch\\xa0Yard ',\n",
    "                                                              'Main\\xa0Transformer\\xa0or\\xa0Switch\\xa0Yard',\n",
    "                                                              ' Main Transformer or Switch Yard'],\n",
    "                                                             'Main Transformer or Switch Yard')\n",
    "\n",
    "EPRI_up['Building'] = EPRI_up['Building'].replace(['Auxiliary\\xa0Building\\xa0(PWR) ',\n",
    "                                                              'Auxiliary\\xa0Building\\xa0(PWR)',\n",
    "                                                              ' Auxiliary Building (PWR)'],\n",
    "                                                             'Auxiliary Building (PWR)')\n",
    "\n",
    "EPRI_up['Building'] = EPRI_up['Building'].replace(['Turbine\\xa0Building ',\n",
    "                                                              ' Turbine\\xa0Building ',\n",
    "                                                              'Turbine\\xa0Building',\n",
    "                                                              ' Turbine Building'],\n",
    "                                                             'Turbine Building')\n",
    "\n",
    "EPRI_up['Building'] = EPRI_up['Building'].replace(['Reactor\\xa0Building\\xa0(BWR) ',\n",
    "                                                              'Reactor\\xa0Building\\xa0(BWR)',\n",
    "                                                              ' Reactor Building (BWR)',\n",
    "                                                              ' Reactor\\xa0Building\\xa0(BWR) '],\n",
    "                                                             'Reactor Building (BWR)')\n",
    "\n",
    "EPRI_up['Building'] = EPRI_up['Building'].replace(['Radwaste\\xa0Building ',\n",
    "                                                              'Radwaste\\xa0Building',\n",
    "                                                              ' Radwaste\\xa0Building',\n",
    "                                                              ' Radwaste Building'],\n",
    "                                                             'Radwaste Building')\n",
    "\n",
    "EPRI_up['Building'] = EPRI_up['Building'].replace(['Other (Specify in comments) ',\n",
    "                                                              'Other\\xa0(Specify\\xa0in\\xa0comments) ',\n",
    "                                                              ' Other\\xa0(Specify\\xa0in\\xa0comments) ',\n",
    "                                                              ': Other (Specify in comments)',\n",
    "                                                              'Other\\xa0(Specify\\xa0in\\xa0comments)',\n",
    "                                                              ' Other (Specify in comments)',\n",
    "                                                              'Other (Specify in comment', 'Other\\xa0(Specify\\xa0in\\xa0comments',\n",
    "                                                  'Other (specify in comments)'],\n",
    "                                                             'Other (Specify in comments)')\n",
    "\n",
    "EPRI_up['Building'] = EPRI_up['Building'].replace(['Diesel\\xa0Generator\\xa0Building ',\n",
    "                                                              'Diesel\\xa0Generator\\xa0Building',\n",
    "                                                               'Diesel\\xa0Generator\\xa0Buildin',\n",
    "                                                              ' Diesel Generator Building'],\n",
    "                                                             'Diesel Generator Building')\n",
    "\n",
    "EPRI_up['Building'] = EPRI_up['Building'].replace(['Circulating\\xa0Water\\xa0Pump\\xa0house/Intake\\xa0Structure ',\n",
    "                                                              'Circulating\\xa0Water\\xa0Pump\\xa0house/Intake\\xa0Structure',\n",
    "                                                              ' Circulating Water Pump house/Intake Structure'],\n",
    "                                                             'Circulating Water Pump house/Intake Structure')\n",
    "\n",
    "EPRI_up['Building'] = EPRI_up['Building'].replace(['Containment\\xa0(PWR) ',\n",
    "                                                              ' Containment (PWR)'],\n",
    "                                                             'Containment (PWR)')\n",
    "\n",
    "EPRI_up['Building'] = EPRI_up['Building'].replace(['Drywell\\xa0(BWR) ',\n",
    "                                                              ' Drywell (BWR)'],\n",
    "                                                             'Drywell (BWR)')\n",
    "\n",
    "EPRI_up['Building'] = EPRI_up['Building'].replace(['Control\\xa0building ',\n",
    "                                                              ' Control building'],\n",
    "                                                             'Control building')\n",
    "\n",
    "EPRI_up['Building'] = EPRI_up['Building'].replace(['Service\\xa0Water\\xa0Pump\\xa0house ',\n",
    "                                                              'Main Control Room'],\n",
    "                                                              ['Service Water Pump house',\n",
    "                                                              np.nan])\n",
    "\n",
    "EPRI_up['Building'] = EPRI_up['Building'].replace(['Potentially Challenging', ' ',\n",
    "                                                               'Not Challenging', ' Main\\xa0Control\\xa0Room'],\n",
    "                                                             np.nan)\n",
    "\n",
    "EPRI_up['Building'] = EPRI_up['Building'].replace(['Turbine Building, Other (specify'],\n",
    "                                                 'Turbine Building')\n",
    "\n",
    "EPRI_up['Building'] = EPRI_up['Building'].replace(['Challenging', 'Battery Room',\n",
    "                                                  'Sewage Treatment', 'Warehouse'], np.nan)\n",
    "\n",
    "EPRI_up['Building'] = EPRI_up['Building'].replace(['Circulating Water Pump house/'],\n",
    "                                                  'Circulating Water Pump house/Intake Structure')\n",
    "\n",
    "EPRI_up['Building'] = EPRI_up['Building'].replace(['Main Transformer or Switch Yar'],\n",
    "                                                  'Main Transformer or Switch Yard')\n",
    "\n",
    "EPRI_up['Building'] = EPRI_up['Building'].replace(['Main Transformer or Switch Yar'],\n",
    "                                                  'Main Transformer or Switch Yard')\n",
    "\n",
    "EPRI_up['Building'].value_counts()"
   ]
  },
  {
   "cell_type": "markdown",
   "metadata": {},
   "source": [
    "**Combustible Group**"
   ]
  },
  {
   "cell_type": "code",
   "execution_count": null,
   "metadata": {},
   "outputs": [],
   "source": [
    "EPRI_up['Combustible Group'].unique()"
   ]
  },
  {
   "cell_type": "code",
   "execution_count": null,
   "metadata": {},
   "outputs": [],
   "source": [
    "EPRI_up['Combustible Group'] = EPRI_up['Combustible Group'].replace(['Other (other personnel error, natural effect, etc. specify in comments)', \n",
    "                                                         'Other electrical or electronic equipment', 'Hot work (cutting/welding/grinding/etc.)',\n",
    "                                                         'Mechanical equipment malfunction/failure', '3/19/2001', '3/19/2002', 'Electrical arcing or sparks (non‐HEAF)',\n",
    "                                                         'Overheating – no smoldering or flaming combustion',],\n",
    "                                                        np.nan) \n",
    "\n",
    "EPRI_up['Combustible Group'] = EPRI_up['Combustible Group'].replace(['n‐Situ', 'Unkno'],\n",
    "                                                       ['In‐Situ', 'Unknown'])\n",
    "\n",
    "EPRI_up['Combustible Group'] = EPRI_up['Combustible Group'].replace(['Transient(Gas)', 'Transient (Gas'],\n",
    "                                                       'Transient (Gas)')\n",
    "\n",
    "EPRI_up['Combustible Group'] = EPRI_up['Combustible Group'].replace(['In‐Situ', 'In-Situ', 'In Situ'], 'In_Situ')\n",
    "\n",
    "EPRI_up['Combustible Group'] = EPRI_up['Combustible Group'].replace('Transient (Gas)', 'Transient_Gas')\n",
    "\n",
    "EPRI_up['Combustible Group'] = EPRI_up['Combustible Group'].replace('Transient (Liquid)', 'Transient_Liquid')\n",
    "\n",
    "EPRI_up['Combustible Group'] = EPRI_up['Combustible Group'].replace(['nsulation'], 'Insulation')\n",
    "\n",
    "# EPRI_up['Combustible Group'].value_counts()"
   ]
  },
  {
   "cell_type": "markdown",
   "metadata": {},
   "source": [
    "**Combustible Group Type**"
   ]
  },
  {
   "cell_type": "code",
   "execution_count": null,
   "metadata": {},
   "outputs": [],
   "source": [
    "EPRI_up['Type'].unique()"
   ]
  },
  {
   "cell_type": "code",
   "execution_count": null,
   "metadata": {},
   "outputs": [],
   "source": [
    "EPRI_up['Type'] = EPRI_up['Type'].replace(['LubeOilorgrease',\n",
    "                                                      'Otherelectricalorelectronicequipmen',\n",
    "                                                      'Otherelectricalorelectronicequipment',\n",
    "                                                      'Temporaryelectricalwiringorequipment',\n",
    "                                                      'Thermalinsulationmaterials',\n",
    "                                                      'Trash(i.e.,solidrefusecollectedfordisposal)',\n",
    "                                                      'Temporarythermalinsulationmaterials',\n",
    "                                                      'Cleaningsolventsorpaint',\n",
    "                                                      'Cellulosicmaterialsincludingwood,paperorothersolidtransients',\n",
    "                                                      'Cellulosic materials including wood, paper or other solid transients\\nForm\\nN',\n",
    "                                                      'Structuralcomponen',\n",
    "                                                      'Structuralcomponen',\n",
    "                                                       'Structuralcomponent',\n",
    "                                                       'Other(specif', 'Other(specify)', 'Other(specify', 'Other (specify',\n",
    "                                                       'Trash (i.e., solid refuse collected for disposal',\n",
    "                                                       'Typenotspecified',\n",
    "                                          'Cellulosic materials including wood, paper or ot',\n",
    "                                          'Thermal insulation materials',\n",
    "                                          'Other Transient Combustible (specify)',\n",
    "                                          'Other (specify)',\n",
    "                                          'Other (specify)'],\n",
    "                                                     ['Lube Oil or grease',\n",
    "                                                     'Other electrical or electronic equipment',\n",
    "                                                     'Other electrical or electronic equipment',\n",
    "                                                     'Temporary electrical wiring or equipment',\n",
    "                                                     'Thermal insulation materials',\n",
    "                                                     'Trash (i.e., solid refuse collected for disposal)',\n",
    "                                                     'Temporary thermal insulation materials',\n",
    "                                                     'Cleaning solvents or paint',\n",
    "                                                     'Cellulosic materials including wood, paper or other solid transients',\n",
    "                                                     'Cellulosic materials including wood, paper or other solid transients',\n",
    "                                                     'Structural component',\n",
    "                                                     'Structural component',\n",
    "                                                      'Structural component', 'Other (specify)', 'Other (specify)', 'Other (specify)', 'Other (specify)',\n",
    "                                                      'Trash (i.e., solid refuse collected for disposal)',\n",
    "                                                      'Type not specified',\n",
    "                                                     'Cellulosic materials including wood, paper or other solid transients',\n",
    "                                                     'Temporary thermal insulation materials',\n",
    "                                                     'Other (Specify)',\n",
    "                                                     'Other (Specify)',\n",
    "                                                     'Other (Specify)'])\n",
    "\n",
    "EPRI_up['Type'] = EPRI_up['Type'].replace(['Other electrical or electronic equipmentOther electrical or electronic equipment',\n",
    "                                                      'Other electrical or electronic equipment\\n',\n",
    "                                                      'Other electrical or electronic euiment',\n",
    "                                                      ],\n",
    "                                                     'Other electrical or electronic equipment')\n",
    "\n",
    "EPRI_up['Type'] = EPRI_up['Type'].replace(['Flaming combustion – external to component',\n",
    "                                                      'Transient', 'Liquid',\n",
    "                                                      'Confined to the object of origin (localized/single subcomponent)',\n",
    "                                                      'No damage', 'Temporary ',\n",
    "                                                      'Fire not observed and fire type indeterminate from post‐inspecti',\n",
    "                                                      'Hot work (cutting/welding/grinding/etc.)', 'In‐Situ',\n",
    "                                          'Multiple Cables Not In Tray or Bundle',\n",
    "                                          'Single Cable Tray',\n",
    "                                          'Cable Tray Stack', 'Unknown'],\n",
    "                                                     np.nan)\n",
    "\n",
    "EPRI_up['Type'] = EPRI_up['Type'].replace(['Lube Oil or grease'],\n",
    "                                         'Lube Oil or Grease')\n",
    "\n",
    "EPRI_up['Type'] = EPRI_up['Type'].replace(['Other (specify)'],\n",
    "                                         'Other (Specify)')\n",
    "\n",
    "EPRI_up['Type'].value_counts()"
   ]
  },
  {
   "cell_type": "markdown",
   "metadata": {},
   "source": [
    "**Combustible Group Form**"
   ]
  },
  {
   "cell_type": "code",
   "execution_count": null,
   "metadata": {},
   "outputs": [],
   "source": [
    "EPRI_up['Form'].unique()"
   ]
  },
  {
   "cell_type": "code",
   "execution_count": null,
   "metadata": {},
   "outputs": [],
   "source": [
    "EPRI_up['Form'] = EPRI_up['Form'].str.replace(r'\\xa0', ' ')\n",
    "\n",
    "EPRI_up['Form'] = EPRI_up['Form'].replace(['Leak‐OilsoakedInsulation'],\n",
    "                                                     'Leak ‐ Oil soaked Insulation')\n",
    "\n",
    "EPRI_up['Form'] = EPRI_up['Form'].replace(['MultipleCablesNotInTrayorBundle'],\n",
    "                                                     'Multiple Cables Not In Tray or Bundle')\n",
    "\n",
    "EPRI_up['Form'] = EPRI_up['Form'].replace(['Other (specify)', 'Other(Specify)',\n",
    "                                                      'Other(specify)', 'Other (specify',\n",
    "                                          'Other (Specify'],\n",
    "                                                     'Other (Specify)')\n",
    "\n",
    "EPRI_up['Form'] = EPRI_up['Form'].replace(['Unconfinedspill', 'Pressurizedinacontainer',\n",
    "                                                      'Jetfromapressurizedsource', 'Spillconfinedbycurbsorotherphysicalfeat',\n",
    "                                                      'Containedwithincomponent', 'Containedwithinreservoir', 'SingleCable',\n",
    "                                          ],\n",
    "                                                     ['Unconfined spill', 'Pressurized in a container',\n",
    "                                                     'Jet from a pressurized source', 'Spill confined by curbs or other physical feat',\n",
    "                                                     'Contained within component', 'Contained within reservoir', 'Single Cable'])\n",
    "\n",
    "EPRI_up['Form'] = EPRI_up['Form'].replace(['Flaming combustion – external to component', 'Contained within'],\n",
    "                                                      np.nan)\n",
    "\n",
    "EPRI_up['Form'] = EPRI_up['Form'].replace(['NA, Insulation Multiple Bundles'],\n",
    "                                         'Multiple Bundles')\n",
    "\n",
    "EPRI_up['Form'] = EPRI_up['Form'].replace(['Leak ‐ Oil soaked Insulation', 'Leak - Oil soaked'],\n",
    "                                         'Leak - Oil soaked Insulation')\n",
    "\n",
    "EPRI_up['Form'].value_counts()"
   ]
  },
  {
   "cell_type": "markdown",
   "metadata": {},
   "source": [
    "**System**"
   ]
  },
  {
   "cell_type": "code",
   "execution_count": null,
   "metadata": {},
   "outputs": [],
   "source": [
    "EPRI_up['System'].unique()"
   ]
  },
  {
   "cell_type": "code",
   "execution_count": null,
   "metadata": {},
   "outputs": [],
   "source": [
    "EPRI_up['System'] = EPRI_up['System'].replace([' Switchyard\\xa0System', 'Switchyard\\xa0System',\n",
    "                                                          ' Switchyard System'],\n",
    "                                                         'Switchyard System')\n",
    "\n",
    "EPRI_up['System'] = EPRI_up['System'].replace([' Low\\xa0Voltage\\xa0Power\\xa0System\\xa0(600V\\xa0and\\xa0less)',\n",
    "                                                          'Low\\xa0Voltage\\xa0Power\\xa0System\\xa0(600V\\xa0and\\xa0less)',\n",
    "                                                          ' Low Voltage Power System (600V and less)',\n",
    "                                                          ' Low Voltage Power System (600V and less',\n",
    "                                                          'Low Voltage Power System (600V and less'],\n",
    "                                                         'Low Voltage Power System (600V and less)')\n",
    "EPRI_up['System'] = EPRI_up['System'].str.replace(r'\\xa0', ' ')\n",
    "\n",
    "EPRI_up['System'] = EPRI_up['System'].replace([' General Ventillation Systems',' Non Essential Service Water System',\n",
    "                                                           ' Essential Service Water System', ' Medium Voltage Power System (601V to 35kV)',\n",
    "                                                           ' Reactor Recirculation System (BWR)', ' Other ', ' Medium Voltage Power System, Class 1E',\n",
    "                                                           ' Feedwater System', ' DC Power System', 'Transformers ',\n",
    "                                                          ' High Pressure Safety Injection System (PWR)', ' Emergency Onsite Power Supply System',\n",
    "                                                          'Electric Motor', 'Pumps', 'Undetermined (PC‐CH)',\n",
    "                                                          'Fire in the Service Building.', 'Electrical panel'],\n",
    "                                                         ['General Ventillation Systems', 'Non Essential Service Water System',\n",
    "                                                         'Essential Service Water System', 'Medium Voltage Power System (601V to 35kV)',\n",
    "                                                         'Reactor Recirculation System (BWR)','Other', 'Medium Voltage Power System, Class 1E',\n",
    "                                                         'Feedwater System', 'DC Power System', np.nan,\n",
    "                                                         'High Pressure Safety Injection System (PWR)', 'Emergency Onsite Power Supply System',\n",
    "                                                         np.nan, np.nan, np.nan, np.nan, np.nan])\n",
    "\n",
    "EPRI_up['System'].value_counts()"
   ]
  },
  {
   "cell_type": "markdown",
   "metadata": {},
   "source": [
    "**Component Group**"
   ]
  },
  {
   "cell_type": "code",
   "execution_count": null,
   "metadata": {},
   "outputs": [],
   "source": [
    "EPRI_up['Component Group'].unique()"
   ]
  },
  {
   "cell_type": "code",
   "execution_count": null,
   "metadata": {},
   "outputs": [],
   "source": [
    "EPRI_up['Component Group'] = EPRI_up['Component Group'].str.replace(r'\\xa0', ' ')\n",
    "\n",
    "EPRI_up['Component Group'] = EPRI_up['Component Group'].replace(['Transformers ', 'Pumps ', ' Pumps ', 'Pump',\n",
    "                                                                            ' Pumps', ' Transformers ',\n",
    "                                                                            'Electric Motor ', 'Air Compressors ', ' Electric Motor ',\n",
    "                                                                            ' Batteries ', 'Boilers ', 'Lighting Ballasts ', 'Outlets ',\n",
    "                                                                            '   Other', ' Outlets', '  Junction Boxes', '  Lighting Ballasts',\n",
    "                                                                             '  Generator', '  Cable/Wiring', '   Transformers',\n",
    "                                                                            ' Other ', ' Transformers', ' Cable/Wiring ', ' Electrical panel ',\n",
    "                                                                            'Crane ', 'Cable/Wiring ', 'Batteries ', 'Generator ',\n",
    "                                                                            '  Inverter', ' Junction Boxes', '  Transformers', ' Fans', ' Lighting Ballasts',\n",
    "                                                                            'Low Voltage Power System (600V and less)', ' Batteries',\n",
    "                                                                            '  Electrical panel', ' Electrical panel', 'Electrical pane',\n",
    "                                                                            '  Electric Motor', ' Cable/Wiring', ' Air Compressors',\n",
    "                                                                            ' Electric Motor', ' Generator', ' Crane',\n",
    "                                                                            'Electrical panel '],\n",
    "                                                                           ['Transformers', 'Pumps', 'Pumps', 'Pumps',\n",
    "                                                                           'Pumps', 'Transformers',\n",
    "                                                                           'Electric Motor', 'Air Compressors', 'Electric Motor',\n",
    "                                                                           'Batteries', 'Boilers', 'Lighting Ballasts', 'Outlets',\n",
    "                                                                           'Other', 'Outlets', 'Junction Boxes', 'Lighting Ballasts',\n",
    "                                                                            'Generator', 'Cable/Wiring', 'Transformers',\n",
    "                                                                            'Other', 'Transformers', 'Cable/Wiring', 'Electrical panel',\n",
    "                                                                           'Crane', 'Cable/Wiring', 'Batteries', 'Generator',\n",
    "                                                                           'Inverter', 'Junction Boxes', 'Transformers', np.nan, 'Lighting Ballasts',\n",
    "                                                                           np.nan, 'Batteries',\n",
    "                                                                           'Electrical panel', 'Electrical panel', 'Electrical panel',\n",
    "                                                                           'Electric Motor', 'Cable/Wiring', 'Air Compressors',\n",
    "                                                                           'Electric Motor', 'Generator', 'Crane',\n",
    "                                                                           'Electrical panel'])\n",
    "\n",
    "EPRI_up['Component Group'] = EPRI_up['Component Group'].replace(['Other ', ' Other (Capacitor Voltage, Poten',\n",
    "                                                                             ' Other', '  Other',\n",
    "                                                                            'Other (Specify in comments)'],\n",
    "                                                                           'Other')\n",
    "\n",
    "EPRI_up['Component Group'] = EPRI_up['Component Group'].replace(['Lube Oil ', ' Lube Oil'],\n",
    "                                                                           'Lube Oil')\n",
    "\n",
    "EPRI_up['Component Group'] = EPRI_up['Component Group'].replace([' Electric motor driven pumps',\n",
    "                                                                            'Motor control center',\n",
    "                                                                            'General Ventillation Systems',\n",
    "                                                                            'Emergency Onsite Power Supply System'],\n",
    "                                                                           np.nan)\n",
    "EPRI_up['Component Group'] = EPRI_up['Component Group'].replace(['Main/Reheat Steam System', 'Inverter',\n",
    "                                                                'Yard Handling and Maintenance System', 'Electric heaters'],\n",
    "                                                               np.nan)\n",
    "\n",
    "\n",
    "#  EPRI_up['Component Group'].value_counts()"
   ]
  },
  {
   "cell_type": "markdown",
   "metadata": {},
   "source": [
    "**Component**"
   ]
  },
  {
   "cell_type": "code",
   "execution_count": null,
   "metadata": {},
   "outputs": [],
   "source": [
    "EPRI_up['Component'].unique()"
   ]
  },
  {
   "cell_type": "code",
   "execution_count": null,
   "metadata": {},
   "outputs": [],
   "source": [
    "EPRI_up['Component'] = EPRI_up['Component'].str.replace(r'\\xa0', ' ')"
   ]
  },
  {
   "cell_type": "code",
   "execution_count": null,
   "metadata": {},
   "outputs": [],
   "source": [
    "EPRI_up['Component'] = EPRI_up['Component'].replace([' Fans', 'Other ', 'Inverter ',\n",
    "                                                     '  Motor control center', ' Motor control center ',\n",
    "                                                    'Fans ', ' Switchgear ', ': Inverter',\n",
    "                                                    ' Elevator motor ', 'Elevator motor ',\n",
    "                                                    ' Elevator motor',\n",
    "                                                    ' Fans ', ' Crane motor', ' Inverter ', 'MG set ',\n",
    "                                                    ' Load center', ' MG set', 'Relay rack ',\n",
    "                                                    ' Crane motor ', 'Motor control center ', 'Battery charger ',\n",
    "                                                    ' Inverter', '  Relay rack', '  Diesel driven pumps',\n",
    "                                                    '  Main turbine generator', ' Dry transformer', ' Relay rack',\n",
    "                                                    ' Main turbine generator', ' Motor control center',\n",
    "                                                    'Diesel driven pumps ', 'Dry transformer ',\n",
    "                                                    'Wall Mounted or Sealed ', ' Wall Mounted or Sealed',\n",
    "                                                    'Electric Bus Bar or Bus Duct', ' Electric bus bar or bus duct',\n",
    "                                                    ' Turbine‐driven pump', 'Turbine-driven pump',\n",
    "                                                    ' Diesel driven pumps',\n",
    "                                                    ' Motor operated valve ', 'Main turbine generator '],\n",
    "                                                   ['Fans', 'Other', 'Inverter',\n",
    "                                                   'Motor control center', 'Motor control center',\n",
    "                                                   'Fans', 'Switchgear', 'Inverter',\n",
    "                                                   'Elevator motor', 'Elevator motor',\n",
    "                                                   'Elevator motor',\n",
    "                                                   'Fans', 'Crane motor', 'Inverter', 'MG set',\n",
    "                                                   'Load center', 'MG set', 'Relay rack',\n",
    "                                                   'Crane motor', 'Motor control center', 'Battery charger',\n",
    "                                                   'Inverter', 'Relay rack', 'Diesel driven pumps',\n",
    "                                                   'Main turbine generator', 'Dry transformer', 'Relay rack',\n",
    "                                                   'Main turbine generator', 'Motor control center',\n",
    "                                                   'Diesel driven pumps', 'Dry transformer',\n",
    "                                                   'Wall Mounted or Sealed', 'Wall Mounted or Sealed',\n",
    "                                                   'Electric bus bar or bus duct', 'Electric bus bar or bus duct',\n",
    "                                                   'Turbine‐driven pump', 'Turbine‐driven pump',\n",
    "                                                   'Diesel driven pumps',\n",
    "                                                   'Motor operated valve', 'Main turbine generator'])"
   ]
  },
  {
   "cell_type": "code",
   "execution_count": null,
   "metadata": {},
   "outputs": [],
   "source": [
    "EPRI_up['Component'] = EPRI_up['Component'].replace([' Class 1A emergency generator ',\n",
    "                                                    'Class 1A emergency generator ',\n",
    "                                                    '  Class 1A emergency generator',\n",
    "                                                    ' Class 1A emergency generator',\n",
    "                                                    '   Class 1A emergency generator'],\n",
    "                                                   'Class 1A emergency generator')"
   ]
  },
  {
   "cell_type": "code",
   "execution_count": null,
   "metadata": {},
   "outputs": [],
   "source": [
    "EPRI_up['Component'] = EPRI_up['Component'].replace(['Other (Capacitor Voltage, Poten ',\n",
    "                                                    ' Other (Capacitor Voltage, Poten ',\n",
    "                                                     ' Other (Capacitor Voltage, Poten',\n",
    "                                                    '  Other (Capacitor Voltage, Poten',\n",
    "                                                    'Other (Capacitor Voltage, Potential',\n",
    "                                                    'Other (Capacitor Voltage, Poten'],\n",
    "                                                   'Other (capacitor voltage, potential, etc.)')"
   ]
  },
  {
   "cell_type": "code",
   "execution_count": null,
   "metadata": {},
   "outputs": [],
   "source": [
    "EPRI_up['Component'] = EPRI_up['Component'].replace([' Other (specify in comments) ',\n",
    "                                                    'Other (specify in comments) ',\n",
    "                                                    '  Other (specify in comments)',\n",
    "                                                    ' Other (specify in comments)',\n",
    "                                                    'Other'],\n",
    "                                                   'Other (specify in comments)')"
   ]
  },
  {
   "cell_type": "code",
   "execution_count": null,
   "metadata": {},
   "outputs": [],
   "source": [
    "EPRI_up['Component'] = EPRI_up['Component'].replace([' Circuit breaker or other distribu ',\n",
    "                                                    'Circuit breaker or other distribu ',\n",
    "                                                    ' Circuit breaker or other distribu',\n",
    "                                                    '  Circuit breaker or other distribu',\n",
    "                                                    '  Circuit breaker or other distribu',\n",
    "                                                    'Circuit breaker or other distributio',\n",
    "                                                    '  Circuit breaker or other distribu',\n",
    "                                                    'Circuit breaker or other distribu'],\n",
    "                                                   'Circuit breaker or other distribution panel')"
   ]
  },
  {
   "cell_type": "code",
   "execution_count": null,
   "metadata": {},
   "outputs": [],
   "source": [
    "EPRI_up['Component'] = EPRI_up['Component'].replace([' Oil‐filled Transformer ',\n",
    "                                                    'Oil‐filled Transformer ',\n",
    "                                                    'Oil-filled Transformer'],\n",
    "                                                   'Oil‐filled Transformer')"
   ]
  },
  {
   "cell_type": "code",
   "execution_count": null,
   "metadata": {},
   "outputs": [],
   "source": [
    "EPRI_up['Component'] = EPRI_up['Component'].replace(['Electric motor driven pumps ', \n",
    "                                                     ' Electric motor driven pumps ', \n",
    "                                                     ' Electric motor driven pumps',\n",
    "                                                    '  Electric motor driven pumps',\n",
    "                                                    '   Electric motor driven pumps'],\n",
    "                                                   'Electric motor driven pumps')"
   ]
  },
  {
   "cell_type": "code",
   "execution_count": null,
   "metadata": {},
   "outputs": [],
   "source": [
    "EPRI_up['Component'] = EPRI_up['Component'].replace(['Other instrument/control cabin',\n",
    "                                                    ' Other instrument/control cabin ',\n",
    "                                                    ' Other instrument/control cabin',\n",
    "                                                    'Other instrument/control cabin ',\n",
    "                                                    ' Other instrument/control cabin',\n",
    "                                                    '  Other instrument/control cabin',\n",
    "                                                    'Other instrument/control cabinet'],\n",
    "                                                   'Other instrument/control cabinet')"
   ]
  },
  {
   "cell_type": "code",
   "execution_count": null,
   "metadata": {},
   "outputs": [],
   "source": [
    "EPRI_up['Component'] = EPRI_up['Component'].replace([' Main control board (i.e., the ma ',\n",
    "                                                    'Main control board (i.e., the ma ',\n",
    "                                                    'Main control board (i.e., the main'],\n",
    "                                                   'Main control board (i.e., the ma')"
   ]
  },
  {
   "cell_type": "code",
   "execution_count": null,
   "metadata": {},
   "outputs": [],
   "source": [
    "EPRI_up['Component'] = EPRI_up['Component'].replace(['Other generator (specify in com ', \n",
    "                                                     'Other generator (specify in com', \n",
    "                                                     ' Other generator (specify in com',\n",
    "                                                     'Other generator (specify in comme'],\n",
    "                                                   'Other generator (specify in comments)')"
   ]
  },
  {
   "cell_type": "code",
   "execution_count": null,
   "metadata": {},
   "outputs": [],
   "source": []
  },
  {
   "cell_type": "code",
   "execution_count": null,
   "metadata": {},
   "outputs": [],
   "source": [
    "EPRI_up['Component'].value_counts().sort_index(ascending=True)"
   ]
  },
  {
   "cell_type": "code",
   "execution_count": null,
   "metadata": {},
   "outputs": [],
   "source": []
  },
  {
   "cell_type": "code",
   "execution_count": null,
   "metadata": {},
   "outputs": [],
   "source": []
  },
  {
   "cell_type": "markdown",
   "metadata": {},
   "source": [
    "**Mode Prior**"
   ]
  },
  {
   "cell_type": "code",
   "execution_count": null,
   "metadata": {},
   "outputs": [],
   "source": [
    "EPRI_up['Mode Prior'].unique()"
   ]
  },
  {
   "cell_type": "code",
   "execution_count": null,
   "metadata": {},
   "outputs": [],
   "source": [
    "EPRI_up['Mode Prior'] = EPRI_up['Mode Prior'].str.replace(r'\\xa0', ' ')\n",
    "\n",
    "EPRI_up['Mode Prior'] = EPRI_up['Mode Prior'].replace([' Refueling', 'Refueling ',\n",
    "                                                                   ' Refueling ', 'efueling', 'Refueling M'],\n",
    "                                                                 'Refueling')\n",
    "\n",
    "EPRI_up['Mode Prior'] = EPRI_up['Mode Prior'].replace(['Operate ', ' Operate ', ' Operate',\n",
    "                                                                   ': Operate', 'Operat', 'Operate M'],\n",
    "                                                                 'Operate')\n",
    "\n",
    "EPRI_up['Mode Prior'] = EPRI_up['Mode Prior'].replace(['Cold Shutdown M',\n",
    "                                                                  'Cold Shutdown ', ' Cold Shutdown',\n",
    "                                                                  ': Cold Shutdown'],\n",
    "                                                                 'Cold Shutdown')\n",
    "\n",
    "EPRI_up['Mode Prior'] = EPRI_up['Mode Prior'].replace(['Unknown ', '5/5/2006', \n",
    "                                                                   'Undetermined (NC‐PC) R', 'Preliminary'],\n",
    "                                                                 ['Unknown', np.nan, np.nan, np.nan])\n",
    "\n",
    "# EPRI_up['Mode Prior'].value_counts()"
   ]
  },
  {
   "cell_type": "markdown",
   "metadata": {},
   "source": [
    "**Mode After**"
   ]
  },
  {
   "cell_type": "code",
   "execution_count": null,
   "metadata": {},
   "outputs": [],
   "source": [
    "EPRI_up['Mode After'].unique()"
   ]
  },
  {
   "cell_type": "code",
   "execution_count": null,
   "metadata": {},
   "outputs": [],
   "source": [
    "EPRI_up['Mode After'] = EPRI_up['Mode After'].str.replace(r'\\xa0', ' ')\n",
    "\n",
    "EPRI_up['Mode After'] = EPRI_up['Mode After'].replace(['Refueling ', ' Refueling',\n",
    "                                                                       ' Refueling ', ': Refueling',\n",
    "                                                                      ': Refueling P', 'Refuelin', 'Refueling P'],\n",
    "                                                                     'Refueling')\n",
    "\n",
    "EPRI_up['Mode After'] = EPRI_up['Mode After'].replace(['Operate ', ' Operate ',\n",
    "                                                                  ' Operate', ': Operate'\n",
    "                                                                  'Operate P', 'Operat',\n",
    "                                                                  ': Operate', 'Operate P'],\n",
    "                                                                 'Operate')\n",
    "\n",
    "EPRI_up['Mode After'] = EPRI_up['Mode After'].replace(['Cold Shutdown ', ' Cold Shutdown', ': Cold Shutdown'],\n",
    "                                                                 'Cold Shutdown')\n",
    "\n",
    "EPRI_up['Mode After'] = EPRI_up['Mode After'].replace([': Hot Standby', ' Hot Standby0'],\n",
    "                                                                 'Hot Standby')\n",
    "\n",
    "EPRI_up['Mode After'] = EPRI_up['Mode After'].replace(['Unknown ', ' Unknown', ': Unknown'],\n",
    "                                                                 'Unknown')\n",
    "\n",
    "EPRI_up['Mode After'] = EPRI_up['Mode After'].replace(['5/5/2006', 'Startup/Hot Sta', 'Hot Shutdown P'],\n",
    "                                                                 [np.nan, np.nan, 'Hot Shutdown'])\n",
    "\n",
    "EPRI_up['Mode After'].value_counts()"
   ]
  },
  {
   "cell_type": "markdown",
   "metadata": {},
   "source": [
    "**Plant Area**"
   ]
  },
  {
   "cell_type": "code",
   "execution_count": null,
   "metadata": {},
   "outputs": [],
   "source": [
    "EPRI_up['Plant Area'].unique()"
   ]
  },
  {
   "cell_type": "code",
   "execution_count": null,
   "metadata": {},
   "outputs": [],
   "source": [
    "EPRI_up['Plant Area'] = EPRI_up['Plant Area'].replace(['Switchgear\\xa0Room', ' Switchgear\\xa0Room',\n",
    "                                                                  ' Switchgear Room'], \n",
    "                                                                  'Switchgear Room')\n",
    "\n",
    "EPRI_up['Plant Area'] = EPRI_up['Plant Area'].replace(['Battery\\xa0Room',\n",
    "                                                                  ' Battery\\xa0Room'],\n",
    "                                                                 'Battery Room')\n",
    "\n",
    "EPRI_up['Plant Area'] = EPRI_up['Plant Area'].replace(['Cable\\xa0Spreading\\xa0Room'],\n",
    "                                                                 'Cable Spreading Room')\n",
    "\n",
    "EPRI_up['Plant Area'] = EPRI_up['Plant Area'].replace([' Main\\xa0Control\\xa0Room',\n",
    "                                                                  'Main\\xa0Control\\xa0Room',\n",
    "                                                                  ' Main Control Room'],\n",
    "                                                                 'Main Control Room')\n",
    "\n",
    "EPRI_up['Plant Area'] = EPRI_up['Plant Area'].replace([' Fuel\\xa0handling\\xa0area', ' Fuel handling area'],\n",
    "                                                                 'Fuel handling area')\n",
    "\n",
    "EPRI_up['Plant Area'] = EPRI_up['Plant Area'].replace([' Cable\\xa0vault/tunnel\\xa0area',\n",
    "                                                                  ' Cable vault/tunnel area'],\n",
    "                                                                 'Cable vault/tunnel area')\n",
    "\n",
    "EPRI_up['Plant Area'] = EPRI_up['Plant Area'].replace(['Potentially Challenging', ' Containment/Drywell'],\n",
    "                                                                  [np.nan, 'Containment/Drywell'])\n",
    "\n",
    "EPRI_up['Plant Area'].value_counts()"
   ]
  },
  {
   "cell_type": "markdown",
   "metadata": {},
   "source": [
    "**Detection Performance**"
   ]
  },
  {
   "cell_type": "code",
   "execution_count": null,
   "metadata": {},
   "outputs": [],
   "source": [
    "EPRI_up['Detection Performance'].unique()"
   ]
  },
  {
   "cell_type": "code",
   "execution_count": null,
   "metadata": {},
   "outputs": [],
   "source": [
    "EPRI_up['Detection Performance'] = EPRI_up['Detection Performance'].str.replace(r'\\xa0', ' ')"
   ]
  },
  {
   "cell_type": "code",
   "execution_count": null,
   "metadata": {},
   "outputs": [],
   "source": [
    "EPRI_up['Detection Performance'] = EPRI_up['Detection Performance'].replace(['Plant area had installed detection which did not actuate, fire was detected visually or by other means–no indication of system failure',\n",
    "                                                                            'Plant area had installed detection which did not，actuate, fire was detected visually or by other，means – no indication of system failure',\n",
    "                                                                            'Plant area had installed detection which did not actuate, fire was detected visually or by other，means – no indication of system failure',\n",
    "                                                                            'Plant area had installed detection which did not actuate, fire was detected visually or by other，means – no indication of system failure',\n",
    "                                                                            'Plant area had installed detection which did not,actuate, fire was detected visually or by other means – no indication of system failure',\n",
    "                                                                            'Plant area had installed detection which did no actuate, fire was detected visually or by other means – no indication of system failure',\n",
    "                                                                            'Plant area had installed detection which did not actuate, fire was detected visually or by other means – no indication of system failure',\n",
    "                                                                            'Plant area had installed detection which did not actuate, fire was detected visually or by other means – no indication of system failure system failure'],\n",
    "                                                                           'Plant area had installed detection which did not actuate, fire was detected visually or by other，means – no indication of system failure')"
   ]
  },
  {
   "cell_type": "code",
   "execution_count": null,
   "metadata": {},
   "outputs": [],
   "source": [
    "EPRI_up['Detection Performance'] = EPRI_up['Detection Performance'].replace([' Plant area did not have installed detection capability',\n",
    "                                                                            'Plant area did not have installed detection，capability'],\n",
    "                                                                           'Plant area did not have installed detection capability')"
   ]
  },
  {
   "cell_type": "code",
   "execution_count": null,
   "metadata": {},
   "outputs": [],
   "source": [
    "EPRI_up['Detection Performance'] = EPRI_up['Detection Performance'].replace([' Plant area had installed detection which actuated'],\n",
    "                                                                           'Plant area had installed detection which actuated')"
   ]
  },
  {
   "cell_type": "code",
   "execution_count": null,
   "metadata": {},
   "outputs": [],
   "source": [
    "EPRI_up['Detection Performance'] = EPRI_up['Detection Performance'].replace(['Unknow', ' Unknown'],\n",
    "                                                                           'Unknown')"
   ]
  },
  {
   "cell_type": "code",
   "execution_count": null,
   "metadata": {},
   "outputs": [],
   "source": [
    "EPRI_up['Detection Performance'] = EPRI_up['Detection Performance'].replace(['Self‐extinguished (no plant staff intervention)',\n",
    "                                                                            'Fuel supply removed (simple manual action e.g valve turn off)',\n",
    "                                                                            'Hose stream or hose reel,Multiple portable fire extinguishers'],\n",
    "                                                                           np.nan)"
   ]
  },
  {
   "cell_type": "markdown",
   "metadata": {},
   "source": [
    "**New Disposition**"
   ]
  },
  {
   "cell_type": "code",
   "execution_count": null,
   "metadata": {},
   "outputs": [],
   "source": [
    "EPRI_up['Disposition_new'] = EPRI_up['Disposition_FES']"
   ]
  },
  {
   "cell_type": "code",
   "execution_count": null,
   "metadata": {},
   "outputs": [],
   "source": [
    "EPRI_up['Disposition_new'] = EPRI_up['Disposition_new'].replace(['Challenging', 'Potentially Challenging', 'Undetermined (PC‐CH)'],\n",
    "                                                                     'Challenging')\n",
    "\n",
    "EPRI_up['Disposition_new'] = EPRI_up['Disposition_new'].replace(['Not Challenging', 'Undetermined (NC‐PC)'],\n",
    "                                                                     'Not Challenging')\n",
    "\n",
    "EPRI_up['Disposition_new'] = EPRI_up['Disposition_new'].replace(['Undetermined', 'Not Evaluated'],\n",
    "                                                                     'Not Evaluated')\n",
    "\n",
    "# print(EPRI_up['Disposition_new'].unique())\n"
   ]
  },
  {
   "cell_type": "code",
   "execution_count": null,
   "metadata": {},
   "outputs": [],
   "source": []
  },
  {
   "cell_type": "code",
   "execution_count": null,
   "metadata": {},
   "outputs": [],
   "source": []
  },
  {
   "cell_type": "code",
   "execution_count": null,
   "metadata": {},
   "outputs": [],
   "source": []
  },
  {
   "cell_type": "markdown",
   "metadata": {},
   "source": [
    "# Save Data"
   ]
  },
  {
   "cell_type": "code",
   "execution_count": null,
   "metadata": {},
   "outputs": [],
   "source": [
    "EPRI_up.to_excel(sys_up_data + 'EPRI_1990-2014.xlsx')"
   ]
  },
  {
   "cell_type": "code",
   "execution_count": null,
   "metadata": {},
   "outputs": [],
   "source": []
  }
 ],
 "metadata": {
  "kernelspec": {
   "display_name": "Python 3",
   "language": "python",
   "name": "python3"
  },
  "language_info": {
   "codemirror_mode": {
    "name": "ipython",
    "version": 3
   },
   "file_extension": ".py",
   "mimetype": "text/x-python",
   "name": "python",
   "nbconvert_exporter": "python",
   "pygments_lexer": "ipython3",
   "version": "3.7.3"
  }
 },
 "nbformat": 4,
 "nbformat_minor": 4
}
